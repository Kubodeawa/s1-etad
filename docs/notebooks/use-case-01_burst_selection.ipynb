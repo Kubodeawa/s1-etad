{
 "cells": [
  {
   "cell_type": "markdown",
   "metadata": {
    "toc-hr-collapsed": false
   },
   "source": [
    "# Use case 1: selecting bursts"
   ]
  },
  {
   "cell_type": "markdown",
   "metadata": {},
   "source": [
    "## Notebook setup"
   ]
  },
  {
   "cell_type": "code",
   "execution_count": 1,
   "metadata": {},
   "outputs": [],
   "source": [
    "%matplotlib inline\n",
    "%load_ext autoreload\n",
    "%autoreload 2"
   ]
  },
  {
   "cell_type": "code",
   "execution_count": 2,
   "metadata": {},
   "outputs": [],
   "source": [
    "import sys\n",
    "sys.path.append('../..')"
   ]
  },
  {
   "cell_type": "code",
   "execution_count": 3,
   "metadata": {},
   "outputs": [],
   "source": [
    "import numpy as np\n",
    "import matplotlib.pyplot as plt"
   ]
  },
  {
   "cell_type": "code",
   "execution_count": 4,
   "metadata": {},
   "outputs": [],
   "source": [
    "import s1etad\n",
    "from s1etad import Sentinel1Etad, ECorrectionType"
   ]
  },
  {
   "cell_type": "markdown",
   "metadata": {},
   "source": [
    "## Open the dataset"
   ]
  },
  {
   "cell_type": "code",
   "execution_count": 5,
   "metadata": {},
   "outputs": [],
   "source": [
    "filename = '../../sample-products/S1B_IW_ETA__AXDH_20200127T113414_20200127T113858_020002_025D72_0096.SAFE'"
   ]
  },
  {
   "cell_type": "code",
   "execution_count": 6,
   "metadata": {},
   "outputs": [],
   "source": [
    "eta = Sentinel1Etad(filename)"
   ]
  },
  {
   "cell_type": "code",
   "execution_count": 7,
   "metadata": {},
   "outputs": [
    {
     "data": {
      "text/plain": [
       "Sentinel1Etad(\"../../sample-products/S1B_IW_ETA__AXDH_20200127T113414_20200127T113858_020002_025D72_0096.SAFE\")  # 0x7f9193d5c390\n",
       "Number of Sentinel-1 slices: 11\n",
       "Sentinel-1 products list:\n",
       "  S1B_IW_SLC__1ADH_20200127T113414_20200127T113444_020002_025D72_FD42.SAFE\n",
       "  S1B_IW_SLC__1ADH_20200127T113442_20200127T113510_020002_025D72_FC8F.SAFE\n",
       "  S1B_IW_SLC__1ADH_20200127T113507_20200127T113534_020002_025D72_78DF.SAFE\n",
       "  S1B_IW_SLC__1ADH_20200127T113532_20200127T113559_020002_025D72_1ABB.SAFE\n",
       "  S1B_IW_SLC__1ADH_20200127T113557_20200127T113624_020002_025D72_6706.SAFE\n",
       "  S1B_IW_SLC__1ADH_20200127T113622_20200127T113649_020002_025D72_78F0.SAFE\n",
       "  S1B_IW_SLC__1ADH_20200127T113647_20200127T113715_020002_025D72_11FB.SAFE\n",
       "  S1B_IW_SLC__1ADH_20200127T113712_20200127T113739_020002_025D72_FCC6.SAFE\n",
       "  S1B_IW_SLC__1ADH_20200127T113737_20200127T113804_020002_025D72_1FED.SAFE\n",
       "  S1B_IW_SLC__1ADH_20200127T113802_20200127T113829_020002_025D72_C434.SAFE\n",
       "  S1B_IW_SLC__1ADH_20200127T113827_20200127T113858_020002_025D72_E443.SAFE\n",
       "Number of swaths: 3\n",
       "Swath list: IW1, IW2, IW3\n",
       "Grid sampling:\n",
       "  x: 8.081406101630269e-07\n",
       "  y: 0.028777788199999974\n",
       "  unit: s\n",
       "Grid spacing:\n",
       "  x: 200.0\n",
       "  y: 200.0\n",
       "  unit: m\n",
       "Processing settings:\n",
       "  troposphericDelayCorrection: True\n",
       "  ionosphericDelayCorrection: True\n",
       "  solidEarthTideCorrection: True\n",
       "  bistaticAzimuthCorrection: True\n",
       "  dopplerShiftRangeCorrection: True\n",
       "  FMMismatchAzimuthCorrection: True"
      ]
     },
     "execution_count": 7,
     "metadata": {},
     "output_type": "execute_result"
    }
   ],
   "source": [
    "eta"
   ]
  },
  {
   "cell_type": "markdown",
   "metadata": {
    "toc-hr-collapsed": false
   },
   "source": [
    "## Selecting the burst by filtering in time"
   ]
  },
  {
   "cell_type": "markdown",
   "metadata": {},
   "source": [
    "The availability of the burst catalogue, allows to perform queries and filter the burst by performing time selection using the __first_time__ and __last_time__ keywords of the __query_burst__ method.\n",
    "\n",
    "If no time is provided then all the burst are selected:"
   ]
  },
  {
   "cell_type": "code",
   "execution_count": 8,
   "metadata": {},
   "outputs": [
    {
     "name": "stdout",
     "output_type": "stream",
     "text": [
      "Number of bursts: 306\n"
     ]
    },
    {
     "data": {
      "text/html": [
       "<div>\n",
       "<style scoped>\n",
       "    .dataframe tbody tr th:only-of-type {\n",
       "        vertical-align: middle;\n",
       "    }\n",
       "\n",
       "    .dataframe tbody tr th {\n",
       "        vertical-align: top;\n",
       "    }\n",
       "\n",
       "    .dataframe thead th {\n",
       "        text-align: right;\n",
       "    }\n",
       "</style>\n",
       "<table border=\"1\" class=\"dataframe\">\n",
       "  <thead>\n",
       "    <tr style=\"text-align: right;\">\n",
       "      <th></th>\n",
       "      <th>bIndex</th>\n",
       "      <th>pIndex</th>\n",
       "      <th>sIndex</th>\n",
       "      <th>productID</th>\n",
       "      <th>swathID</th>\n",
       "      <th>azimuthTimeMin</th>\n",
       "      <th>azimuthTimeMax</th>\n",
       "    </tr>\n",
       "  </thead>\n",
       "  <tbody>\n",
       "    <tr>\n",
       "      <th>0</th>\n",
       "      <td>1</td>\n",
       "      <td>1</td>\n",
       "      <td>1</td>\n",
       "      <td>S1B_IW_SLC__1ADH_20200127T113414_20200127T1134...</td>\n",
       "      <td>IW1</td>\n",
       "      <td>2020-01-27 11:34:14.475597</td>\n",
       "      <td>2020-01-27 11:34:17.641154</td>\n",
       "    </tr>\n",
       "    <tr>\n",
       "      <th>10</th>\n",
       "      <td>2</td>\n",
       "      <td>1</td>\n",
       "      <td>2</td>\n",
       "      <td>S1B_IW_SLC__1ADH_20200127T113414_20200127T1134...</td>\n",
       "      <td>IW2</td>\n",
       "      <td>2020-01-27 11:34:15.396486</td>\n",
       "      <td>2020-01-27 11:34:18.619599</td>\n",
       "    </tr>\n",
       "    <tr>\n",
       "      <th>20</th>\n",
       "      <td>3</td>\n",
       "      <td>1</td>\n",
       "      <td>3</td>\n",
       "      <td>S1B_IW_SLC__1ADH_20200127T113414_20200127T1134...</td>\n",
       "      <td>IW3</td>\n",
       "      <td>2020-01-27 11:34:16.374931</td>\n",
       "      <td>2020-01-27 11:34:19.569266</td>\n",
       "    </tr>\n",
       "    <tr>\n",
       "      <th>1</th>\n",
       "      <td>4</td>\n",
       "      <td>1</td>\n",
       "      <td>1</td>\n",
       "      <td>S1B_IW_SLC__1ADH_20200127T113414_20200127T1134...</td>\n",
       "      <td>IW1</td>\n",
       "      <td>2020-01-27 11:34:17.209487</td>\n",
       "      <td>2020-01-27 11:34:20.403822</td>\n",
       "    </tr>\n",
       "    <tr>\n",
       "      <th>11</th>\n",
       "      <td>5</td>\n",
       "      <td>1</td>\n",
       "      <td>2</td>\n",
       "      <td>S1B_IW_SLC__1ADH_20200127T113414_20200127T1134...</td>\n",
       "      <td>IW2</td>\n",
       "      <td>2020-01-27 11:34:18.159154</td>\n",
       "      <td>2020-01-27 11:34:21.353489</td>\n",
       "    </tr>\n",
       "  </tbody>\n",
       "</table>\n",
       "</div>"
      ],
      "text/plain": [
       "    bIndex  pIndex  sIndex                                          productID  \\\n",
       "0        1       1       1  S1B_IW_SLC__1ADH_20200127T113414_20200127T1134...   \n",
       "10       2       1       2  S1B_IW_SLC__1ADH_20200127T113414_20200127T1134...   \n",
       "20       3       1       3  S1B_IW_SLC__1ADH_20200127T113414_20200127T1134...   \n",
       "1        4       1       1  S1B_IW_SLC__1ADH_20200127T113414_20200127T1134...   \n",
       "11       5       1       2  S1B_IW_SLC__1ADH_20200127T113414_20200127T1134...   \n",
       "\n",
       "   swathID             azimuthTimeMin             azimuthTimeMax  \n",
       "0      IW1 2020-01-27 11:34:14.475597 2020-01-27 11:34:17.641154  \n",
       "10     IW2 2020-01-27 11:34:15.396486 2020-01-27 11:34:18.619599  \n",
       "20     IW3 2020-01-27 11:34:16.374931 2020-01-27 11:34:19.569266  \n",
       "1      IW1 2020-01-27 11:34:17.209487 2020-01-27 11:34:20.403822  \n",
       "11     IW2 2020-01-27 11:34:18.159154 2020-01-27 11:34:21.353489  "
      ]
     },
     "execution_count": 8,
     "metadata": {},
     "output_type": "execute_result"
    }
   ],
   "source": [
    "df = eta.query_burst()\n",
    "\n",
    "print(f\"Number of bursts: {len(df)}\")\n",
    "df.head()"
   ]
  },
  {
   "cell_type": "markdown",
   "metadata": {},
   "source": [
    "It is possible to reduce the selection by **start time** in this case the **stop time** is the last available burst:"
   ]
  },
  {
   "cell_type": "code",
   "execution_count": 9,
   "metadata": {},
   "outputs": [
    {
     "name": "stdout",
     "output_type": "stream",
     "text": [
      "Number of bursts: 5\n"
     ]
    },
    {
     "data": {
      "text/html": [
       "<div>\n",
       "<style scoped>\n",
       "    .dataframe tbody tr th:only-of-type {\n",
       "        vertical-align: middle;\n",
       "    }\n",
       "\n",
       "    .dataframe tbody tr th {\n",
       "        vertical-align: top;\n",
       "    }\n",
       "\n",
       "    .dataframe thead th {\n",
       "        text-align: right;\n",
       "    }\n",
       "</style>\n",
       "<table border=\"1\" class=\"dataframe\">\n",
       "  <thead>\n",
       "    <tr style=\"text-align: right;\">\n",
       "      <th></th>\n",
       "      <th>bIndex</th>\n",
       "      <th>pIndex</th>\n",
       "      <th>sIndex</th>\n",
       "      <th>productID</th>\n",
       "      <th>swathID</th>\n",
       "      <th>azimuthTimeMin</th>\n",
       "      <th>azimuthTimeMax</th>\n",
       "    </tr>\n",
       "  </thead>\n",
       "  <tbody>\n",
       "    <tr>\n",
       "      <th>293</th>\n",
       "      <td>302</td>\n",
       "      <td>11</td>\n",
       "      <td>2</td>\n",
       "      <td>S1B_IW_SLC__1ADH_20200127T113827_20200127T1138...</td>\n",
       "      <td>IW2</td>\n",
       "      <td>2020-01-27 11:38:51.231586</td>\n",
       "      <td>2020-01-27 11:38:54.425921</td>\n",
       "    </tr>\n",
       "    <tr>\n",
       "      <th>304</th>\n",
       "      <td>303</td>\n",
       "      <td>11</td>\n",
       "      <td>3</td>\n",
       "      <td>S1B_IW_SLC__1ADH_20200127T113827_20200127T1138...</td>\n",
       "      <td>IW3</td>\n",
       "      <td>2020-01-27 11:38:52.181253</td>\n",
       "      <td>2020-01-27 11:38:55.404366</td>\n",
       "    </tr>\n",
       "    <tr>\n",
       "      <th>284</th>\n",
       "      <td>304</td>\n",
       "      <td>11</td>\n",
       "      <td>1</td>\n",
       "      <td>S1B_IW_SLC__1ADH_20200127T113827_20200127T1138...</td>\n",
       "      <td>IW1</td>\n",
       "      <td>2020-01-27 11:38:53.044587</td>\n",
       "      <td>2020-01-27 11:38:56.238921</td>\n",
       "    </tr>\n",
       "    <tr>\n",
       "      <th>294</th>\n",
       "      <td>305</td>\n",
       "      <td>11</td>\n",
       "      <td>2</td>\n",
       "      <td>S1B_IW_SLC__1ADH_20200127T113827_20200127T1138...</td>\n",
       "      <td>IW2</td>\n",
       "      <td>2020-01-27 11:38:53.994254</td>\n",
       "      <td>2020-01-27 11:38:57.188588</td>\n",
       "    </tr>\n",
       "    <tr>\n",
       "      <th>305</th>\n",
       "      <td>306</td>\n",
       "      <td>11</td>\n",
       "      <td>3</td>\n",
       "      <td>S1B_IW_SLC__1ADH_20200127T113827_20200127T1138...</td>\n",
       "      <td>IW3</td>\n",
       "      <td>2020-01-27 11:38:54.943921</td>\n",
       "      <td>2020-01-27 11:38:58.167033</td>\n",
       "    </tr>\n",
       "  </tbody>\n",
       "</table>\n",
       "</div>"
      ],
      "text/plain": [
       "     bIndex  pIndex  sIndex  \\\n",
       "293     302      11       2   \n",
       "304     303      11       3   \n",
       "284     304      11       1   \n",
       "294     305      11       2   \n",
       "305     306      11       3   \n",
       "\n",
       "                                             productID swathID  \\\n",
       "293  S1B_IW_SLC__1ADH_20200127T113827_20200127T1138...     IW2   \n",
       "304  S1B_IW_SLC__1ADH_20200127T113827_20200127T1138...     IW3   \n",
       "284  S1B_IW_SLC__1ADH_20200127T113827_20200127T1138...     IW1   \n",
       "294  S1B_IW_SLC__1ADH_20200127T113827_20200127T1138...     IW2   \n",
       "305  S1B_IW_SLC__1ADH_20200127T113827_20200127T1138...     IW3   \n",
       "\n",
       "                azimuthTimeMin             azimuthTimeMax  \n",
       "293 2020-01-27 11:38:51.231586 2020-01-27 11:38:54.425921  \n",
       "304 2020-01-27 11:38:52.181253 2020-01-27 11:38:55.404366  \n",
       "284 2020-01-27 11:38:53.044587 2020-01-27 11:38:56.238921  \n",
       "294 2020-01-27 11:38:53.994254 2020-01-27 11:38:57.188588  \n",
       "305 2020-01-27 11:38:54.943921 2020-01-27 11:38:58.167033  "
      ]
     },
     "execution_count": 9,
     "metadata": {},
     "output_type": "execute_result"
    }
   ],
   "source": [
    "import dateutil\n",
    "first_time = dateutil.parser.parse('2020-01-27T11:38:51.231586')\n",
    "\n",
    "df = eta.query_burst(first_time=first_time)\n",
    "\n",
    "print(f\"Number of bursts: {len(df)}\")\n",
    "df.head()"
   ]
  },
  {
   "cell_type": "markdown",
   "metadata": {},
   "source": [
    "It is possible to reduce the selection by the **stop time** in this case the **start time** is the first available burst:"
   ]
  },
  {
   "cell_type": "code",
   "execution_count": 10,
   "metadata": {},
   "outputs": [
    {
     "name": "stdout",
     "output_type": "stream",
     "text": [
      "Number of bursts: 4\n"
     ]
    },
    {
     "data": {
      "text/html": [
       "<div>\n",
       "<style scoped>\n",
       "    .dataframe tbody tr th:only-of-type {\n",
       "        vertical-align: middle;\n",
       "    }\n",
       "\n",
       "    .dataframe tbody tr th {\n",
       "        vertical-align: top;\n",
       "    }\n",
       "\n",
       "    .dataframe thead th {\n",
       "        text-align: right;\n",
       "    }\n",
       "</style>\n",
       "<table border=\"1\" class=\"dataframe\">\n",
       "  <thead>\n",
       "    <tr style=\"text-align: right;\">\n",
       "      <th></th>\n",
       "      <th>bIndex</th>\n",
       "      <th>pIndex</th>\n",
       "      <th>sIndex</th>\n",
       "      <th>productID</th>\n",
       "      <th>swathID</th>\n",
       "      <th>azimuthTimeMin</th>\n",
       "      <th>azimuthTimeMax</th>\n",
       "    </tr>\n",
       "  </thead>\n",
       "  <tbody>\n",
       "    <tr>\n",
       "      <th>0</th>\n",
       "      <td>1</td>\n",
       "      <td>1</td>\n",
       "      <td>1</td>\n",
       "      <td>S1B_IW_SLC__1ADH_20200127T113414_20200127T1134...</td>\n",
       "      <td>IW1</td>\n",
       "      <td>2020-01-27 11:34:14.475597</td>\n",
       "      <td>2020-01-27 11:34:17.641154</td>\n",
       "    </tr>\n",
       "    <tr>\n",
       "      <th>10</th>\n",
       "      <td>2</td>\n",
       "      <td>1</td>\n",
       "      <td>2</td>\n",
       "      <td>S1B_IW_SLC__1ADH_20200127T113414_20200127T1134...</td>\n",
       "      <td>IW2</td>\n",
       "      <td>2020-01-27 11:34:15.396486</td>\n",
       "      <td>2020-01-27 11:34:18.619599</td>\n",
       "    </tr>\n",
       "    <tr>\n",
       "      <th>20</th>\n",
       "      <td>3</td>\n",
       "      <td>1</td>\n",
       "      <td>3</td>\n",
       "      <td>S1B_IW_SLC__1ADH_20200127T113414_20200127T1134...</td>\n",
       "      <td>IW3</td>\n",
       "      <td>2020-01-27 11:34:16.374931</td>\n",
       "      <td>2020-01-27 11:34:19.569266</td>\n",
       "    </tr>\n",
       "    <tr>\n",
       "      <th>1</th>\n",
       "      <td>4</td>\n",
       "      <td>1</td>\n",
       "      <td>1</td>\n",
       "      <td>S1B_IW_SLC__1ADH_20200127T113414_20200127T1134...</td>\n",
       "      <td>IW1</td>\n",
       "      <td>2020-01-27 11:34:17.209487</td>\n",
       "      <td>2020-01-27 11:34:20.403822</td>\n",
       "    </tr>\n",
       "  </tbody>\n",
       "</table>\n",
       "</div>"
      ],
      "text/plain": [
       "    bIndex  pIndex  sIndex                                          productID  \\\n",
       "0        1       1       1  S1B_IW_SLC__1ADH_20200127T113414_20200127T1134...   \n",
       "10       2       1       2  S1B_IW_SLC__1ADH_20200127T113414_20200127T1134...   \n",
       "20       3       1       3  S1B_IW_SLC__1ADH_20200127T113414_20200127T1134...   \n",
       "1        4       1       1  S1B_IW_SLC__1ADH_20200127T113414_20200127T1134...   \n",
       "\n",
       "   swathID             azimuthTimeMin             azimuthTimeMax  \n",
       "0      IW1 2020-01-27 11:34:14.475597 2020-01-27 11:34:17.641154  \n",
       "10     IW2 2020-01-27 11:34:15.396486 2020-01-27 11:34:18.619599  \n",
       "20     IW3 2020-01-27 11:34:16.374931 2020-01-27 11:34:19.569266  \n",
       "1      IW1 2020-01-27 11:34:17.209487 2020-01-27 11:34:20.403822  "
      ]
     },
     "execution_count": 10,
     "metadata": {},
     "output_type": "execute_result"
    }
   ],
   "source": [
    "last_time =  dateutil.parser.parse('2020-01-27T11:34:20.403822')\n",
    "\n",
    "df = eta.query_burst(last_time=last_time)\n",
    "\n",
    "print(f\"Number of bursts: {len(df)}\")\n",
    "df.head()"
   ]
  },
  {
   "cell_type": "markdown",
   "metadata": {},
   "source": [
    "It is possible to reduce the selection by the **start** and **stop time**:"
   ]
  },
  {
   "cell_type": "code",
   "execution_count": 11,
   "metadata": {},
   "outputs": [
    {
     "name": "stdout",
     "output_type": "stream",
     "text": [
      "Number of bursts: 2\n"
     ]
    },
    {
     "data": {
      "text/html": [
       "<div>\n",
       "<style scoped>\n",
       "    .dataframe tbody tr th:only-of-type {\n",
       "        vertical-align: middle;\n",
       "    }\n",
       "\n",
       "    .dataframe tbody tr th {\n",
       "        vertical-align: top;\n",
       "    }\n",
       "\n",
       "    .dataframe thead th {\n",
       "        text-align: right;\n",
       "    }\n",
       "</style>\n",
       "<table border=\"1\" class=\"dataframe\">\n",
       "  <thead>\n",
       "    <tr style=\"text-align: right;\">\n",
       "      <th></th>\n",
       "      <th>bIndex</th>\n",
       "      <th>pIndex</th>\n",
       "      <th>sIndex</th>\n",
       "      <th>productID</th>\n",
       "      <th>swathID</th>\n",
       "      <th>azimuthTimeMin</th>\n",
       "      <th>azimuthTimeMax</th>\n",
       "    </tr>\n",
       "  </thead>\n",
       "  <tbody>\n",
       "    <tr>\n",
       "      <th>1</th>\n",
       "      <td>4</td>\n",
       "      <td>1</td>\n",
       "      <td>1</td>\n",
       "      <td>S1B_IW_SLC__1ADH_20200127T113414_20200127T1134...</td>\n",
       "      <td>IW1</td>\n",
       "      <td>2020-01-27 11:34:17.209487</td>\n",
       "      <td>2020-01-27 11:34:20.403822</td>\n",
       "    </tr>\n",
       "    <tr>\n",
       "      <th>11</th>\n",
       "      <td>5</td>\n",
       "      <td>1</td>\n",
       "      <td>2</td>\n",
       "      <td>S1B_IW_SLC__1ADH_20200127T113414_20200127T1134...</td>\n",
       "      <td>IW2</td>\n",
       "      <td>2020-01-27 11:34:18.159154</td>\n",
       "      <td>2020-01-27 11:34:21.353489</td>\n",
       "    </tr>\n",
       "  </tbody>\n",
       "</table>\n",
       "</div>"
      ],
      "text/plain": [
       "    bIndex  pIndex  sIndex                                          productID  \\\n",
       "1        4       1       1  S1B_IW_SLC__1ADH_20200127T113414_20200127T1134...   \n",
       "11       5       1       2  S1B_IW_SLC__1ADH_20200127T113414_20200127T1134...   \n",
       "\n",
       "   swathID             azimuthTimeMin             azimuthTimeMax  \n",
       "1      IW1 2020-01-27 11:34:17.209487 2020-01-27 11:34:20.403822  \n",
       "11     IW2 2020-01-27 11:34:18.159154 2020-01-27 11:34:21.353489  "
      ]
     },
     "execution_count": 11,
     "metadata": {},
     "output_type": "execute_result"
    }
   ],
   "source": [
    "first_time = dateutil.parser.parse('2020-01-27T11:34:17.209487')\n",
    "last_time =  dateutil.parser.parse('2020-01-27T11:34:21.353489')\n",
    "\n",
    "# query the catalogues for of all the swaths\n",
    "df = eta.query_burst(first_time=first_time, last_time=last_time)\n",
    "print(f\"Number of bursts: {len(df)}\")\n",
    "df.head()"
   ]
  },
  {
   "cell_type": "markdown",
   "metadata": {},
   "source": [
    "## Selecting by swath (and time)"
   ]
  },
  {
   "cell_type": "markdown",
   "metadata": {},
   "source": [
    "The time selection can be combined with a selection by swath using the __swath__ keyword.\n",
    "If not used all the swath are used"
   ]
  },
  {
   "cell_type": "code",
   "execution_count": 12,
   "metadata": {},
   "outputs": [
    {
     "name": "stdout",
     "output_type": "stream",
     "text": [
      "Number of bursts: 1\n"
     ]
    },
    {
     "data": {
      "text/html": [
       "<div>\n",
       "<style scoped>\n",
       "    .dataframe tbody tr th:only-of-type {\n",
       "        vertical-align: middle;\n",
       "    }\n",
       "\n",
       "    .dataframe tbody tr th {\n",
       "        vertical-align: top;\n",
       "    }\n",
       "\n",
       "    .dataframe thead th {\n",
       "        text-align: right;\n",
       "    }\n",
       "</style>\n",
       "<table border=\"1\" class=\"dataframe\">\n",
       "  <thead>\n",
       "    <tr style=\"text-align: right;\">\n",
       "      <th></th>\n",
       "      <th>bIndex</th>\n",
       "      <th>pIndex</th>\n",
       "      <th>sIndex</th>\n",
       "      <th>productID</th>\n",
       "      <th>swathID</th>\n",
       "      <th>azimuthTimeMin</th>\n",
       "      <th>azimuthTimeMax</th>\n",
       "    </tr>\n",
       "  </thead>\n",
       "  <tbody>\n",
       "    <tr>\n",
       "      <th>1</th>\n",
       "      <td>4</td>\n",
       "      <td>1</td>\n",
       "      <td>1</td>\n",
       "      <td>S1B_IW_SLC__1ADH_20200127T113414_20200127T1134...</td>\n",
       "      <td>IW1</td>\n",
       "      <td>2020-01-27 11:34:17.209487</td>\n",
       "      <td>2020-01-27 11:34:20.403822</td>\n",
       "    </tr>\n",
       "  </tbody>\n",
       "</table>\n",
       "</div>"
      ],
      "text/plain": [
       "   bIndex  pIndex  sIndex                                          productID  \\\n",
       "1       4       1       1  S1B_IW_SLC__1ADH_20200127T113414_20200127T1134...   \n",
       "\n",
       "  swathID             azimuthTimeMin             azimuthTimeMax  \n",
       "1     IW1 2020-01-27 11:34:17.209487 2020-01-27 11:34:20.403822  "
      ]
     },
     "execution_count": 12,
     "metadata": {},
     "output_type": "execute_result"
    }
   ],
   "source": [
    "first_time = dateutil.parser.parse('2020-01-27T11:34:17.209487')\n",
    "last_time =  dateutil.parser.parse('2020-01-27T11:34:21.353489')\n",
    "\n",
    "# query the catalogue for a subset of the swaths\n",
    "df = eta.query_burst(first_time=first_time, last_time=last_time, swath='IW1')\n",
    "print(f\"Number of bursts: {len(df)}\")\n",
    "df"
   ]
  },
  {
   "cell_type": "markdown",
   "metadata": {},
   "source": [
    "Query the catalogue for a subset of the swaths:"
   ]
  },
  {
   "cell_type": "code",
   "execution_count": 13,
   "metadata": {},
   "outputs": [
    {
     "name": "stdout",
     "output_type": "stream",
     "text": [
      "Number of bursts: 7\n"
     ]
    },
    {
     "data": {
      "text/html": [
       "<div>\n",
       "<style scoped>\n",
       "    .dataframe tbody tr th:only-of-type {\n",
       "        vertical-align: middle;\n",
       "    }\n",
       "\n",
       "    .dataframe tbody tr th {\n",
       "        vertical-align: top;\n",
       "    }\n",
       "\n",
       "    .dataframe thead th {\n",
       "        text-align: right;\n",
       "    }\n",
       "</style>\n",
       "<table border=\"1\" class=\"dataframe\">\n",
       "  <thead>\n",
       "    <tr style=\"text-align: right;\">\n",
       "      <th></th>\n",
       "      <th>bIndex</th>\n",
       "      <th>pIndex</th>\n",
       "      <th>sIndex</th>\n",
       "      <th>productID</th>\n",
       "      <th>swathID</th>\n",
       "      <th>azimuthTimeMin</th>\n",
       "      <th>azimuthTimeMax</th>\n",
       "    </tr>\n",
       "  </thead>\n",
       "  <tbody>\n",
       "    <tr>\n",
       "      <th>1</th>\n",
       "      <td>4</td>\n",
       "      <td>1</td>\n",
       "      <td>1</td>\n",
       "      <td>S1B_IW_SLC__1ADH_20200127T113414_20200127T1134...</td>\n",
       "      <td>IW1</td>\n",
       "      <td>2020-01-27 11:34:17.209487</td>\n",
       "      <td>2020-01-27 11:34:20.403822</td>\n",
       "    </tr>\n",
       "    <tr>\n",
       "      <th>11</th>\n",
       "      <td>5</td>\n",
       "      <td>1</td>\n",
       "      <td>2</td>\n",
       "      <td>S1B_IW_SLC__1ADH_20200127T113414_20200127T1134...</td>\n",
       "      <td>IW2</td>\n",
       "      <td>2020-01-27 11:34:18.159154</td>\n",
       "      <td>2020-01-27 11:34:21.353489</td>\n",
       "    </tr>\n",
       "    <tr>\n",
       "      <th>2</th>\n",
       "      <td>7</td>\n",
       "      <td>1</td>\n",
       "      <td>1</td>\n",
       "      <td>S1B_IW_SLC__1ADH_20200127T113414_20200127T1134...</td>\n",
       "      <td>IW1</td>\n",
       "      <td>2020-01-27 11:34:19.972155</td>\n",
       "      <td>2020-01-27 11:34:23.166489</td>\n",
       "    </tr>\n",
       "    <tr>\n",
       "      <th>12</th>\n",
       "      <td>8</td>\n",
       "      <td>1</td>\n",
       "      <td>2</td>\n",
       "      <td>S1B_IW_SLC__1ADH_20200127T113414_20200127T1134...</td>\n",
       "      <td>IW2</td>\n",
       "      <td>2020-01-27 11:34:20.921822</td>\n",
       "      <td>2020-01-27 11:34:24.116156</td>\n",
       "    </tr>\n",
       "    <tr>\n",
       "      <th>3</th>\n",
       "      <td>10</td>\n",
       "      <td>1</td>\n",
       "      <td>1</td>\n",
       "      <td>S1B_IW_SLC__1ADH_20200127T113414_20200127T1134...</td>\n",
       "      <td>IW1</td>\n",
       "      <td>2020-01-27 11:34:22.734822</td>\n",
       "      <td>2020-01-27 11:34:25.929157</td>\n",
       "    </tr>\n",
       "  </tbody>\n",
       "</table>\n",
       "</div>"
      ],
      "text/plain": [
       "    bIndex  pIndex  sIndex                                          productID  \\\n",
       "1        4       1       1  S1B_IW_SLC__1ADH_20200127T113414_20200127T1134...   \n",
       "11       5       1       2  S1B_IW_SLC__1ADH_20200127T113414_20200127T1134...   \n",
       "2        7       1       1  S1B_IW_SLC__1ADH_20200127T113414_20200127T1134...   \n",
       "12       8       1       2  S1B_IW_SLC__1ADH_20200127T113414_20200127T1134...   \n",
       "3       10       1       1  S1B_IW_SLC__1ADH_20200127T113414_20200127T1134...   \n",
       "\n",
       "   swathID             azimuthTimeMin             azimuthTimeMax  \n",
       "1      IW1 2020-01-27 11:34:17.209487 2020-01-27 11:34:20.403822  \n",
       "11     IW2 2020-01-27 11:34:18.159154 2020-01-27 11:34:21.353489  \n",
       "2      IW1 2020-01-27 11:34:19.972155 2020-01-27 11:34:23.166489  \n",
       "12     IW2 2020-01-27 11:34:20.921822 2020-01-27 11:34:24.116156  \n",
       "3      IW1 2020-01-27 11:34:22.734822 2020-01-27 11:34:25.929157  "
      ]
     },
     "execution_count": 13,
     "metadata": {},
     "output_type": "execute_result"
    }
   ],
   "source": [
    "first_time = dateutil.parser.parse('2020-01-27T11:34:17.209487')\n",
    "last_time =  dateutil.parser.parse('2020-01-27T11:34:28.663047')\n",
    "\n",
    "df = eta.query_burst(first_time=first_time, last_time=last_time, swath=['IW1', 'IW2'])\n",
    "\n",
    "print(f\"Number of bursts: {len(df)}\")\n",
    "df.head()"
   ]
  },
  {
   "cell_type": "markdown",
   "metadata": {},
   "source": [
    "## Selecting by Sentinel-1 product name (swath and time)"
   ]
  },
  {
   "cell_type": "markdown",
   "metadata": {},
   "source": [
    "The **time** selection can be combined with a selection by **swath** using the **product_name** keyword."
   ]
  },
  {
   "cell_type": "code",
   "execution_count": 14,
   "metadata": {},
   "outputs": [
    {
     "name": "stdout",
     "output_type": "stream",
     "text": [
      "Number of bursts: 5\n"
     ]
    },
    {
     "data": {
      "text/html": [
       "<div>\n",
       "<style scoped>\n",
       "    .dataframe tbody tr th:only-of-type {\n",
       "        vertical-align: middle;\n",
       "    }\n",
       "\n",
       "    .dataframe tbody tr th {\n",
       "        vertical-align: top;\n",
       "    }\n",
       "\n",
       "    .dataframe thead th {\n",
       "        text-align: right;\n",
       "    }\n",
       "</style>\n",
       "<table border=\"1\" class=\"dataframe\">\n",
       "  <thead>\n",
       "    <tr style=\"text-align: right;\">\n",
       "      <th></th>\n",
       "      <th>bIndex</th>\n",
       "      <th>pIndex</th>\n",
       "      <th>sIndex</th>\n",
       "      <th>productID</th>\n",
       "      <th>swathID</th>\n",
       "      <th>azimuthTimeMin</th>\n",
       "      <th>azimuthTimeMax</th>\n",
       "    </tr>\n",
       "  </thead>\n",
       "  <tbody>\n",
       "    <tr>\n",
       "      <th>25</th>\n",
       "      <td>18</td>\n",
       "      <td>1</td>\n",
       "      <td>3</td>\n",
       "      <td>S1B_IW_SLC__1ADH_20200127T113414_20200127T1134...</td>\n",
       "      <td>IW3</td>\n",
       "      <td>2020-01-27 11:34:30.159492</td>\n",
       "      <td>2020-01-27 11:34:33.382604</td>\n",
       "    </tr>\n",
       "    <tr>\n",
       "      <th>26</th>\n",
       "      <td>21</td>\n",
       "      <td>1</td>\n",
       "      <td>3</td>\n",
       "      <td>S1B_IW_SLC__1ADH_20200127T113414_20200127T1134...</td>\n",
       "      <td>IW3</td>\n",
       "      <td>2020-01-27 11:34:32.922159</td>\n",
       "      <td>2020-01-27 11:34:36.116494</td>\n",
       "    </tr>\n",
       "    <tr>\n",
       "      <th>27</th>\n",
       "      <td>24</td>\n",
       "      <td>1</td>\n",
       "      <td>3</td>\n",
       "      <td>S1B_IW_SLC__1ADH_20200127T113414_20200127T1134...</td>\n",
       "      <td>IW3</td>\n",
       "      <td>2020-01-27 11:34:35.684827</td>\n",
       "      <td>2020-01-27 11:34:38.879162</td>\n",
       "    </tr>\n",
       "    <tr>\n",
       "      <th>28</th>\n",
       "      <td>27</td>\n",
       "      <td>1</td>\n",
       "      <td>3</td>\n",
       "      <td>S1B_IW_SLC__1ADH_20200127T113414_20200127T1134...</td>\n",
       "      <td>IW3</td>\n",
       "      <td>2020-01-27 11:34:38.447495</td>\n",
       "      <td>2020-01-27 11:34:41.641829</td>\n",
       "    </tr>\n",
       "    <tr>\n",
       "      <th>29</th>\n",
       "      <td>30</td>\n",
       "      <td>1</td>\n",
       "      <td>3</td>\n",
       "      <td>S1B_IW_SLC__1ADH_20200127T113414_20200127T1134...</td>\n",
       "      <td>IW3</td>\n",
       "      <td>2020-01-27 11:34:41.181385</td>\n",
       "      <td>2020-01-27 11:34:44.404497</td>\n",
       "    </tr>\n",
       "  </tbody>\n",
       "</table>\n",
       "</div>"
      ],
      "text/plain": [
       "    bIndex  pIndex  sIndex                                          productID  \\\n",
       "25      18       1       3  S1B_IW_SLC__1ADH_20200127T113414_20200127T1134...   \n",
       "26      21       1       3  S1B_IW_SLC__1ADH_20200127T113414_20200127T1134...   \n",
       "27      24       1       3  S1B_IW_SLC__1ADH_20200127T113414_20200127T1134...   \n",
       "28      27       1       3  S1B_IW_SLC__1ADH_20200127T113414_20200127T1134...   \n",
       "29      30       1       3  S1B_IW_SLC__1ADH_20200127T113414_20200127T1134...   \n",
       "\n",
       "   swathID             azimuthTimeMin             azimuthTimeMax  \n",
       "25     IW3 2020-01-27 11:34:30.159492 2020-01-27 11:34:33.382604  \n",
       "26     IW3 2020-01-27 11:34:32.922159 2020-01-27 11:34:36.116494  \n",
       "27     IW3 2020-01-27 11:34:35.684827 2020-01-27 11:34:38.879162  \n",
       "28     IW3 2020-01-27 11:34:38.447495 2020-01-27 11:34:41.641829  \n",
       "29     IW3 2020-01-27 11:34:41.181385 2020-01-27 11:34:44.404497  "
      ]
     },
     "execution_count": 14,
     "metadata": {},
     "output_type": "execute_result"
    }
   ],
   "source": [
    "first_time = dateutil.parser.parse('2020-01-27T11:34:30.159492')\n",
    "last_time =  dateutil.parser.parse('2020-01-27T11:34:56.260946')\n",
    "\n",
    "product_name = 'S1B_IW_SLC__1ADH_20200127T113414_20200127T113444_020002_025D72_FD42.SAFE'\n",
    "df = eta.query_burst(first_time=first_time, last_time=last_time, product_name=product_name, swath=['IW3'])\n",
    "\n",
    "print(f\"Number of bursts: {len(df)}\")\n",
    "df.head()"
   ]
  }
 ],
 "metadata": {
  "kernelspec": {
   "display_name": "Python 3",
   "language": "python",
   "name": "python3"
  },
  "language_info": {
   "codemirror_mode": {
    "name": "ipython",
    "version": 3
   },
   "file_extension": ".py",
   "mimetype": "text/x-python",
   "name": "python",
   "nbconvert_exporter": "python",
   "pygments_lexer": "ipython3",
   "version": "3.7.9"
  }
 },
 "nbformat": 4,
 "nbformat_minor": 4
}

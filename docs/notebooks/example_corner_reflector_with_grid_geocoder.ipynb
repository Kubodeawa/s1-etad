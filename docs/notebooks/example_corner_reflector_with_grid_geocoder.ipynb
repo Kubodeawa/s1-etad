{
 "cells": [
  {
   "cell_type": "markdown",
   "metadata": {},
   "source": [
    "# Get corrections at a corner reflector (CR) location using GridGeococoding"
   ]
  },
  {
   "cell_type": "code",
   "execution_count": null,
   "metadata": {},
   "outputs": [],
   "source": [
    "%matplotlib inline\n",
    "%load_ext autoreload\n",
    "%autoreload 2\n",
    "\n",
    "import sys\n",
    "sys.path.append('../..')\n",
    "\n",
    "import numpy as np\n",
    "from scipy.interpolate import interp2d\n",
    "from matplotlib import pyplot as plt\n",
    "\n",
    "import s1etad\n",
    "from s1etad import Sentinel1Etad, ECorrectionType\n",
    "from s1etad.geometry import GridGeocoding"
   ]
  },
  {
   "cell_type": "markdown",
   "metadata": {},
   "source": [
    "## Searching bursts in which the CR is present"
   ]
  },
  {
   "cell_type": "markdown",
   "metadata": {},
   "source": [
    "Load the S1-ETAD product."
   ]
  },
  {
   "cell_type": "code",
   "execution_count": null,
   "metadata": {},
   "outputs": [],
   "source": [
    "filename = '../../sample-products/S1B_IW_ETA__AXDH_20200127T113414_20200127T113858_020002_025D72_0096.SAFE'\n",
    "eta = Sentinel1Etad(filename)"
   ]
  },
  {
   "cell_type": "markdown",
   "metadata": {},
   "source": [
    "The CR position has been chosed to be in the overlab region of different bursts and swaths."
   ]
  },
  {
   "cell_type": "code",
   "execution_count": null,
   "metadata": {},
   "outputs": [],
   "source": [
    "from shapely.geometry import Point\n",
    "\n",
    "lat0 = +70.13  # 70° 7'48.65\"N\n",
    "lon0 = -76.19  # 76°11'41.55\"W\n",
    "h0 = 366\n",
    "\n",
    "cr = Point(lon0, lat0)"
   ]
  },
  {
   "cell_type": "markdown",
   "metadata": {},
   "source": [
    "Query for burst cobering the CR."
   ]
  },
  {
   "cell_type": "code",
   "execution_count": null,
   "metadata": {},
   "outputs": [],
   "source": [
    "selection = eta.query_burst(geometry=cr)\n",
    "selection"
   ]
  },
  {
   "cell_type": "markdown",
   "metadata": {},
   "source": [
    "## Get corrections at CR location"
   ]
  },
  {
   "cell_type": "markdown",
   "metadata": {},
   "source": [
    "Reatrieve the first burst."
   ]
  },
  {
   "cell_type": "code",
   "execution_count": null,
   "metadata": {},
   "outputs": [],
   "source": [
    "burst = next(eta.iter_bursts(selection))"
   ]
  },
  {
   "cell_type": "markdown",
   "metadata": {},
   "source": [
    "Get tha grid of geodetic coordinates."
   ]
  },
  {
   "cell_type": "code",
   "execution_count": null,
   "metadata": {},
   "outputs": [],
   "source": [
    "lats, lons, heights = burst.get_lat_lon_height()"
   ]
  },
  {
   "cell_type": "markdown",
   "metadata": {},
   "source": [
    "Get the range and azimuth time axes."
   ]
  },
  {
   "cell_type": "code",
   "execution_count": null,
   "metadata": {},
   "outputs": [],
   "source": [
    "azimuth_time, range_time = burst.get_burst_grid()"
   ]
  },
  {
   "cell_type": "markdown",
   "metadata": {},
   "source": [
    "Initialize the Grid Geocoding object.\n",
    "\n",
    "**NOTE**: if one uses time axis then consistent time coordinates shall be provided in all back-geocoding requests."
   ]
  },
  {
   "cell_type": "code",
   "execution_count": null,
   "metadata": {},
   "outputs": [],
   "source": [
    "ebg = GridGeocoding(lats, lons, heights, xaxis=range_time, yaxis=azimuth_time)"
   ]
  },
  {
   "cell_type": "markdown",
   "metadata": {},
   "source": [
    "Now it is possible to perform the back-geocoding i.e. computation of RADAR coordinates (tau, t) starting form geodatic coordinates (lat, lon, h):\n",
    "\n",
    "   (lat, lon, h) -> (tau, t) "
   ]
  },
  {
   "cell_type": "code",
   "execution_count": null,
   "metadata": {},
   "outputs": [],
   "source": [
    "tau, t = ebg.backward_geocode(lat0, lon0, h0)\n",
    "tau, t"
   ]
  },
  {
   "cell_type": "markdown",
   "metadata": {},
   "source": [
    "Of course it is also possible to make the inverse conversion:"
   ]
  },
  {
   "cell_type": "code",
   "execution_count": null,
   "metadata": {},
   "outputs": [],
   "source": [
    "lat1, lon1, h1 = ebg.forward_geocode(tau, t)\n",
    "print(f'Initial coordinates:      (lat0, lon0, h0) = ({lat0}, {lon0}, {h0})')\n",
    "print(f'Foeward geocoding output: (lat1, lon1, h1) = ({lat1.item()}, {lon1.item()}, {h1.item()})')"
   ]
  },
  {
   "cell_type": "markdown",
   "metadata": {},
   "source": [
    "### Using umage coordinates (linse, samples)"
   ]
  },
  {
   "cell_type": "markdown",
   "metadata": {},
   "source": [
    "It is also possible to initialize the GridGeocoding without providing time axes information.\n",
    "\n",
    "In this case the geocoder will work using image coorinates (lines and samples) instead of range/azimuth times."
   ]
  },
  {
   "cell_type": "code",
   "execution_count": null,
   "metadata": {},
   "outputs": [],
   "source": [
    "ebg = GridGeocoding(lats, lons, heights)"
   ]
  },
  {
   "cell_type": "markdown",
   "metadata": {},
   "source": [
    "It is possible to perform back-geocoding, i.e. (lat, lon, h) -> (sample, line):"
   ]
  },
  {
   "cell_type": "code",
   "execution_count": null,
   "metadata": {},
   "outputs": [],
   "source": [
    "sample, line = ebg.backward_geocode(lat0, lon0, h0)\n",
    "sample, line"
   ]
  },
  {
   "cell_type": "markdown",
   "metadata": {},
   "source": [
    "and also to perform the forward conversion: (sample, line) -> (lat, lon, h)"
   ]
  },
  {
   "cell_type": "code",
   "execution_count": null,
   "metadata": {},
   "outputs": [],
   "source": [
    "lat1, lon1, h1 = ebg.forward_geocode(sample, line)\n",
    "print(f'Initial coordinates:      (lat0, lon0, h0) = ({lat0}, {lon0}, {h0})')\n",
    "print(f'Foeward geocoding output: (lat1, lon1, h1) = ({lat1.item()}, {lon1.item()}, {h1.item()})')"
   ]
  },
  {
   "cell_type": "markdown",
   "metadata": {},
   "source": [
    "## Putting all together"
   ]
  },
  {
   "cell_type": "code",
   "execution_count": null,
   "metadata": {},
   "outputs": [],
   "source": [
    "from matplotlib.patches import Rectangle\n",
    "\n",
    "fig, ax = plt.subplots(nrows=len(selection), ncols=1, figsize=[13, 8])\n",
    "\n",
    "for loop, burst in enumerate(eta.iter_bursts(selection)):\n",
    "    # coordinate grids\n",
    "    lats, lons, heights = burst.get_lat_lon_height()\n",
    "\n",
    "    # backward geocoding with image coordinates\n",
    "    ebg = GridGeocoding(lats, lons, heights)\n",
    "    x0, y0 = ebg.backward_geocode(lat0, lon0, h0) \n",
    "    print(\"xy  \", burst.swath_id, burst.burst_index, x0, y0,\n",
    "          ebg.latitude(x0, y0), ebg.longitude(x0, y0), ebg.height(x0, y0))\n",
    "\n",
    "    # get the range and azimuth times\n",
    "    azimuth_time, range_time = burst.get_burst_grid()\n",
    "\n",
    "    # backward geocoding with time coordinates\n",
    "    ebg = GridGeocoding(lats, lons, heights,\n",
    "                        xaxis=range_time, yaxis=azimuth_time)\n",
    "    tau0, t0 = ebg.backward_geocode(lat0, lon0, h0) \n",
    "    print(\"time\", burst.swath_id, burst.burst_index, tau0, t0,\n",
    "          ebg.latitude(tau0, t0), ebg.longitude(tau0, t0), ebg.height(tau0, t0))\n",
    "    \n",
    "    # correction\n",
    "    cor = burst.get_correction(s1etad.ECorrectionType.SUM, meter='True')\n",
    "\n",
    "    ax[loop].imshow(cor['x'], aspect='auto')\n",
    "    rec_half_size = 1\n",
    "    p = Rectangle((x0 - rec_half_size, y0 - rec_half_size),\n",
    "                  width=rec_half_size*2+1, height=rec_half_size*2+1,\n",
    "                  color='red', fill=True)\n",
    "    ax[loop].add_patch(p)\n",
    "\n",
    "    # interpolate at the desired working (RADAR) coordinates\n",
    "    f_t  = interp2d(range_time, azimuth_time, cor['x'])\n",
    "\n",
    "    # get the image (lines and samples) axes\n",
    "    yaxis = np.arange(azimuth_time.size)\n",
    "    xaxis = np.arange(range_time.size)\n",
    "    \n",
    "    # interpolate at the desired working (image) coordinates\n",
    "    f_ij = interp2d(xaxis, yaxis, cor['x'])\n",
    "    \n",
    "    print(f\"Interpoaltion by array coordinate {f_ij(x0, y0)} or time {f_t(tau0,t0)} should be the same\")\n",
    "    print(f\"The total correction at lat/lon {lat0, lon0} is  {f_ij(x0, y0)} m in range\")\n",
    "    print()"
   ]
  },
  {
   "cell_type": "code",
   "execution_count": null,
   "metadata": {},
   "outputs": [],
   "source": [
    "burst.radar_to_geodetic(tau0, t0) "
   ]
  },
  {
   "cell_type": "code",
   "execution_count": null,
   "metadata": {},
   "outputs": [],
   "source": [
    "cor"
   ]
  }
 ],
 "metadata": {
  "kernelspec": {
   "display_name": "Python 3",
   "language": "python",
   "name": "python3"
  },
  "language_info": {
   "codemirror_mode": {
    "name": "ipython",
    "version": 3
   },
   "file_extension": ".py",
   "mimetype": "text/x-python",
   "name": "python",
   "nbconvert_exporter": "python",
   "pygments_lexer": "ipython3",
   "version": "3.7.9"
  }
 },
 "nbformat": 4,
 "nbformat_minor": 4
}

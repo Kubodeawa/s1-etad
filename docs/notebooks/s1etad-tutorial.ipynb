{
 "cells": [
  {
   "cell_type": "markdown",
   "metadata": {},
   "source": [
    "# Basic usage"
   ]
  },
  {
   "cell_type": "markdown",
   "metadata": {},
   "source": [
    "## Notebook setup"
   ]
  },
  {
   "cell_type": "code",
   "execution_count": 1,
   "metadata": {},
   "outputs": [],
   "source": [
    "%matplotlib inline\n",
    "%load_ext autoreload\n",
    "%autoreload 2"
   ]
  },
  {
   "cell_type": "code",
   "execution_count": 2,
   "metadata": {},
   "outputs": [],
   "source": [
    "import sys\n",
    "sys.path.append('../..')"
   ]
  },
  {
   "cell_type": "code",
   "execution_count": 3,
   "metadata": {},
   "outputs": [],
   "source": [
    "import numpy as np\n",
    "import matplotlib.pyplot as plt"
   ]
  },
  {
   "cell_type": "code",
   "execution_count": 4,
   "metadata": {},
   "outputs": [],
   "source": [
    "import s1etad\n",
    "from s1etad import Sentinel1Etad, ECorrectionType"
   ]
  },
  {
   "cell_type": "markdown",
   "metadata": {},
   "source": [
    "## Sentinel1Etad product"
   ]
  },
  {
   "cell_type": "code",
   "execution_count": 5,
   "metadata": {},
   "outputs": [],
   "source": [
    "filename = '../../sample-products/S1B_IW_ETA__AXDH_20200127T113414_20200127T113858_020002_025D72_0096.SAFE'"
   ]
  },
  {
   "cell_type": "code",
   "execution_count": 6,
   "metadata": {},
   "outputs": [],
   "source": [
    "eta = Sentinel1Etad(filename)"
   ]
  },
  {
   "cell_type": "code",
   "execution_count": 7,
   "metadata": {},
   "outputs": [
    {
     "data": {
      "text/plain": [
       "Sentinel1Etad(\"../../sample-products/S1B_IW_ETA__AXDH_20200127T113414_20200127T113858_020002_025D72_0096.SAFE\")  # 0x7fc936e77510\n",
       "Number of Sentinel-1 slices: 11\n",
       "Sentinel-1 products list:\n",
       "  S1B_IW_SLC__1ADH_20200127T113414_20200127T113444_020002_025D72_FD42.SAFE\n",
       "  S1B_IW_SLC__1ADH_20200127T113442_20200127T113510_020002_025D72_FC8F.SAFE\n",
       "  S1B_IW_SLC__1ADH_20200127T113507_20200127T113534_020002_025D72_78DF.SAFE\n",
       "  S1B_IW_SLC__1ADH_20200127T113532_20200127T113559_020002_025D72_1ABB.SAFE\n",
       "  S1B_IW_SLC__1ADH_20200127T113557_20200127T113624_020002_025D72_6706.SAFE\n",
       "  S1B_IW_SLC__1ADH_20200127T113622_20200127T113649_020002_025D72_78F0.SAFE\n",
       "  S1B_IW_SLC__1ADH_20200127T113647_20200127T113715_020002_025D72_11FB.SAFE\n",
       "  S1B_IW_SLC__1ADH_20200127T113712_20200127T113739_020002_025D72_FCC6.SAFE\n",
       "  S1B_IW_SLC__1ADH_20200127T113737_20200127T113804_020002_025D72_1FED.SAFE\n",
       "  S1B_IW_SLC__1ADH_20200127T113802_20200127T113829_020002_025D72_C434.SAFE\n",
       "  S1B_IW_SLC__1ADH_20200127T113827_20200127T113858_020002_025D72_E443.SAFE\n",
       "Number of swaths: 3\n",
       "Swath list: IW1, IW2, IW3\n",
       "Grid sampling:\n",
       "  x: 8.081406101630269e-07\n",
       "  y: 0.028777788199999974\n",
       "  unit: s\n",
       "Grid spacing:\n",
       "  x: 200.0\n",
       "  y: 200.0\n",
       "  unit: m\n",
       "Processing settings:\n",
       "  troposphericDelayCorrection: True\n",
       "  ionosphericDelayCorrection: True\n",
       "  solidEarthTideCorrection: True\n",
       "  bistaticAzimuthCorrection: True\n",
       "  dopplerShiftRangeCorrection: True\n",
       "  FMMismatchAzimuthCorrection: True"
      ]
     },
     "execution_count": 7,
     "metadata": {},
     "output_type": "execute_result"
    }
   ],
   "source": [
    "eta"
   ]
  },
  {
   "cell_type": "markdown",
   "metadata": {},
   "source": [
    "### Check which corrections have been enabled"
   ]
  },
  {
   "cell_type": "code",
   "execution_count": 8,
   "metadata": {},
   "outputs": [
    {
     "data": {
      "text/plain": [
       "{'troposphericDelayCorrection': True,\n",
       " 'ionosphericDelayCorrection': True,\n",
       " 'solidEarthTideCorrection': True,\n",
       " 'bistaticAzimuthCorrection': True,\n",
       " 'dopplerShiftRangeCorrection': True,\n",
       " 'FMMismatchAzimuthCorrection': True}"
      ]
     },
     "execution_count": 8,
     "metadata": {},
     "output_type": "execute_result"
    }
   ],
   "source": [
    "eta.processing_setting()"
   ]
  },
  {
   "cell_type": "markdown",
   "metadata": {},
   "source": [
    "### The burst catalogue"
   ]
  },
  {
   "cell_type": "markdown",
   "metadata": {},
   "source": [
    "It is a pandas dataframe to allow easy filtering.\n",
    "\n",
    "See also use cases in the \"Use case 1: Selecting the bursts\" section for a more complete explaination on the burst catalogue and the query mechanism."
   ]
  },
  {
   "cell_type": "code",
   "execution_count": 9,
   "metadata": {},
   "outputs": [
    {
     "data": {
      "text/html": [
       "<div>\n",
       "<style scoped>\n",
       "    .dataframe tbody tr th:only-of-type {\n",
       "        vertical-align: middle;\n",
       "    }\n",
       "\n",
       "    .dataframe tbody tr th {\n",
       "        vertical-align: top;\n",
       "    }\n",
       "\n",
       "    .dataframe thead th {\n",
       "        text-align: right;\n",
       "    }\n",
       "</style>\n",
       "<table border=\"1\" class=\"dataframe\">\n",
       "  <thead>\n",
       "    <tr style=\"text-align: right;\">\n",
       "      <th></th>\n",
       "      <th>bIndex</th>\n",
       "      <th>pIndex</th>\n",
       "      <th>sIndex</th>\n",
       "      <th>productID</th>\n",
       "      <th>swathID</th>\n",
       "      <th>azimuthTimeMin</th>\n",
       "      <th>azimuthTimeMax</th>\n",
       "    </tr>\n",
       "  </thead>\n",
       "  <tbody>\n",
       "    <tr>\n",
       "      <th>0</th>\n",
       "      <td>1</td>\n",
       "      <td>1</td>\n",
       "      <td>1</td>\n",
       "      <td>S1B_IW_SLC__1ADH_20200127T113414_20200127T1134...</td>\n",
       "      <td>IW1</td>\n",
       "      <td>2020-01-27 11:34:14.475597</td>\n",
       "      <td>2020-01-27 11:34:17.641154</td>\n",
       "    </tr>\n",
       "    <tr>\n",
       "      <th>1</th>\n",
       "      <td>4</td>\n",
       "      <td>1</td>\n",
       "      <td>1</td>\n",
       "      <td>S1B_IW_SLC__1ADH_20200127T113414_20200127T1134...</td>\n",
       "      <td>IW1</td>\n",
       "      <td>2020-01-27 11:34:17.209487</td>\n",
       "      <td>2020-01-27 11:34:20.403822</td>\n",
       "    </tr>\n",
       "    <tr>\n",
       "      <th>2</th>\n",
       "      <td>7</td>\n",
       "      <td>1</td>\n",
       "      <td>1</td>\n",
       "      <td>S1B_IW_SLC__1ADH_20200127T113414_20200127T1134...</td>\n",
       "      <td>IW1</td>\n",
       "      <td>2020-01-27 11:34:19.972155</td>\n",
       "      <td>2020-01-27 11:34:23.166489</td>\n",
       "    </tr>\n",
       "    <tr>\n",
       "      <th>3</th>\n",
       "      <td>10</td>\n",
       "      <td>1</td>\n",
       "      <td>1</td>\n",
       "      <td>S1B_IW_SLC__1ADH_20200127T113414_20200127T1134...</td>\n",
       "      <td>IW1</td>\n",
       "      <td>2020-01-27 11:34:22.734822</td>\n",
       "      <td>2020-01-27 11:34:25.929157</td>\n",
       "    </tr>\n",
       "    <tr>\n",
       "      <th>4</th>\n",
       "      <td>13</td>\n",
       "      <td>1</td>\n",
       "      <td>1</td>\n",
       "      <td>S1B_IW_SLC__1ADH_20200127T113414_20200127T1134...</td>\n",
       "      <td>IW1</td>\n",
       "      <td>2020-01-27 11:34:25.497490</td>\n",
       "      <td>2020-01-27 11:34:28.663047</td>\n",
       "    </tr>\n",
       "  </tbody>\n",
       "</table>\n",
       "</div>"
      ],
      "text/plain": [
       "   bIndex  pIndex  sIndex                                          productID  \\\n",
       "0       1       1       1  S1B_IW_SLC__1ADH_20200127T113414_20200127T1134...   \n",
       "1       4       1       1  S1B_IW_SLC__1ADH_20200127T113414_20200127T1134...   \n",
       "2       7       1       1  S1B_IW_SLC__1ADH_20200127T113414_20200127T1134...   \n",
       "3      10       1       1  S1B_IW_SLC__1ADH_20200127T113414_20200127T1134...   \n",
       "4      13       1       1  S1B_IW_SLC__1ADH_20200127T113414_20200127T1134...   \n",
       "\n",
       "  swathID             azimuthTimeMin             azimuthTimeMax  \n",
       "0     IW1 2020-01-27 11:34:14.475597 2020-01-27 11:34:17.641154  \n",
       "1     IW1 2020-01-27 11:34:17.209487 2020-01-27 11:34:20.403822  \n",
       "2     IW1 2020-01-27 11:34:19.972155 2020-01-27 11:34:23.166489  \n",
       "3     IW1 2020-01-27 11:34:22.734822 2020-01-27 11:34:25.929157  \n",
       "4     IW1 2020-01-27 11:34:25.497490 2020-01-27 11:34:28.663047  "
      ]
     },
     "execution_count": 9,
     "metadata": {},
     "output_type": "execute_result"
    }
   ],
   "source": [
    "eta.burst_catalogue.head()"
   ]
  },
  {
   "cell_type": "markdown",
   "metadata": {},
   "source": [
    "**Tip**: the total number of bursts in a product can be retrieved as follows:"
   ]
  },
  {
   "cell_type": "code",
   "execution_count": 10,
   "metadata": {},
   "outputs": [
    {
     "name": "stdout",
     "output_type": "stream",
     "text": [
      "Total number of bursts: 306\n"
     ]
    }
   ],
   "source": [
    "print('Total number of bursts:', len(eta.burst_catalogue))"
   ]
  },
  {
   "cell_type": "markdown",
   "metadata": {},
   "source": [
    "## Swath objects"
   ]
  },
  {
   "cell_type": "markdown",
   "metadata": {},
   "source": [
    "### How many swaths are stored in a product?"
   ]
  },
  {
   "cell_type": "code",
   "execution_count": 11,
   "metadata": {},
   "outputs": [
    {
     "name": "stdout",
     "output_type": "stream",
     "text": [
      "Number of swaths: 3\n",
      "Swath list: ['IW1', 'IW2', 'IW3']\n"
     ]
    }
   ],
   "source": [
    "print('Number of swaths:', eta.number_of_swath)\n",
    "print('Swath list:', eta.swath_list)"
   ]
  },
  {
   "cell_type": "markdown",
   "metadata": {},
   "source": [
    "### How to retieve a Sentinel1EtadSwath object"
   ]
  },
  {
   "cell_type": "code",
   "execution_count": 12,
   "metadata": {},
   "outputs": [],
   "source": [
    "swath = eta['IW2']"
   ]
  },
  {
   "cell_type": "code",
   "execution_count": 13,
   "metadata": {},
   "outputs": [
    {
     "data": {
      "text/plain": [
       "Sentinel1EtadSwath(\"/IW2\")  0x7fc923778410\n",
       "Swaths ID: IW2\n",
       "Number of bursts: 102\n",
       "Burst list: [2, 5, 8, 11, 14, 17, 20, 23, 26, 29, 32, 35, 38, 41, 44, 47, 50, 53, 56, 59, 62, 65, 68, 71, 74, 77, 80, 83, 86, 89, 92, 95, 98, 101, 104, 107, 110, 113, 116, 119, 122, 125, 128, 131, 134, 137, 140, 143, 146, 149, 152, 155, 158, 161, 164, 167, 170, 173, 176, 179, 182, 185, 188, 191, 194, 197, 200, 203, 206, 209, 212, 215, 218, 221, 224, 227, 230, 233, 236, 239, 242, 245, 248, 251, 254, 257, 260, 263, 266, 269, 272, 275, 278, 281, 284, 287, 290, 293, 296, 299, 302, 305]\n",
       "Sampling start:\n",
       "  x: 0.00030628529125177\n",
       "  y: 0.920889222400092\n",
       "  units: s\n",
       "Sampling:\n",
       "  x: 8.081406101630269e-07\n",
       "  y: 0.028777788199999974\n",
       "  units: s"
      ]
     },
     "execution_count": 13,
     "metadata": {},
     "output_type": "execute_result"
    }
   ],
   "source": [
    "swath"
   ]
  },
  {
   "cell_type": "markdown",
   "metadata": {},
   "source": [
    "## Burst objects"
   ]
  },
  {
   "cell_type": "code",
   "execution_count": 14,
   "metadata": {},
   "outputs": [],
   "source": [
    "burst = swath[2]"
   ]
  },
  {
   "cell_type": "code",
   "execution_count": 15,
   "metadata": {},
   "outputs": [
    {
     "data": {
      "text/plain": [
       "Sentinel1EtadBurst(\"/IW2/Burst0002\")  0x7fc923778e10\n",
       "Swaths ID: IW2\n",
       "Burst index: 2\n",
       "Shape: (113, 479)\n",
       "Sampling start:\n",
       "  x: 0.00030628529125177\n",
       "  y: 0.920889222400092\n",
       "  units: s\n",
       "Sampling:\n",
       "  x: 8.081406101630269e-07\n",
       "  y: 0.028777788199999974\n",
       "  units: s"
      ]
     },
     "execution_count": 15,
     "metadata": {},
     "output_type": "execute_result"
    }
   ],
   "source": [
    "burst"
   ]
  },
  {
   "cell_type": "markdown",
   "metadata": {},
   "source": [
    "**NOTE**: one can only get bursts whose index is present in the \"burst list\" of the swath"
   ]
  },
  {
   "cell_type": "code",
   "execution_count": 16,
   "metadata": {},
   "outputs": [
    {
     "data": {
      "text/plain": [
       "[2,\n",
       " 5,\n",
       " 8,\n",
       " 11,\n",
       " 14,\n",
       " 17,\n",
       " 20,\n",
       " 23,\n",
       " 26,\n",
       " 29,\n",
       " 32,\n",
       " 35,\n",
       " 38,\n",
       " 41,\n",
       " 44,\n",
       " 47,\n",
       " 50,\n",
       " 53,\n",
       " 56,\n",
       " 59,\n",
       " 62,\n",
       " 65,\n",
       " 68,\n",
       " 71,\n",
       " 74,\n",
       " 77,\n",
       " 80,\n",
       " 83,\n",
       " 86,\n",
       " 89,\n",
       " 92,\n",
       " 95,\n",
       " 98,\n",
       " 101,\n",
       " 104,\n",
       " 107,\n",
       " 110,\n",
       " 113,\n",
       " 116,\n",
       " 119,\n",
       " 122,\n",
       " 125,\n",
       " 128,\n",
       " 131,\n",
       " 134,\n",
       " 137,\n",
       " 140,\n",
       " 143,\n",
       " 146,\n",
       " 149,\n",
       " 152,\n",
       " 155,\n",
       " 158,\n",
       " 161,\n",
       " 164,\n",
       " 167,\n",
       " 170,\n",
       " 173,\n",
       " 176,\n",
       " 179,\n",
       " 182,\n",
       " 185,\n",
       " 188,\n",
       " 191,\n",
       " 194,\n",
       " 197,\n",
       " 200,\n",
       " 203,\n",
       " 206,\n",
       " 209,\n",
       " 212,\n",
       " 215,\n",
       " 218,\n",
       " 221,\n",
       " 224,\n",
       " 227,\n",
       " 230,\n",
       " 233,\n",
       " 236,\n",
       " 239,\n",
       " 242,\n",
       " 245,\n",
       " 248,\n",
       " 251,\n",
       " 254,\n",
       " 257,\n",
       " 260,\n",
       " 263,\n",
       " 266,\n",
       " 269,\n",
       " 272,\n",
       " 275,\n",
       " 278,\n",
       " 281,\n",
       " 284,\n",
       " 287,\n",
       " 290,\n",
       " 293,\n",
       " 296,\n",
       " 299,\n",
       " 302,\n",
       " 305]"
      ]
     },
     "execution_count": 16,
     "metadata": {},
     "output_type": "execute_result"
    }
   ],
   "source": [
    "swath.burst_list"
   ]
  },
  {
   "cell_type": "code",
   "execution_count": 17,
   "metadata": {},
   "outputs": [
    {
     "name": "stdout",
     "output_type": "stream",
     "text": [
      "ERROR: Ops someting went wrong: IndexError('Burst0001 not found in /IW2')\n"
     ]
    }
   ],
   "source": [
    "try:\n",
    "    swath[1]\n",
    "except IndexError as exc:\n",
    "    print('ERROR: Ops someting went wrong:', repr(exc))"
   ]
  },
  {
   "cell_type": "markdown",
   "metadata": {},
   "source": [
    "## String representation"
   ]
  },
  {
   "cell_type": "markdown",
   "metadata": {},
   "source": [
    "Please note that the string representation of Sentinel1Etad object is a \"one-line\" string providing only basic information:"
   ]
  },
  {
   "cell_type": "code",
   "execution_count": 18,
   "metadata": {},
   "outputs": [
    {
     "name": "stdout",
     "output_type": "stream",
     "text": [
      "Product: Sentinel1Etad(\"S1B_IW_ETA__AXDH_20200127T113414_20200127T113858_020002_025D72_0096.SAFE\")\n",
      "Swath: Sentinel1EtadSwath(\"/IW2\")  0x7fc923778410\n",
      "Burst: Sentinel1EtadBurst(\"/IW2/Burst0002\")  0x7fc923778e10\n"
     ]
    }
   ],
   "source": [
    "print('Product:', str(eta))\n",
    "print('Swath:', str(swath))\n",
    "print('Burst:', str(burst))"
   ]
  },
  {
   "cell_type": "markdown",
   "metadata": {},
   "source": [
    "Anyway in Jupyer environments a richer representation is also available:"
   ]
  },
  {
   "cell_type": "code",
   "execution_count": 19,
   "metadata": {},
   "outputs": [
    {
     "data": {
      "text/plain": [
       "Sentinel1Etad(\"../../sample-products/S1B_IW_ETA__AXDH_20200127T113414_20200127T113858_020002_025D72_0096.SAFE\")  # 0x7fc936e77510\n",
       "Number of Sentinel-1 slices: 11\n",
       "Sentinel-1 products list:\n",
       "  S1B_IW_SLC__1ADH_20200127T113414_20200127T113444_020002_025D72_FD42.SAFE\n",
       "  S1B_IW_SLC__1ADH_20200127T113442_20200127T113510_020002_025D72_FC8F.SAFE\n",
       "  S1B_IW_SLC__1ADH_20200127T113507_20200127T113534_020002_025D72_78DF.SAFE\n",
       "  S1B_IW_SLC__1ADH_20200127T113532_20200127T113559_020002_025D72_1ABB.SAFE\n",
       "  S1B_IW_SLC__1ADH_20200127T113557_20200127T113624_020002_025D72_6706.SAFE\n",
       "  S1B_IW_SLC__1ADH_20200127T113622_20200127T113649_020002_025D72_78F0.SAFE\n",
       "  S1B_IW_SLC__1ADH_20200127T113647_20200127T113715_020002_025D72_11FB.SAFE\n",
       "  S1B_IW_SLC__1ADH_20200127T113712_20200127T113739_020002_025D72_FCC6.SAFE\n",
       "  S1B_IW_SLC__1ADH_20200127T113737_20200127T113804_020002_025D72_1FED.SAFE\n",
       "  S1B_IW_SLC__1ADH_20200127T113802_20200127T113829_020002_025D72_C434.SAFE\n",
       "  S1B_IW_SLC__1ADH_20200127T113827_20200127T113858_020002_025D72_E443.SAFE\n",
       "Number of swaths: 3\n",
       "Swath list: IW1, IW2, IW3\n",
       "Grid sampling:\n",
       "  x: 8.081406101630269e-07\n",
       "  y: 0.028777788199999974\n",
       "  unit: s\n",
       "Grid spacing:\n",
       "  x: 200.0\n",
       "  y: 200.0\n",
       "  unit: m\n",
       "Processing settings:\n",
       "  troposphericDelayCorrection: True\n",
       "  ionosphericDelayCorrection: True\n",
       "  solidEarthTideCorrection: True\n",
       "  bistaticAzimuthCorrection: True\n",
       "  dopplerShiftRangeCorrection: True\n",
       "  FMMismatchAzimuthCorrection: True"
      ]
     },
     "execution_count": 19,
     "metadata": {},
     "output_type": "execute_result"
    }
   ],
   "source": [
    "eta"
   ]
  },
  {
   "cell_type": "markdown",
   "metadata": {},
   "source": [
    "## Iteration"
   ]
  },
  {
   "cell_type": "markdown",
   "metadata": {},
   "source": [
    "It is possible to iterate over products and swats in the same way one does it with any ather python container."
   ]
  },
  {
   "cell_type": "code",
   "execution_count": 20,
   "metadata": {},
   "outputs": [
    {
     "name": "stdout",
     "output_type": "stream",
     "text": [
      "Sentinel1EtadSwath(\"/IW1\")  0x7fc92377fcd0\n",
      "1 IW1 Sentinel1EtadBurst(\"/IW1/Burst0001\")  0x7fc92377ff10\n",
      "4 IW1 Sentinel1EtadBurst(\"/IW1/Burst0004\")  0x7fc923787410\n",
      "7 IW1 Sentinel1EtadBurst(\"/IW1/Burst0007\")  0x7fc923787590\n",
      "10 IW1 Sentinel1EtadBurst(\"/IW1/Burst0010\")  0x7fc923787190\n",
      "13 IW1 Sentinel1EtadBurst(\"/IW1/Burst0013\")  0x7fc923787390\n",
      "16 IW1 Sentinel1EtadBurst(\"/IW1/Burst0016\")  0x7fc923787b50\n",
      "19 IW1 Sentinel1EtadBurst(\"/IW1/Burst0019\")  0x7fc923787290\n",
      "22 IW1 Sentinel1EtadBurst(\"/IW1/Burst0022\")  0x7fc923787d50\n",
      "25 IW1 Sentinel1EtadBurst(\"/IW1/Burst0025\")  0x7fc923788190\n",
      "28 IW1 Sentinel1EtadBurst(\"/IW1/Burst0028\")  0x7fc923787c90\n",
      "31 IW1 Sentinel1EtadBurst(\"/IW1/Burst0031\")  0x7fc9237874d0\n",
      "34 IW1 Sentinel1EtadBurst(\"/IW1/Burst0034\")  0x7fc923787950\n",
      "37 IW1 Sentinel1EtadBurst(\"/IW1/Burst0037\")  0x7fc923787710\n",
      "40 IW1 Sentinel1EtadBurst(\"/IW1/Burst0040\")  0x7fc923787a50\n",
      "43 IW1 Sentinel1EtadBurst(\"/IW1/Burst0043\")  0x7fc923788490\n",
      "46 IW1 Sentinel1EtadBurst(\"/IW1/Burst0046\")  0x7fc923788090\n",
      "49 IW1 Sentinel1EtadBurst(\"/IW1/Burst0049\")  0x7fc923788290\n",
      "52 IW1 Sentinel1EtadBurst(\"/IW1/Burst0052\")  0x7fc923788350\n",
      "55 IW1 Sentinel1EtadBurst(\"/IW1/Burst0055\")  0x7fc923788590\n",
      "58 IW1 Sentinel1EtadBurst(\"/IW1/Burst0058\")  0x7fc923788990\n",
      "61 IW1 Sentinel1EtadBurst(\"/IW1/Burst0061\")  0x7fc923788690\n",
      "64 IW1 Sentinel1EtadBurst(\"/IW1/Burst0064\")  0x7fc923788b90\n",
      "67 IW1 Sentinel1EtadBurst(\"/IW1/Burst0067\")  0x7fc923788ad0\n",
      "70 IW1 Sentinel1EtadBurst(\"/IW1/Burst0070\")  0x7fc9237880d0\n",
      "73 IW1 Sentinel1EtadBurst(\"/IW1/Burst0073\")  0x7fc923788750\n",
      "76 IW1 Sentinel1EtadBurst(\"/IW1/Burst0076\")  0x7fc923788850\n",
      "79 IW1 Sentinel1EtadBurst(\"/IW1/Burst0079\")  0x7fc923788610\n",
      "82 IW1 Sentinel1EtadBurst(\"/IW1/Burst0082\")  0x7fc923788e10\n",
      "85 IW1 Sentinel1EtadBurst(\"/IW1/Burst0085\")  0x7fc923788f90\n",
      "88 IW1 Sentinel1EtadBurst(\"/IW1/Burst0088\")  0x7fc92378b0d0\n",
      "91 IW1 Sentinel1EtadBurst(\"/IW1/Burst0091\")  0x7fc92378b150\n",
      "94 IW1 Sentinel1EtadBurst(\"/IW1/Burst0094\")  0x7fc92378b2d0\n",
      "97 IW1 Sentinel1EtadBurst(\"/IW1/Burst0097\")  0x7fc92378b3d0\n",
      "100 IW1 Sentinel1EtadBurst(\"/IW1/Burst0100\")  0x7fc92378b7d0\n",
      "103 IW1 Sentinel1EtadBurst(\"/IW1/Burst0103\")  0x7fc92378b550\n",
      "106 IW1 Sentinel1EtadBurst(\"/IW1/Burst0106\")  0x7fc92378b710\n",
      "109 IW1 Sentinel1EtadBurst(\"/IW1/Burst0109\")  0x7fc92378b250\n",
      "112 IW1 Sentinel1EtadBurst(\"/IW1/Burst0112\")  0x7fc92378b8d0\n",
      "115 IW1 Sentinel1EtadBurst(\"/IW1/Burst0115\")  0x7fc92378bcd0\n",
      "118 IW1 Sentinel1EtadBurst(\"/IW1/Burst0118\")  0x7fc92378c110\n",
      "121 IW1 Sentinel1EtadBurst(\"/IW1/Burst0121\")  0x7fc92378c510\n",
      "124 IW1 Sentinel1EtadBurst(\"/IW1/Burst0124\")  0x7fc92378bad0\n",
      "127 IW1 Sentinel1EtadBurst(\"/IW1/Burst0127\")  0x7fc92378b9d0\n",
      "130 IW1 Sentinel1EtadBurst(\"/IW1/Burst0130\")  0x7fc92378c450\n",
      "133 IW1 Sentinel1EtadBurst(\"/IW1/Burst0133\")  0x7fc92378c610\n",
      "136 IW1 Sentinel1EtadBurst(\"/IW1/Burst0136\")  0x7fc92378ca10\n",
      "139 IW1 Sentinel1EtadBurst(\"/IW1/Burst0139\")  0x7fc92378bd90\n",
      "142 IW1 Sentinel1EtadBurst(\"/IW1/Burst0142\")  0x7fc92378bc10\n",
      "145 IW1 Sentinel1EtadBurst(\"/IW1/Burst0145\")  0x7fc92378ca50\n",
      "148 IW1 Sentinel1EtadBurst(\"/IW1/Burst0148\")  0x7fc92378c910\n",
      "151 IW1 Sentinel1EtadBurst(\"/IW1/Burst0151\")  0x7fc92378c250\n",
      "154 IW1 Sentinel1EtadBurst(\"/IW1/Burst0154\")  0x7fc92378cd10\n",
      "157 IW1 Sentinel1EtadBurst(\"/IW1/Burst0157\")  0x7fc92378cb50\n",
      "160 IW1 Sentinel1EtadBurst(\"/IW1/Burst0160\")  0x7fc92378c190\n",
      "163 IW1 Sentinel1EtadBurst(\"/IW1/Burst0163\")  0x7fc92378c950\n",
      "166 IW1 Sentinel1EtadBurst(\"/IW1/Burst0166\")  0x7fc92378c210\n",
      "169 IW1 Sentinel1EtadBurst(\"/IW1/Burst0169\")  0x7fc92378cf10\n",
      "172 IW1 Sentinel1EtadBurst(\"/IW1/Burst0172\")  0x7fc92378e350\n",
      "175 IW1 Sentinel1EtadBurst(\"/IW1/Burst0175\")  0x7fc92378e750\n",
      "178 IW1 Sentinel1EtadBurst(\"/IW1/Burst0178\")  0x7fc92378c6d0\n",
      "181 IW1 Sentinel1EtadBurst(\"/IW1/Burst0181\")  0x7fc92378c990\n",
      "184 IW1 Sentinel1EtadBurst(\"/IW1/Burst0184\")  0x7fc92378b750\n",
      "187 IW1 Sentinel1EtadBurst(\"/IW1/Burst0187\")  0x7fc92378e6d0\n",
      "190 IW1 Sentinel1EtadBurst(\"/IW1/Burst0190\")  0x7fc92378e1d0\n",
      "193 IW1 Sentinel1EtadBurst(\"/IW1/Burst0193\")  0x7fc92378e410\n",
      "196 IW1 Sentinel1EtadBurst(\"/IW1/Burst0196\")  0x7fc92378e510\n",
      "199 IW1 Sentinel1EtadBurst(\"/IW1/Burst0199\")  0x7fc92378e3d0\n",
      "202 IW1 Sentinel1EtadBurst(\"/IW1/Burst0202\")  0x7fc92378e0d0\n",
      "205 IW1 Sentinel1EtadBurst(\"/IW1/Burst0205\")  0x7fc92378e7d0\n",
      "208 IW1 Sentinel1EtadBurst(\"/IW1/Burst0208\")  0x7fc92378e950\n",
      "211 IW1 Sentinel1EtadBurst(\"/IW1/Burst0211\")  0x7fc92378ea50\n",
      "214 IW1 Sentinel1EtadBurst(\"/IW1/Burst0214\")  0x7fc92378ee50\n",
      "217 IW1 Sentinel1EtadBurst(\"/IW1/Burst0217\")  0x7fc92378e250\n",
      "220 IW1 Sentinel1EtadBurst(\"/IW1/Burst0220\")  0x7fc92378e550\n",
      "223 IW1 Sentinel1EtadBurst(\"/IW1/Burst0223\")  0x7fc92378e850\n",
      "226 IW1 Sentinel1EtadBurst(\"/IW1/Burst0226\")  0x7fc92378ef50\n",
      "229 IW1 Sentinel1EtadBurst(\"/IW1/Burst0229\")  0x7fc92378f090\n",
      "232 IW1 Sentinel1EtadBurst(\"/IW1/Burst0232\")  0x7fc92378f110\n",
      "235 IW1 Sentinel1EtadBurst(\"/IW1/Burst0235\")  0x7fc92378ec10\n",
      "238 IW1 Sentinel1EtadBurst(\"/IW1/Burst0238\")  0x7fc92378f210\n",
      "241 IW1 Sentinel1EtadBurst(\"/IW1/Burst0241\")  0x7fc92378f610\n",
      "244 IW1 Sentinel1EtadBurst(\"/IW1/Burst0244\")  0x7fc92378f2d0\n",
      "247 IW1 Sentinel1EtadBurst(\"/IW1/Burst0247\")  0x7fc92378f990\n",
      "250 IW1 Sentinel1EtadBurst(\"/IW1/Burst0250\")  0x7fc92378f350\n",
      "253 IW1 Sentinel1EtadBurst(\"/IW1/Burst0253\")  0x7fc92378f450\n",
      "256 IW1 Sentinel1EtadBurst(\"/IW1/Burst0256\")  0x7fc92378f550\n",
      "259 IW1 Sentinel1EtadBurst(\"/IW1/Burst0259\")  0x7fc92378f850\n",
      "262 IW1 Sentinel1EtadBurst(\"/IW1/Burst0262\")  0x7fc92378fd10\n",
      "265 IW1 Sentinel1EtadBurst(\"/IW1/Burst0265\")  0x7fc923792150\n",
      "268 IW1 Sentinel1EtadBurst(\"/IW1/Burst0268\")  0x7fc92378fb10\n",
      "271 IW1 Sentinel1EtadBurst(\"/IW1/Burst0271\")  0x7fc92378fa10\n",
      "274 IW1 Sentinel1EtadBurst(\"/IW1/Burst0274\")  0x7fc9237922d0\n",
      "277 IW1 Sentinel1EtadBurst(\"/IW1/Burst0277\")  0x7fc9237926d0\n",
      "280 IW1 Sentinel1EtadBurst(\"/IW1/Burst0280\")  0x7fc92378fb90\n",
      "283 IW1 Sentinel1EtadBurst(\"/IW1/Burst0283\")  0x7fc923792650\n",
      "286 IW1 Sentinel1EtadBurst(\"/IW1/Burst0286\")  0x7fc923792550\n",
      "289 IW1 Sentinel1EtadBurst(\"/IW1/Burst0289\")  0x7fc9237927d0\n",
      "292 IW1 Sentinel1EtadBurst(\"/IW1/Burst0292\")  0x7fc923792210\n",
      "295 IW1 Sentinel1EtadBurst(\"/IW1/Burst0295\")  0x7fc92378fdd0\n",
      "298 IW1 Sentinel1EtadBurst(\"/IW1/Burst0298\")  0x7fc923792590\n",
      "301 IW1 Sentinel1EtadBurst(\"/IW1/Burst0301\")  0x7fc923792bd0\n",
      "304 IW1 Sentinel1EtadBurst(\"/IW1/Burst0304\")  0x7fc923792410\n",
      "\n",
      "Sentinel1EtadSwath(\"/IW2\")  0x7fc923778410\n",
      "2 IW2 Sentinel1EtadBurst(\"/IW2/Burst0002\")  0x7fc923778e10\n",
      "5 IW2 Sentinel1EtadBurst(\"/IW2/Burst0005\")  0x7fc923792750\n",
      "8 IW2 Sentinel1EtadBurst(\"/IW2/Burst0008\")  0x7fc923792890\n",
      "11 IW2 Sentinel1EtadBurst(\"/IW2/Burst0011\")  0x7fc923792990\n",
      "14 IW2 Sentinel1EtadBurst(\"/IW2/Burst0014\")  0x7fc923792a90\n",
      "17 IW2 Sentinel1EtadBurst(\"/IW2/Burst0017\")  0x7fc923792190\n",
      "20 IW2 Sentinel1EtadBurst(\"/IW2/Burst0020\")  0x7fc923795090\n",
      "23 IW2 Sentinel1EtadBurst(\"/IW2/Burst0023\")  0x7fc923795190\n",
      "26 IW2 Sentinel1EtadBurst(\"/IW2/Burst0026\")  0x7fc923795290\n",
      "29 IW2 Sentinel1EtadBurst(\"/IW2/Burst0029\")  0x7fc923795310\n",
      "32 IW2 Sentinel1EtadBurst(\"/IW2/Burst0032\")  0x7fc923795710\n",
      "35 IW2 Sentinel1EtadBurst(\"/IW2/Burst0035\")  0x7fc923795450\n",
      "38 IW2 Sentinel1EtadBurst(\"/IW2/Burst0038\")  0x7fc923795210\n",
      "41 IW2 Sentinel1EtadBurst(\"/IW2/Burst0041\")  0x7fc923795790\n",
      "44 IW2 Sentinel1EtadBurst(\"/IW2/Burst0044\")  0x7fc923795890\n",
      "47 IW2 Sentinel1EtadBurst(\"/IW2/Burst0047\")  0x7fc923795910\n",
      "50 IW2 Sentinel1EtadBurst(\"/IW2/Burst0050\")  0x7fc923795a90\n",
      "53 IW2 Sentinel1EtadBurst(\"/IW2/Burst0053\")  0x7fc923795b90\n",
      "56 IW2 Sentinel1EtadBurst(\"/IW2/Burst0056\")  0x7fc923795c10\n",
      "59 IW2 Sentinel1EtadBurst(\"/IW2/Burst0059\")  0x7fc9237955d0\n",
      "62 IW2 Sentinel1EtadBurst(\"/IW2/Burst0062\")  0x7fc923795e90\n",
      "65 IW2 Sentinel1EtadBurst(\"/IW2/Burst0065\")  0x7fc923795f90\n",
      "68 IW2 Sentinel1EtadBurst(\"/IW2/Burst0068\")  0x7fc9237960d0\n",
      "71 IW2 Sentinel1EtadBurst(\"/IW2/Burst0071\")  0x7fc9237961d0\n",
      "74 IW2 Sentinel1EtadBurst(\"/IW2/Burst0074\")  0x7fc9237962d0\n",
      "77 IW2 Sentinel1EtadBurst(\"/IW2/Burst0077\")  0x7fc9237963d0\n",
      "80 IW2 Sentinel1EtadBurst(\"/IW2/Burst0080\")  0x7fc9237964d0\n",
      "83 IW2 Sentinel1EtadBurst(\"/IW2/Burst0083\")  0x7fc923796350\n",
      "86 IW2 Sentinel1EtadBurst(\"/IW2/Burst0086\")  0x7fc9237965d0\n",
      "89 IW2 Sentinel1EtadBurst(\"/IW2/Burst0089\")  0x7fc923796650\n",
      "92 IW2 Sentinel1EtadBurst(\"/IW2/Burst0092\")  0x7fc9237966d0\n",
      "95 IW2 Sentinel1EtadBurst(\"/IW2/Burst0095\")  0x7fc923796750\n",
      "98 IW2 Sentinel1EtadBurst(\"/IW2/Burst0098\")  0x7fc9237967d0\n",
      "101 IW2 Sentinel1EtadBurst(\"/IW2/Burst0101\")  0x7fc923796b50\n",
      "104 IW2 Sentinel1EtadBurst(\"/IW2/Burst0104\")  0x7fc923796510\n",
      "107 IW2 Sentinel1EtadBurst(\"/IW2/Burst0107\")  0x7fc923796050\n",
      "110 IW2 Sentinel1EtadBurst(\"/IW2/Burst0110\")  0x7fc923796410\n",
      "113 IW2 Sentinel1EtadBurst(\"/IW2/Burst0113\")  0x7fc923796cd0\n",
      "116 IW2 Sentinel1EtadBurst(\"/IW2/Burst0116\")  0x7fc9237968d0\n",
      "119 IW2 Sentinel1EtadBurst(\"/IW2/Burst0119\")  0x7fc923796950\n",
      "122 IW2 Sentinel1EtadBurst(\"/IW2/Burst0122\")  0x7fc923796990\n",
      "125 IW2 Sentinel1EtadBurst(\"/IW2/Burst0125\")  0x7fc923796610\n",
      "128 IW2 Sentinel1EtadBurst(\"/IW2/Burst0128\")  0x7fc923796c90\n",
      "131 IW2 Sentinel1EtadBurst(\"/IW2/Burst0131\")  0x7fc923796d50\n",
      "134 IW2 Sentinel1EtadBurst(\"/IW2/Burst0134\")  0x7fc923799110\n",
      "137 IW2 Sentinel1EtadBurst(\"/IW2/Burst0137\")  0x7fc923796590\n",
      "140 IW2 Sentinel1EtadBurst(\"/IW2/Burst0140\")  0x7fc923796450\n",
      "143 IW2 Sentinel1EtadBurst(\"/IW2/Burst0143\")  0x7fc923796e10\n",
      "146 IW2 Sentinel1EtadBurst(\"/IW2/Burst0146\")  0x7fc923796e90\n",
      "149 IW2 Sentinel1EtadBurst(\"/IW2/Burst0149\")  0x7fc923796bd0\n",
      "152 IW2 Sentinel1EtadBurst(\"/IW2/Burst0152\")  0x7fc923799290\n",
      "155 IW2 Sentinel1EtadBurst(\"/IW2/Burst0155\")  0x7fc9237990d0\n",
      "158 IW2 Sentinel1EtadBurst(\"/IW2/Burst0158\")  0x7fc923799510\n",
      "161 IW2 Sentinel1EtadBurst(\"/IW2/Burst0161\")  0x7fc923799350\n",
      "164 IW2 Sentinel1EtadBurst(\"/IW2/Burst0164\")  0x7fc9237992d0\n",
      "167 IW2 Sentinel1EtadBurst(\"/IW2/Burst0167\")  0x7fc923799190\n",
      "170 IW2 Sentinel1EtadBurst(\"/IW2/Burst0170\")  0x7fc923799150\n",
      "173 IW2 Sentinel1EtadBurst(\"/IW2/Burst0173\")  0x7fc923799790\n",
      "176 IW2 Sentinel1EtadBurst(\"/IW2/Burst0176\")  0x7fc923799690\n",
      "179 IW2 Sentinel1EtadBurst(\"/IW2/Burst0179\")  0x7fc923799590\n",
      "182 IW2 Sentinel1EtadBurst(\"/IW2/Burst0182\")  0x7fc9237994d0\n",
      "185 IW2 Sentinel1EtadBurst(\"/IW2/Burst0185\")  0x7fc923799810\n",
      "188 IW2 Sentinel1EtadBurst(\"/IW2/Burst0188\")  0x7fc923799890\n",
      "191 IW2 Sentinel1EtadBurst(\"/IW2/Burst0191\")  0x7fc9237997d0\n",
      "194 IW2 Sentinel1EtadBurst(\"/IW2/Burst0194\")  0x7fc923799710\n",
      "197 IW2 Sentinel1EtadBurst(\"/IW2/Burst0197\")  0x7fc923799490\n",
      "200 IW2 Sentinel1EtadBurst(\"/IW2/Burst0200\")  0x7fc923799390\n",
      "203 IW2 Sentinel1EtadBurst(\"/IW2/Burst0203\")  0x7fc923799b90\n",
      "206 IW2 Sentinel1EtadBurst(\"/IW2/Burst0206\")  0x7fc923799f10\n",
      "209 IW2 Sentinel1EtadBurst(\"/IW2/Burst0209\")  0x7fc923799a90\n",
      "212 IW2 Sentinel1EtadBurst(\"/IW2/Burst0212\")  0x7fc923799a10\n",
      "215 IW2 Sentinel1EtadBurst(\"/IW2/Burst0215\")  0x7fc923799990\n",
      "218 IW2 Sentinel1EtadBurst(\"/IW2/Burst0218\")  0x7fc923799910\n",
      "221 IW2 Sentinel1EtadBurst(\"/IW2/Burst0221\")  0x7fc923799550\n",
      "224 IW2 Sentinel1EtadBurst(\"/IW2/Burst0224\")  0x7fc92379b050\n",
      "227 IW2 Sentinel1EtadBurst(\"/IW2/Burst0227\")  0x7fc923799c10\n",
      "230 IW2 Sentinel1EtadBurst(\"/IW2/Burst0230\")  0x7fc923799bd0\n",
      "233 IW2 Sentinel1EtadBurst(\"/IW2/Burst0233\")  0x7fc923799d10\n",
      "236 IW2 Sentinel1EtadBurst(\"/IW2/Burst0236\")  0x7fc923799d90\n",
      "239 IW2 Sentinel1EtadBurst(\"/IW2/Burst0239\")  0x7fc923799e10\n",
      "242 IW2 Sentinel1EtadBurst(\"/IW2/Burst0242\")  0x7fc92379b350\n",
      "245 IW2 Sentinel1EtadBurst(\"/IW2/Burst0245\")  0x7fc92379b6d0\n",
      "248 IW2 Sentinel1EtadBurst(\"/IW2/Burst0248\")  0x7fc92379ba50\n",
      "251 IW2 Sentinel1EtadBurst(\"/IW2/Burst0251\")  0x7fc92379b990\n",
      "254 IW2 Sentinel1EtadBurst(\"/IW2/Burst0254\")  0x7fc92379b910\n",
      "257 IW2 Sentinel1EtadBurst(\"/IW2/Burst0257\")  0x7fc92379b890\n",
      "260 IW2 Sentinel1EtadBurst(\"/IW2/Burst0260\")  0x7fc92379b950\n",
      "263 IW2 Sentinel1EtadBurst(\"/IW2/Burst0263\")  0x7fc92379b790\n",
      "266 IW2 Sentinel1EtadBurst(\"/IW2/Burst0266\")  0x7fc92379b710\n",
      "269 IW2 Sentinel1EtadBurst(\"/IW2/Burst0269\")  0x7fc92379b290\n",
      "272 IW2 Sentinel1EtadBurst(\"/IW2/Burst0272\")  0x7fc92379b510\n",
      "275 IW2 Sentinel1EtadBurst(\"/IW2/Burst0275\")  0x7fc92379b590\n",
      "278 IW2 Sentinel1EtadBurst(\"/IW2/Burst0278\")  0x7fc92379b110\n",
      "281 IW2 Sentinel1EtadBurst(\"/IW2/Burst0281\")  0x7fc92379b750\n",
      "284 IW2 Sentinel1EtadBurst(\"/IW2/Burst0284\")  0x7fc92379b7d0\n",
      "287 IW2 Sentinel1EtadBurst(\"/IW2/Burst0287\")  0x7fc92379b450\n",
      "290 IW2 Sentinel1EtadBurst(\"/IW2/Burst0290\")  0x7fc92379b5d0\n",
      "293 IW2 Sentinel1EtadBurst(\"/IW2/Burst0293\")  0x7fc92379b550\n",
      "296 IW2 Sentinel1EtadBurst(\"/IW2/Burst0296\")  0x7fc92379bc50\n",
      "299 IW2 Sentinel1EtadBurst(\"/IW2/Burst0299\")  0x7fc92379b850\n",
      "302 IW2 Sentinel1EtadBurst(\"/IW2/Burst0302\")  0x7fc92379bd50\n",
      "305 IW2 Sentinel1EtadBurst(\"/IW2/Burst0305\")  0x7fc92379b1d0\n",
      "\n",
      "Sentinel1EtadSwath(\"/IW3\")  0x7fc92379b390\n",
      "3 IW3 Sentinel1EtadBurst(\"/IW3/Burst0003\")  0x7fc92379b490\n",
      "6 IW3 Sentinel1EtadBurst(\"/IW3/Burst0006\")  0x7fc92379ba10\n",
      "9 IW3 Sentinel1EtadBurst(\"/IW3/Burst0009\")  0x7fc92379bb50\n",
      "12 IW3 Sentinel1EtadBurst(\"/IW3/Burst0012\")  0x7fc92379d090\n",
      "15 IW3 Sentinel1EtadBurst(\"/IW3/Burst0015\")  0x7fc92379b0d0\n",
      "18 IW3 Sentinel1EtadBurst(\"/IW3/Burst0018\")  0x7fc92379b150\n",
      "21 IW3 Sentinel1EtadBurst(\"/IW3/Burst0021\")  0x7fc92379d210\n",
      "24 IW3 Sentinel1EtadBurst(\"/IW3/Burst0024\")  0x7fc92379bd90\n",
      "27 IW3 Sentinel1EtadBurst(\"/IW3/Burst0027\")  0x7fc92379bbd0\n",
      "30 IW3 Sentinel1EtadBurst(\"/IW3/Burst0030\")  0x7fc92379d390\n",
      "33 IW3 Sentinel1EtadBurst(\"/IW3/Burst0033\")  0x7fc92379d2d0\n",
      "36 IW3 Sentinel1EtadBurst(\"/IW3/Burst0036\")  0x7fc92379bed0\n",
      "39 IW3 Sentinel1EtadBurst(\"/IW3/Burst0039\")  0x7fc92379d050\n",
      "42 IW3 Sentinel1EtadBurst(\"/IW3/Burst0042\")  0x7fc92379d590\n",
      "45 IW3 Sentinel1EtadBurst(\"/IW3/Burst0045\")  0x7fc92379d3d0\n",
      "48 IW3 Sentinel1EtadBurst(\"/IW3/Burst0048\")  0x7fc92379d190\n",
      "51 IW3 Sentinel1EtadBurst(\"/IW3/Burst0051\")  0x7fc92379d110\n",
      "54 IW3 Sentinel1EtadBurst(\"/IW3/Burst0054\")  0x7fc92379d790\n",
      "57 IW3 Sentinel1EtadBurst(\"/IW3/Burst0057\")  0x7fc92379d0d0\n",
      "60 IW3 Sentinel1EtadBurst(\"/IW3/Burst0060\")  0x7fc92379d150\n",
      "63 IW3 Sentinel1EtadBurst(\"/IW3/Burst0063\")  0x7fc92379d910\n",
      "66 IW3 Sentinel1EtadBurst(\"/IW3/Burst0066\")  0x7fc92379d510\n",
      "69 IW3 Sentinel1EtadBurst(\"/IW3/Burst0069\")  0x7fc92379d710\n",
      "72 IW3 Sentinel1EtadBurst(\"/IW3/Burst0072\")  0x7fc92379d890\n",
      "75 IW3 Sentinel1EtadBurst(\"/IW3/Burst0075\")  0x7fc92379d610\n",
      "78 IW3 Sentinel1EtadBurst(\"/IW3/Burst0078\")  0x7fc92379d850\n",
      "81 IW3 Sentinel1EtadBurst(\"/IW3/Burst0081\")  0x7fc92379d8d0\n",
      "84 IW3 Sentinel1EtadBurst(\"/IW3/Burst0084\")  0x7fc92379d9d0\n",
      "87 IW3 Sentinel1EtadBurst(\"/IW3/Burst0087\")  0x7fc92379dd50\n",
      "90 IW3 Sentinel1EtadBurst(\"/IW3/Burst0090\")  0x7fc92379e110\n",
      "93 IW3 Sentinel1EtadBurst(\"/IW3/Burst0093\")  0x7fc92379dbd0\n",
      "96 IW3 Sentinel1EtadBurst(\"/IW3/Burst0096\")  0x7fc92379db50\n",
      "99 IW3 Sentinel1EtadBurst(\"/IW3/Burst0099\")  0x7fc92379d410\n",
      "102 IW3 Sentinel1EtadBurst(\"/IW3/Burst0102\")  0x7fc92379da50\n",
      "105 IW3 Sentinel1EtadBurst(\"/IW3/Burst0105\")  0x7fc92379db90\n",
      "108 IW3 Sentinel1EtadBurst(\"/IW3/Burst0108\")  0x7fc92379df50\n",
      "111 IW3 Sentinel1EtadBurst(\"/IW3/Burst0111\")  0x7fc92379ded0\n",
      "114 IW3 Sentinel1EtadBurst(\"/IW3/Burst0114\")  0x7fc92379de50\n",
      "117 IW3 Sentinel1EtadBurst(\"/IW3/Burst0117\")  0x7fc92379ddd0\n",
      "120 IW3 Sentinel1EtadBurst(\"/IW3/Burst0120\")  0x7fc92379dcd0\n",
      "123 IW3 Sentinel1EtadBurst(\"/IW3/Burst0123\")  0x7fc92379e050\n",
      "126 IW3 Sentinel1EtadBurst(\"/IW3/Burst0126\")  0x7fc92379e0d0\n",
      "129 IW3 Sentinel1EtadBurst(\"/IW3/Burst0129\")  0x7fc92379e090\n",
      "132 IW3 Sentinel1EtadBurst(\"/IW3/Burst0132\")  0x7fc92379e210\n",
      "135 IW3 Sentinel1EtadBurst(\"/IW3/Burst0135\")  0x7fc92379e290\n",
      "138 IW3 Sentinel1EtadBurst(\"/IW3/Burst0138\")  0x7fc92379e310\n",
      "141 IW3 Sentinel1EtadBurst(\"/IW3/Burst0141\")  0x7fc92379e390\n",
      "144 IW3 Sentinel1EtadBurst(\"/IW3/Burst0144\")  0x7fc92379e410\n",
      "147 IW3 Sentinel1EtadBurst(\"/IW3/Burst0147\")  0x7fc92379e790\n",
      "150 IW3 Sentinel1EtadBurst(\"/IW3/Burst0150\")  0x7fc92379e4d0\n",
      "153 IW3 Sentinel1EtadBurst(\"/IW3/Burst0153\")  0x7fc92379e610\n",
      "156 IW3 Sentinel1EtadBurst(\"/IW3/Burst0156\")  0x7fc92379e810\n",
      "159 IW3 Sentinel1EtadBurst(\"/IW3/Burst0159\")  0x7fc92379e550\n",
      "162 IW3 Sentinel1EtadBurst(\"/IW3/Burst0162\")  0x7fc92379e350\n",
      "165 IW3 Sentinel1EtadBurst(\"/IW3/Burst0165\")  0x7fc92379e150\n",
      "168 IW3 Sentinel1EtadBurst(\"/IW3/Burst0168\")  0x7fc92379e510\n",
      "171 IW3 Sentinel1EtadBurst(\"/IW3/Burst0171\")  0x7fc92379e890\n",
      "174 IW3 Sentinel1EtadBurst(\"/IW3/Burst0174\")  0x7fc92379e910\n",
      "177 IW3 Sentinel1EtadBurst(\"/IW3/Burst0177\")  0x7fc92379e990\n",
      "180 IW3 Sentinel1EtadBurst(\"/IW3/Burst0180\")  0x7fc92379ea10\n",
      "183 IW3 Sentinel1EtadBurst(\"/IW3/Burst0183\")  0x7fc92379ea90\n",
      "186 IW3 Sentinel1EtadBurst(\"/IW3/Burst0186\")  0x7fc92379ea50\n",
      "189 IW3 Sentinel1EtadBurst(\"/IW3/Burst0189\")  0x7fc92379eb90\n",
      "192 IW3 Sentinel1EtadBurst(\"/IW3/Burst0192\")  0x7fc92379ef10\n",
      "195 IW3 Sentinel1EtadBurst(\"/IW3/Burst0195\")  0x7fc9237a02d0\n",
      "198 IW3 Sentinel1EtadBurst(\"/IW3/Burst0198\")  0x7fc92379ead0\n",
      "201 IW3 Sentinel1EtadBurst(\"/IW3/Burst0201\")  0x7fc92379e650\n",
      "204 IW3 Sentinel1EtadBurst(\"/IW3/Burst0204\")  0x7fc92379e5d0\n",
      "207 IW3 Sentinel1EtadBurst(\"/IW3/Burst0207\")  0x7fc92379e8d0\n",
      "210 IW3 Sentinel1EtadBurst(\"/IW3/Burst0210\")  0x7fc92379e1d0\n",
      "213 IW3 Sentinel1EtadBurst(\"/IW3/Burst0213\")  0x7fc92379ee50\n",
      "216 IW3 Sentinel1EtadBurst(\"/IW3/Burst0216\")  0x7fc92379e490\n",
      "219 IW3 Sentinel1EtadBurst(\"/IW3/Burst0219\")  0x7fc9237a03d0\n",
      "222 IW3 Sentinel1EtadBurst(\"/IW3/Burst0222\")  0x7fc9237a0050\n",
      "225 IW3 Sentinel1EtadBurst(\"/IW3/Burst0225\")  0x7fc9237a0090\n",
      "228 IW3 Sentinel1EtadBurst(\"/IW3/Burst0228\")  0x7fc9237a0110\n",
      "231 IW3 Sentinel1EtadBurst(\"/IW3/Burst0231\")  0x7fc9237a05d0\n",
      "234 IW3 Sentinel1EtadBurst(\"/IW3/Burst0234\")  0x7fc9237a04d0\n",
      "237 IW3 Sentinel1EtadBurst(\"/IW3/Burst0237\")  0x7fc9237a0650\n",
      "240 IW3 Sentinel1EtadBurst(\"/IW3/Burst0240\")  0x7fc9237a0210\n",
      "243 IW3 Sentinel1EtadBurst(\"/IW3/Burst0243\")  0x7fc9237a0390\n",
      "246 IW3 Sentinel1EtadBurst(\"/IW3/Burst0246\")  0x7fc923787bd0\n",
      "249 IW3 Sentinel1EtadBurst(\"/IW3/Burst0249\")  0x7fc923787e10\n",
      "252 IW3 Sentinel1EtadBurst(\"/IW3/Burst0252\")  0x7fc923787710\n",
      "255 IW3 Sentinel1EtadBurst(\"/IW3/Burst0255\")  0x7fc923787310\n",
      "258 IW3 Sentinel1EtadBurst(\"/IW3/Burst0258\")  0x7fc9237871d0\n",
      "261 IW3 Sentinel1EtadBurst(\"/IW3/Burst0261\")  0x7fc923787510\n",
      "264 IW3 Sentinel1EtadBurst(\"/IW3/Burst0264\")  0x7fc9237883d0\n",
      "267 IW3 Sentinel1EtadBurst(\"/IW3/Burst0267\")  0x7fc923787850\n",
      "270 IW3 Sentinel1EtadBurst(\"/IW3/Burst0270\")  0x7fc9237874d0\n",
      "273 IW3 Sentinel1EtadBurst(\"/IW3/Burst0273\")  0x7fc923787b50\n",
      "276 IW3 Sentinel1EtadBurst(\"/IW3/Burst0276\")  0x7fc9237881d0\n",
      "279 IW3 Sentinel1EtadBurst(\"/IW3/Burst0279\")  0x7fc923788cd0\n",
      "282 IW3 Sentinel1EtadBurst(\"/IW3/Burst0282\")  0x7fc923788b90\n",
      "285 IW3 Sentinel1EtadBurst(\"/IW3/Burst0285\")  0x7fc92378c390\n",
      "288 IW3 Sentinel1EtadBurst(\"/IW3/Burst0288\")  0x7fc923788a50\n",
      "291 IW3 Sentinel1EtadBurst(\"/IW3/Burst0291\")  0x7fc923788e50\n",
      "294 IW3 Sentinel1EtadBurst(\"/IW3/Burst0294\")  0x7fc923788c10\n",
      "297 IW3 Sentinel1EtadBurst(\"/IW3/Burst0297\")  0x7fc923788dd0\n",
      "300 IW3 Sentinel1EtadBurst(\"/IW3/Burst0300\")  0x7fc923788610\n",
      "303 IW3 Sentinel1EtadBurst(\"/IW3/Burst0303\")  0x7fc923788f90\n",
      "306 IW3 Sentinel1EtadBurst(\"/IW3/Burst0306\")  0x7fc923788350\n",
      "\n"
     ]
    }
   ],
   "source": [
    "for swath in eta:\n",
    "    print(swath)\n",
    "    for burst in swath:\n",
    "        print(burst.burst_index, burst.swath_id, burst)\n",
    "    print()"
   ]
  },
  {
   "cell_type": "markdown",
   "metadata": {},
   "source": [
    "### How to iterate only on selected items"
   ]
  },
  {
   "cell_type": "markdown",
   "metadata": {},
   "source": [
    "It is also possible to iterate on a sub-set of the products swaths (or a sub-set of the swath bursts):"
   ]
  },
  {
   "cell_type": "code",
   "execution_count": 21,
   "metadata": {},
   "outputs": [
    {
     "name": "stdout",
     "output_type": "stream",
     "text": [
      " 1 IW1 Sentinel1EtadBurst(\"/IW1/Burst0001\")  0x7fc923787f10\n",
      " 7 IW1 Sentinel1EtadBurst(\"/IW1/Burst0007\")  0x7fc923787950\n",
      "13 IW1 Sentinel1EtadBurst(\"/IW1/Burst0013\")  0x7fc923787d50\n",
      "19 IW1 Sentinel1EtadBurst(\"/IW1/Burst0019\")  0x7fc92378c3d0\n",
      "25 IW1 Sentinel1EtadBurst(\"/IW1/Burst0025\")  0x7fc92378cf50\n",
      "31 IW1 Sentinel1EtadBurst(\"/IW1/Burst0031\")  0x7fc92378c050\n",
      "37 IW1 Sentinel1EtadBurst(\"/IW1/Burst0037\")  0x7fc92378c790\n",
      "43 IW1 Sentinel1EtadBurst(\"/IW1/Burst0043\")  0x7fc923787090\n",
      "49 IW1 Sentinel1EtadBurst(\"/IW1/Burst0049\")  0x7fc923787f50\n",
      "55 IW1 Sentinel1EtadBurst(\"/IW1/Burst0055\")  0x7fc923787a90\n",
      "61 IW1 Sentinel1EtadBurst(\"/IW1/Burst0061\")  0x7fc92378ce10\n",
      "67 IW1 Sentinel1EtadBurst(\"/IW1/Burst0067\")  0x7fc92378c350\n",
      "73 IW1 Sentinel1EtadBurst(\"/IW1/Burst0073\")  0x7fc92378c890\n",
      "79 IW1 Sentinel1EtadBurst(\"/IW1/Burst0079\")  0x7fc92378c750\n",
      "85 IW1 Sentinel1EtadBurst(\"/IW1/Burst0085\")  0x7fc923787ad0\n",
      "91 IW1 Sentinel1EtadBurst(\"/IW1/Burst0091\")  0x7fc92378cbd0\n",
      "97 IW1 Sentinel1EtadBurst(\"/IW1/Burst0097\")  0x7fc923787210\n",
      "103 IW1 Sentinel1EtadBurst(\"/IW1/Burst0103\")  0x7fc92378cfd0\n",
      "109 IW1 Sentinel1EtadBurst(\"/IW1/Burst0109\")  0x7fc92378cd50\n",
      "115 IW1 Sentinel1EtadBurst(\"/IW1/Burst0115\")  0x7fc92378cd90\n",
      "121 IW1 Sentinel1EtadBurst(\"/IW1/Burst0121\")  0x7fc92378c850\n",
      "127 IW1 Sentinel1EtadBurst(\"/IW1/Burst0127\")  0x7fc92378cf90\n",
      "133 IW1 Sentinel1EtadBurst(\"/IW1/Burst0133\")  0x7fc92378ca90\n",
      "139 IW1 Sentinel1EtadBurst(\"/IW1/Burst0139\")  0x7fc923787d90\n",
      "145 IW1 Sentinel1EtadBurst(\"/IW1/Burst0145\")  0x7fc92378c150\n",
      "151 IW1 Sentinel1EtadBurst(\"/IW1/Burst0151\")  0x7fc92378ce50\n",
      "157 IW1 Sentinel1EtadBurst(\"/IW1/Burst0157\")  0x7fc92378cad0\n",
      "163 IW1 Sentinel1EtadBurst(\"/IW1/Burst0163\")  0x7fc92378cc50\n",
      "169 IW1 Sentinel1EtadBurst(\"/IW1/Burst0169\")  0x7fc92378cb90\n",
      "175 IW1 Sentinel1EtadBurst(\"/IW1/Burst0175\")  0x7fc92378c7d0\n",
      "181 IW1 Sentinel1EtadBurst(\"/IW1/Burst0181\")  0x7fc92378c2d0\n",
      "187 IW1 Sentinel1EtadBurst(\"/IW1/Burst0187\")  0x7fc92378c290\n",
      "193 IW1 Sentinel1EtadBurst(\"/IW1/Burst0193\")  0x7fc92378c710\n",
      "199 IW1 Sentinel1EtadBurst(\"/IW1/Burst0199\")  0x7fc92377f8d0\n",
      "205 IW1 Sentinel1EtadBurst(\"/IW1/Burst0205\")  0x7fc92378cdd0\n",
      "211 IW1 Sentinel1EtadBurst(\"/IW1/Burst0211\")  0x7fc92378c650\n",
      "217 IW1 Sentinel1EtadBurst(\"/IW1/Burst0217\")  0x7fc92378c610\n",
      "223 IW1 Sentinel1EtadBurst(\"/IW1/Burst0223\")  0x7fc92378cd10\n",
      "229 IW1 Sentinel1EtadBurst(\"/IW1/Burst0229\")  0x7fc92378ca10\n",
      "235 IW1 Sentinel1EtadBurst(\"/IW1/Burst0235\")  0x7fc92378c450\n",
      "241 IW1 Sentinel1EtadBurst(\"/IW1/Burst0241\")  0x7fc92378cc90\n",
      "247 IW1 Sentinel1EtadBurst(\"/IW1/Burst0247\")  0x7fc92378c210\n",
      "253 IW1 Sentinel1EtadBurst(\"/IW1/Burst0253\")  0x7fc92378c190\n",
      "259 IW1 Sentinel1EtadBurst(\"/IW1/Burst0259\")  0x7fc92378c110\n",
      "265 IW1 Sentinel1EtadBurst(\"/IW1/Burst0265\")  0x7fc923787190\n",
      "271 IW1 Sentinel1EtadBurst(\"/IW1/Burst0271\")  0x7fc92378cb50\n",
      "277 IW1 Sentinel1EtadBurst(\"/IW1/Burst0277\")  0x7fc92378cf10\n",
      "283 IW1 Sentinel1EtadBurst(\"/IW1/Burst0283\")  0x7fc92378c950\n",
      "289 IW1 Sentinel1EtadBurst(\"/IW1/Burst0289\")  0x7fc92378ca50\n",
      "295 IW1 Sentinel1EtadBurst(\"/IW1/Burst0295\")  0x7fc92378b410\n",
      "301 IW1 Sentinel1EtadBurst(\"/IW1/Burst0301\")  0x7fc92378b950\n",
      " 5 IW2 Sentinel1EtadBurst(\"/IW2/Burst0005\")  0x7fc92377ff90\n",
      "11 IW2 Sentinel1EtadBurst(\"/IW2/Burst0011\")  0x7fc92378c250\n",
      "17 IW2 Sentinel1EtadBurst(\"/IW2/Burst0017\")  0x7fc92378ce90\n",
      "23 IW2 Sentinel1EtadBurst(\"/IW2/Burst0023\")  0x7fc92378c510\n",
      "29 IW2 Sentinel1EtadBurst(\"/IW2/Burst0029\")  0x7fc923787650\n",
      "35 IW2 Sentinel1EtadBurst(\"/IW2/Burst0035\")  0x7fc92378b910\n",
      "41 IW2 Sentinel1EtadBurst(\"/IW2/Burst0041\")  0x7fc92378bd10\n",
      "47 IW2 Sentinel1EtadBurst(\"/IW2/Burst0047\")  0x7fc92378bd50\n",
      "53 IW2 Sentinel1EtadBurst(\"/IW2/Burst0053\")  0x7fc92378b4d0\n",
      "59 IW2 Sentinel1EtadBurst(\"/IW2/Burst0059\")  0x7fc92378b310\n",
      "65 IW2 Sentinel1EtadBurst(\"/IW2/Burst0065\")  0x7fc92378c6d0\n",
      "71 IW2 Sentinel1EtadBurst(\"/IW2/Burst0071\")  0x7fc92378bf50\n",
      "77 IW2 Sentinel1EtadBurst(\"/IW2/Burst0077\")  0x7fc92378bf10\n",
      "83 IW2 Sentinel1EtadBurst(\"/IW2/Burst0083\")  0x7fc92378bf90\n",
      "89 IW2 Sentinel1EtadBurst(\"/IW2/Burst0089\")  0x7fc92378ba10\n",
      "95 IW2 Sentinel1EtadBurst(\"/IW2/Burst0095\")  0x7fc92378b490\n",
      "101 IW2 Sentinel1EtadBurst(\"/IW2/Burst0101\")  0x7fc92378b1d0\n",
      "107 IW2 Sentinel1EtadBurst(\"/IW2/Burst0107\")  0x7fc92378bfd0\n",
      "113 IW2 Sentinel1EtadBurst(\"/IW2/Burst0113\")  0x7fc92378b590\n",
      "119 IW2 Sentinel1EtadBurst(\"/IW2/Burst0119\")  0x7fc92378b350\n",
      "125 IW2 Sentinel1EtadBurst(\"/IW2/Burst0125\")  0x7fc92378bdd0\n",
      "131 IW2 Sentinel1EtadBurst(\"/IW2/Burst0131\")  0x7fc92378bb10\n",
      "137 IW2 Sentinel1EtadBurst(\"/IW2/Burst0137\")  0x7fc92378c910\n",
      "143 IW2 Sentinel1EtadBurst(\"/IW2/Burst0143\")  0x7fc92378b650\n",
      "149 IW2 Sentinel1EtadBurst(\"/IW2/Burst0149\")  0x7fc92378b850\n",
      "155 IW2 Sentinel1EtadBurst(\"/IW2/Burst0155\")  0x7fc92378b450\n",
      "161 IW2 Sentinel1EtadBurst(\"/IW2/Burst0161\")  0x7fc92378be90\n",
      "167 IW2 Sentinel1EtadBurst(\"/IW2/Burst0167\")  0x7fc92378b5d0\n",
      "173 IW2 Sentinel1EtadBurst(\"/IW2/Burst0173\")  0x7fc92378b610\n",
      "179 IW2 Sentinel1EtadBurst(\"/IW2/Burst0179\")  0x7fc92378b690\n",
      "185 IW2 Sentinel1EtadBurst(\"/IW2/Burst0185\")  0x7fc92378ba50\n",
      "191 IW2 Sentinel1EtadBurst(\"/IW2/Burst0191\")  0x7fc92378b810\n",
      "197 IW2 Sentinel1EtadBurst(\"/IW2/Burst0197\")  0x7fc92378b110\n",
      "203 IW2 Sentinel1EtadBurst(\"/IW2/Burst0203\")  0x7fc92378bbd0\n",
      "209 IW2 Sentinel1EtadBurst(\"/IW2/Burst0209\")  0x7fc92378bc50\n",
      "215 IW2 Sentinel1EtadBurst(\"/IW2/Burst0215\")  0x7fc92378c490\n",
      "221 IW2 Sentinel1EtadBurst(\"/IW2/Burst0221\")  0x7fc92378b2d0\n",
      "227 IW2 Sentinel1EtadBurst(\"/IW2/Burst0227\")  0x7fc92378bb50\n",
      "233 IW2 Sentinel1EtadBurst(\"/IW2/Burst0233\")  0x7fc92378b710\n",
      "239 IW2 Sentinel1EtadBurst(\"/IW2/Burst0239\")  0x7fc92378b7d0\n",
      "245 IW2 Sentinel1EtadBurst(\"/IW2/Burst0245\")  0x7fc923787410\n",
      "251 IW2 Sentinel1EtadBurst(\"/IW2/Burst0251\")  0x7fc92378b8d0\n",
      "257 IW2 Sentinel1EtadBurst(\"/IW2/Burst0257\")  0x7fc92378b550\n",
      "263 IW2 Sentinel1EtadBurst(\"/IW2/Burst0263\")  0x7fc92378bed0\n",
      "269 IW2 Sentinel1EtadBurst(\"/IW2/Burst0269\")  0x7fc92378b250\n",
      "275 IW2 Sentinel1EtadBurst(\"/IW2/Burst0275\")  0x7fc92378c990\n",
      "281 IW2 Sentinel1EtadBurst(\"/IW2/Burst0281\")  0x7fc92378bad0\n",
      "287 IW2 Sentinel1EtadBurst(\"/IW2/Burst0287\")  0x7fc92378b9d0\n",
      "293 IW2 Sentinel1EtadBurst(\"/IW2/Burst0293\")  0x7fc92378b0d0\n",
      "299 IW2 Sentinel1EtadBurst(\"/IW2/Burst0299\")  0x7fc92378e390\n",
      "305 IW2 Sentinel1EtadBurst(\"/IW2/Burst0305\")  0x7fc92378bc10\n"
     ]
    }
   ],
   "source": [
    "for swath in eta.iter_swaths(['IW1', 'IW2']):  # no 'IW3'\n",
    "    # list of bursts\n",
    "    odd_bursts = [idx for idx in swath.burst_list if idx % 2 != 0]\n",
    "    for burst in swath.iter_bursts(odd_bursts):\n",
    "        print(f'{burst.burst_index:2} {burst.swath_id} {burst}')"
   ]
  },
  {
   "cell_type": "markdown",
   "metadata": {},
   "source": [
    "### How to iterate on query results"
   ]
  },
  {
   "cell_type": "markdown",
   "metadata": {},
   "source": [
    "The query mechanism is explained extensively in the following.\n",
    "\n",
    "Queries can be performed using the `Sentinel1Etad.query_burst` method.\n",
    "\n",
    "A simple example is a query for a specific swath:"
   ]
  },
  {
   "cell_type": "code",
   "execution_count": 22,
   "metadata": {},
   "outputs": [
    {
     "name": "stdout",
     "output_type": "stream",
     "text": [
      "Sentinel1EtadBurst(\"/IW3/Burst0003\")  0x7fc923788290\n",
      "Sentinel1EtadBurst(\"/IW3/Burst0006\")  0x7fc9237880d0\n",
      "Sentinel1EtadBurst(\"/IW3/Burst0009\")  0x7fc92377f110\n",
      "Sentinel1EtadBurst(\"/IW3/Burst0012\")  0x7fc92377f290\n",
      "Sentinel1EtadBurst(\"/IW3/Burst0015\")  0x7fc923778350\n",
      "Sentinel1EtadBurst(\"/IW3/Burst0018\")  0x7fc9237788d0\n",
      "Sentinel1EtadBurst(\"/IW3/Burst0021\")  0x7fc923778bd0\n",
      "Sentinel1EtadBurst(\"/IW3/Burst0024\")  0x7fc923778a10\n",
      "Sentinel1EtadBurst(\"/IW3/Burst0027\")  0x7fc923778c50\n",
      "Sentinel1EtadBurst(\"/IW3/Burst0030\")  0x7fc9237460d0\n",
      "Sentinel1EtadBurst(\"/IW3/Burst0033\")  0x7fc9341699d0\n",
      "Sentinel1EtadBurst(\"/IW3/Burst0036\")  0x7fc923740c10\n",
      "Sentinel1EtadBurst(\"/IW3/Burst0039\")  0x7fc923740350\n",
      "Sentinel1EtadBurst(\"/IW3/Burst0042\")  0x7fc92376cb50\n",
      "Sentinel1EtadBurst(\"/IW3/Burst0045\")  0x7fc92376cd50\n",
      "Sentinel1EtadBurst(\"/IW3/Burst0048\")  0x7fc92376ca50\n",
      "Sentinel1EtadBurst(\"/IW3/Burst0051\")  0x7fc935e67e10\n",
      "Sentinel1EtadBurst(\"/IW3/Burst0054\")  0x7fc92377c8d0\n",
      "Sentinel1EtadBurst(\"/IW3/Burst0057\")  0x7fc92377cf10\n",
      "Sentinel1EtadBurst(\"/IW3/Burst0060\")  0x7fc92377ce50\n",
      "Sentinel1EtadBurst(\"/IW3/Burst0063\")  0x7fc92377c610\n",
      "Sentinel1EtadBurst(\"/IW3/Burst0066\")  0x7fc92377cad0\n",
      "Sentinel1EtadBurst(\"/IW3/Burst0069\")  0x7fc92378e810\n",
      "Sentinel1EtadBurst(\"/IW3/Burst0072\")  0x7fc92378e450\n",
      "Sentinel1EtadBurst(\"/IW3/Burst0075\")  0x7fc92378ed90\n",
      "Sentinel1EtadBurst(\"/IW3/Burst0078\")  0x7fc92378e9d0\n",
      "Sentinel1EtadBurst(\"/IW3/Burst0081\")  0x7fc92378ed50\n",
      "Sentinel1EtadBurst(\"/IW3/Burst0084\")  0x7fc92378eb90\n",
      "Sentinel1EtadBurst(\"/IW3/Burst0087\")  0x7fc92378e750\n",
      "Sentinel1EtadBurst(\"/IW3/Burst0090\")  0x7fc92378e510\n",
      "Sentinel1EtadBurst(\"/IW3/Burst0093\")  0x7fc92378ea50\n",
      "Sentinel1EtadBurst(\"/IW3/Burst0096\")  0x7fc92378e550\n",
      "Sentinel1EtadBurst(\"/IW3/Burst0099\")  0x7fc92378f250\n",
      "Sentinel1EtadBurst(\"/IW3/Burst0102\")  0x7fc92378f490\n",
      "Sentinel1EtadBurst(\"/IW3/Burst0105\")  0x7fc92378f890\n",
      "Sentinel1EtadBurst(\"/IW3/Burst0108\")  0x7fc92378f6d0\n",
      "Sentinel1EtadBurst(\"/IW3/Burst0111\")  0x7fc92378f750\n",
      "Sentinel1EtadBurst(\"/IW3/Burst0114\")  0x7fc92378f150\n",
      "Sentinel1EtadBurst(\"/IW3/Burst0117\")  0x7fc92378fed0\n",
      "Sentinel1EtadBurst(\"/IW3/Burst0120\")  0x7fc92378fe90\n",
      "Sentinel1EtadBurst(\"/IW3/Burst0123\")  0x7fc92378fbd0\n",
      "Sentinel1EtadBurst(\"/IW3/Burst0126\")  0x7fc92378f610\n",
      "Sentinel1EtadBurst(\"/IW3/Burst0129\")  0x7fc92378f2d0\n",
      "Sentinel1EtadBurst(\"/IW3/Burst0132\")  0x7fc92378fb10\n",
      "Sentinel1EtadBurst(\"/IW3/Burst0135\")  0x7fc92379bed0\n",
      "Sentinel1EtadBurst(\"/IW3/Burst0138\")  0x7fc92379b0d0\n",
      "Sentinel1EtadBurst(\"/IW3/Burst0141\")  0x7fc92379b1d0\n",
      "Sentinel1EtadBurst(\"/IW3/Burst0144\")  0x7fc92379b550\n",
      "Sentinel1EtadBurst(\"/IW3/Burst0147\")  0x7fc92379b750\n",
      "Sentinel1EtadBurst(\"/IW3/Burst0150\")  0x7fc92379b290\n",
      "Sentinel1EtadBurst(\"/IW3/Burst0153\")  0x7fc92379b890\n",
      "Sentinel1EtadBurst(\"/IW3/Burst0156\")  0x7fc92379b6d0\n",
      "Sentinel1EtadBurst(\"/IW3/Burst0159\")  0x7fc92379b690\n",
      "Sentinel1EtadBurst(\"/IW3/Burst0162\")  0x7fc92379b650\n",
      "Sentinel1EtadBurst(\"/IW3/Burst0165\")  0x7fc92379bb10\n",
      "Sentinel1EtadBurst(\"/IW3/Burst0168\")  0x7fc92379b250\n",
      "Sentinel1EtadBurst(\"/IW3/Burst0171\")  0x7fc92379bf50\n",
      "Sentinel1EtadBurst(\"/IW3/Burst0174\")  0x7fc92379ba90\n",
      "Sentinel1EtadBurst(\"/IW3/Burst0177\")  0x7fc92379be10\n",
      "Sentinel1EtadBurst(\"/IW3/Burst0180\")  0x7fc92379b9d0\n",
      "Sentinel1EtadBurst(\"/IW3/Burst0183\")  0x7fc923792850\n",
      "Sentinel1EtadBurst(\"/IW3/Burst0186\")  0x7fc923792ed0\n",
      "Sentinel1EtadBurst(\"/IW3/Burst0189\")  0x7fc923792c50\n",
      "Sentinel1EtadBurst(\"/IW3/Burst0192\")  0x7fc923792450\n",
      "Sentinel1EtadBurst(\"/IW3/Burst0195\")  0x7fc923792f90\n",
      "Sentinel1EtadBurst(\"/IW3/Burst0198\")  0x7fc9237920d0\n",
      "Sentinel1EtadBurst(\"/IW3/Burst0201\")  0x7fc923792f10\n",
      "Sentinel1EtadBurst(\"/IW3/Burst0204\")  0x7fc923792c90\n",
      "Sentinel1EtadBurst(\"/IW3/Burst0207\")  0x7fc9237926d0\n",
      "Sentinel1EtadBurst(\"/IW3/Burst0210\")  0x7fc923792210\n",
      "Sentinel1EtadBurst(\"/IW3/Burst0213\")  0x7fc923792750\n",
      "Sentinel1EtadBurst(\"/IW3/Burst0216\")  0x7fc923792190\n",
      "Sentinel1EtadBurst(\"/IW3/Burst0219\")  0x7fc9237958d0\n",
      "Sentinel1EtadBurst(\"/IW3/Burst0222\")  0x7fc9237952d0\n",
      "Sentinel1EtadBurst(\"/IW3/Burst0225\")  0x7fc923792bd0\n",
      "Sentinel1EtadBurst(\"/IW3/Burst0228\")  0x7fc923792a10\n",
      "Sentinel1EtadBurst(\"/IW3/Burst0231\")  0x7fc923792f50\n",
      "Sentinel1EtadBurst(\"/IW3/Burst0234\")  0x7fc923792b10\n",
      "Sentinel1EtadBurst(\"/IW3/Burst0237\")  0x7fc923792d10\n",
      "Sentinel1EtadBurst(\"/IW3/Burst0240\")  0x7fc923792e50\n",
      "Sentinel1EtadBurst(\"/IW3/Burst0243\")  0x7fc923792350\n",
      "Sentinel1EtadBurst(\"/IW3/Burst0246\")  0x7fc92379be90\n",
      "Sentinel1EtadBurst(\"/IW3/Burst0249\")  0x7fc92379b190\n",
      "Sentinel1EtadBurst(\"/IW3/Burst0252\")  0x7fc92379bdd0\n",
      "Sentinel1EtadBurst(\"/IW3/Burst0255\")  0x7fc92379b090\n",
      "Sentinel1EtadBurst(\"/IW3/Burst0258\")  0x7fc92379b410\n",
      "Sentinel1EtadBurst(\"/IW3/Burst0261\")  0x7fc92379b050\n",
      "Sentinel1EtadBurst(\"/IW3/Burst0264\")  0x7fc92379b950\n",
      "Sentinel1EtadBurst(\"/IW3/Burst0267\")  0x7fc92379b590\n",
      "Sentinel1EtadBurst(\"/IW3/Burst0270\")  0x7fc92379bc50\n",
      "Sentinel1EtadBurst(\"/IW3/Burst0273\")  0x7fc92379bb50\n",
      "Sentinel1EtadBurst(\"/IW3/Burst0276\")  0x7fc92379bd90\n",
      "Sentinel1EtadBurst(\"/IW3/Burst0279\")  0x7fc92378fd10\n",
      "Sentinel1EtadBurst(\"/IW3/Burst0282\")  0x7fc92378f210\n",
      "Sentinel1EtadBurst(\"/IW3/Burst0285\")  0x7fc92378f110\n",
      "Sentinel1EtadBurst(\"/IW3/Burst0288\")  0x7fc92378ff10\n",
      "Sentinel1EtadBurst(\"/IW3/Burst0291\")  0x7fc92378f690\n",
      "Sentinel1EtadBurst(\"/IW3/Burst0294\")  0x7fc92378f4d0\n",
      "Sentinel1EtadBurst(\"/IW3/Burst0297\")  0x7fc92378fd90\n",
      "Sentinel1EtadBurst(\"/IW3/Burst0300\")  0x7fc92378f590\n",
      "Sentinel1EtadBurst(\"/IW3/Burst0303\")  0x7fc92378ec10\n",
      "Sentinel1EtadBurst(\"/IW3/Burst0306\")  0x7fc92378ee50\n"
     ]
    }
   ],
   "source": [
    "query_result = eta.query_burst(swath='IW3')\n",
    "\n",
    "for swath in eta.iter_swaths(query_result):\n",
    "    for burst in swath.iter_bursts(query_result):\n",
    "        print(burst)"
   ]
  }
 ],
 "metadata": {
  "kernelspec": {
   "display_name": "Python 3",
   "language": "python",
   "name": "python3"
  },
  "language_info": {
   "codemirror_mode": {
    "name": "ipython",
    "version": 3
   },
   "file_extension": ".py",
   "mimetype": "text/x-python",
   "name": "python",
   "nbconvert_exporter": "python",
   "pygments_lexer": "ipython3",
   "version": "3.7.9"
  },
  "toc-autonumbering": true
 },
 "nbformat": 4,
 "nbformat_minor": 4
}

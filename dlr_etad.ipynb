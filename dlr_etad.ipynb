{
 "cells": [
  {
   "cell_type": "code",
   "execution_count": 2,
   "metadata": {},
   "outputs": [
    {
     "name": "stdout",
     "output_type": "stream",
     "text": [
      "The autoreload extension is already loaded. To reload it, use:\n",
      "  %reload_ext autoreload\n"
     ]
    }
   ],
   "source": [
    "import numpy as np\n",
    "from scipy import constants\n",
    "\n",
    "%load_ext autoreload\n",
    "%autoreload 2\n",
    "\n",
    "from sentinel1Etad import Sentinel1Etad"
   ]
  },
  {
   "cell_type": "code",
   "execution_count": 3,
   "metadata": {},
   "outputs": [],
   "source": [
    "file='test/S1B_IW_ETA__AXDV_20190805T162509_20190805T162536_017453_020D3A_____.SAFE'\n",
    "eta_ = Sentinel1Etad(file)"
   ]
  },
  {
   "cell_type": "code",
   "execution_count": 4,
   "metadata": {},
   "outputs": [
    {
     "data": {
      "text/plain": [
       "{'troposphericDelayCorrection': True,\n",
       " 'ionosphericDelayCorrection': True,\n",
       " 'solidEarthTideCorrection': True,\n",
       " 'bistaticAzimuthCorrection': True,\n",
       " 'dopplerShiftRangeCorrection': True,\n",
       " 'FMMismatchAzimuthCorrection': True}"
      ]
     },
     "execution_count": 4,
     "metadata": {},
     "output_type": "execute_result"
    }
   ],
   "source": [
    "#check what are the correction performed\n",
    "eta_.processing_setting()"
   ]
  },
  {
   "cell_type": "code",
   "execution_count": 5,
   "metadata": {},
   "outputs": [
    {
     "data": {
      "text/html": [
       "<div>\n",
       "<style scoped>\n",
       "    .dataframe tbody tr th:only-of-type {\n",
       "        vertical-align: middle;\n",
       "    }\n",
       "\n",
       "    .dataframe tbody tr th {\n",
       "        vertical-align: top;\n",
       "    }\n",
       "\n",
       "    .dataframe thead th {\n",
       "        text-align: right;\n",
       "    }\n",
       "</style>\n",
       "<table border=\"1\" class=\"dataframe\">\n",
       "  <thead>\n",
       "    <tr style=\"text-align: right;\">\n",
       "      <th></th>\n",
       "      <th>bIndex</th>\n",
       "      <th>pIndex</th>\n",
       "      <th>sIndex</th>\n",
       "      <th>productID</th>\n",
       "      <th>swathID</th>\n",
       "      <th>azimuthTimeMin</th>\n",
       "      <th>azimuthTimeMax</th>\n",
       "    </tr>\n",
       "  </thead>\n",
       "  <tbody>\n",
       "    <tr>\n",
       "      <th>0</th>\n",
       "      <td>1</td>\n",
       "      <td>1</td>\n",
       "      <td>1</td>\n",
       "      <td>S1B_IW_SLC__1ADV_20190805T162509_20190805T1625...</td>\n",
       "      <td>IW1</td>\n",
       "      <td>2019-08-05 16:25:09.836779</td>\n",
       "      <td>2019-08-05 16:25:13.002336</td>\n",
       "    </tr>\n",
       "    <tr>\n",
       "      <th>1</th>\n",
       "      <td>4</td>\n",
       "      <td>1</td>\n",
       "      <td>1</td>\n",
       "      <td>S1B_IW_SLC__1ADV_20190805T162509_20190805T1625...</td>\n",
       "      <td>IW1</td>\n",
       "      <td>2019-08-05 16:25:12.570669</td>\n",
       "      <td>2019-08-05 16:25:15.736226</td>\n",
       "    </tr>\n",
       "    <tr>\n",
       "      <th>2</th>\n",
       "      <td>7</td>\n",
       "      <td>1</td>\n",
       "      <td>1</td>\n",
       "      <td>S1B_IW_SLC__1ADV_20190805T162509_20190805T1625...</td>\n",
       "      <td>IW1</td>\n",
       "      <td>2019-08-05 16:25:15.333337</td>\n",
       "      <td>2019-08-05 16:25:18.498893</td>\n",
       "    </tr>\n",
       "    <tr>\n",
       "      <th>3</th>\n",
       "      <td>10</td>\n",
       "      <td>1</td>\n",
       "      <td>1</td>\n",
       "      <td>S1B_IW_SLC__1ADV_20190805T162509_20190805T1625...</td>\n",
       "      <td>IW1</td>\n",
       "      <td>2019-08-05 16:25:18.096004</td>\n",
       "      <td>2019-08-05 16:25:21.261561</td>\n",
       "    </tr>\n",
       "    <tr>\n",
       "      <th>4</th>\n",
       "      <td>13</td>\n",
       "      <td>1</td>\n",
       "      <td>1</td>\n",
       "      <td>S1B_IW_SLC__1ADV_20190805T162509_20190805T1625...</td>\n",
       "      <td>IW1</td>\n",
       "      <td>2019-08-05 16:25:20.858672</td>\n",
       "      <td>2019-08-05 16:25:24.024229</td>\n",
       "    </tr>\n",
       "  </tbody>\n",
       "</table>\n",
       "</div>"
      ],
      "text/plain": [
       "  bIndex pIndex sIndex                                          productID  \\\n",
       "0      1      1      1  S1B_IW_SLC__1ADV_20190805T162509_20190805T1625...   \n",
       "1      4      1      1  S1B_IW_SLC__1ADV_20190805T162509_20190805T1625...   \n",
       "2      7      1      1  S1B_IW_SLC__1ADV_20190805T162509_20190805T1625...   \n",
       "3     10      1      1  S1B_IW_SLC__1ADV_20190805T162509_20190805T1625...   \n",
       "4     13      1      1  S1B_IW_SLC__1ADV_20190805T162509_20190805T1625...   \n",
       "\n",
       "  swathID             azimuthTimeMin             azimuthTimeMax  \n",
       "0     IW1 2019-08-05 16:25:09.836779 2019-08-05 16:25:13.002336  \n",
       "1     IW1 2019-08-05 16:25:12.570669 2019-08-05 16:25:15.736226  \n",
       "2     IW1 2019-08-05 16:25:15.333337 2019-08-05 16:25:18.498893  \n",
       "3     IW1 2019-08-05 16:25:18.096004 2019-08-05 16:25:21.261561  \n",
       "4     IW1 2019-08-05 16:25:20.858672 2019-08-05 16:25:24.024229  "
      ]
     },
     "execution_count": 5,
     "metadata": {},
     "output_type": "execute_result"
    }
   ],
   "source": [
    "#burst catalogue computed from the XML annotations\n",
    "# it is a pandas dataframe to allow easy filtering\n",
    "eta_.burst_catalogue.head()\n"
   ]
  },
  {
   "cell_type": "code",
   "execution_count": 6,
   "metadata": {},
   "outputs": [
    {
     "data": {
      "text/html": [
       "<div>\n",
       "<style scoped>\n",
       "    .dataframe tbody tr th:only-of-type {\n",
       "        vertical-align: middle;\n",
       "    }\n",
       "\n",
       "    .dataframe tbody tr th {\n",
       "        vertical-align: top;\n",
       "    }\n",
       "\n",
       "    .dataframe thead th {\n",
       "        text-align: right;\n",
       "    }\n",
       "</style>\n",
       "<table border=\"1\" class=\"dataframe\">\n",
       "  <thead>\n",
       "    <tr style=\"text-align: right;\">\n",
       "      <th></th>\n",
       "      <th>bIndex</th>\n",
       "      <th>swathID</th>\n",
       "      <th>azimuthTimeMin</th>\n",
       "      <th>azimuthTimeMax</th>\n",
       "    </tr>\n",
       "  </thead>\n",
       "  <tbody>\n",
       "    <tr>\n",
       "      <th>2</th>\n",
       "      <td>7</td>\n",
       "      <td>IW1</td>\n",
       "      <td>2019-08-05 16:25:15.333337</td>\n",
       "      <td>2019-08-05 16:25:18.498893</td>\n",
       "    </tr>\n",
       "    <tr>\n",
       "      <th>11</th>\n",
       "      <td>8</td>\n",
       "      <td>IW2</td>\n",
       "      <td>2019-08-05 16:25:16.283004</td>\n",
       "      <td>2019-08-05 16:25:19.477338</td>\n",
       "    </tr>\n",
       "    <tr>\n",
       "      <th>3</th>\n",
       "      <td>10</td>\n",
       "      <td>IW1</td>\n",
       "      <td>2019-08-05 16:25:18.096004</td>\n",
       "      <td>2019-08-05 16:25:21.261561</td>\n",
       "    </tr>\n",
       "    <tr>\n",
       "      <th>12</th>\n",
       "      <td>11</td>\n",
       "      <td>IW2</td>\n",
       "      <td>2019-08-05 16:25:19.045671</td>\n",
       "      <td>2019-08-05 16:25:22.240006</td>\n",
       "    </tr>\n",
       "    <tr>\n",
       "      <th>4</th>\n",
       "      <td>13</td>\n",
       "      <td>IW1</td>\n",
       "      <td>2019-08-05 16:25:20.858672</td>\n",
       "      <td>2019-08-05 16:25:24.024229</td>\n",
       "    </tr>\n",
       "    <tr>\n",
       "      <th>13</th>\n",
       "      <td>14</td>\n",
       "      <td>IW2</td>\n",
       "      <td>2019-08-05 16:25:21.808339</td>\n",
       "      <td>2019-08-05 16:25:24.973896</td>\n",
       "    </tr>\n",
       "    <tr>\n",
       "      <th>5</th>\n",
       "      <td>16</td>\n",
       "      <td>IW1</td>\n",
       "      <td>2019-08-05 16:25:23.621340</td>\n",
       "      <td>2019-08-05 16:25:26.786896</td>\n",
       "    </tr>\n",
       "    <tr>\n",
       "      <th>14</th>\n",
       "      <td>17</td>\n",
       "      <td>IW2</td>\n",
       "      <td>2019-08-05 16:25:24.542229</td>\n",
       "      <td>2019-08-05 16:25:27.736563</td>\n",
       "    </tr>\n",
       "    <tr>\n",
       "      <th>6</th>\n",
       "      <td>19</td>\n",
       "      <td>IW1</td>\n",
       "      <td>2019-08-05 16:25:26.355230</td>\n",
       "      <td>2019-08-05 16:25:29.549564</td>\n",
       "    </tr>\n",
       "    <tr>\n",
       "      <th>15</th>\n",
       "      <td>20</td>\n",
       "      <td>IW2</td>\n",
       "      <td>2019-08-05 16:25:27.304897</td>\n",
       "      <td>2019-08-05 16:25:30.499231</td>\n",
       "    </tr>\n",
       "    <tr>\n",
       "      <th>7</th>\n",
       "      <td>22</td>\n",
       "      <td>IW1</td>\n",
       "      <td>2019-08-05 16:25:29.117897</td>\n",
       "      <td>2019-08-05 16:25:32.283454</td>\n",
       "    </tr>\n",
       "    <tr>\n",
       "      <th>16</th>\n",
       "      <td>23</td>\n",
       "      <td>IW2</td>\n",
       "      <td>2019-08-05 16:25:30.067564</td>\n",
       "      <td>2019-08-05 16:25:33.261899</td>\n",
       "    </tr>\n",
       "    <tr>\n",
       "      <th>8</th>\n",
       "      <td>25</td>\n",
       "      <td>IW1</td>\n",
       "      <td>2019-08-05 16:25:31.880565</td>\n",
       "      <td>2019-08-05 16:25:35.046122</td>\n",
       "    </tr>\n",
       "    <tr>\n",
       "      <th>17</th>\n",
       "      <td>26</td>\n",
       "      <td>IW2</td>\n",
       "      <td>2019-08-05 16:25:32.830232</td>\n",
       "      <td>2019-08-05 16:25:36.024566</td>\n",
       "    </tr>\n",
       "  </tbody>\n",
       "</table>\n",
       "</div>"
      ],
      "text/plain": [
       "   bIndex swathID             azimuthTimeMin             azimuthTimeMax\n",
       "2       7     IW1 2019-08-05 16:25:15.333337 2019-08-05 16:25:18.498893\n",
       "11      8     IW2 2019-08-05 16:25:16.283004 2019-08-05 16:25:19.477338\n",
       "3      10     IW1 2019-08-05 16:25:18.096004 2019-08-05 16:25:21.261561\n",
       "12     11     IW2 2019-08-05 16:25:19.045671 2019-08-05 16:25:22.240006\n",
       "4      13     IW1 2019-08-05 16:25:20.858672 2019-08-05 16:25:24.024229\n",
       "13     14     IW2 2019-08-05 16:25:21.808339 2019-08-05 16:25:24.973896\n",
       "5      16     IW1 2019-08-05 16:25:23.621340 2019-08-05 16:25:26.786896\n",
       "14     17     IW2 2019-08-05 16:25:24.542229 2019-08-05 16:25:27.736563\n",
       "6      19     IW1 2019-08-05 16:25:26.355230 2019-08-05 16:25:29.549564\n",
       "15     20     IW2 2019-08-05 16:25:27.304897 2019-08-05 16:25:30.499231\n",
       "7      22     IW1 2019-08-05 16:25:29.117897 2019-08-05 16:25:32.283454\n",
       "16     23     IW2 2019-08-05 16:25:30.067564 2019-08-05 16:25:33.261899\n",
       "8      25     IW1 2019-08-05 16:25:31.880565 2019-08-05 16:25:35.046122\n",
       "17     26     IW2 2019-08-05 16:25:32.830232 2019-08-05 16:25:36.024566"
      ]
     },
     "execution_count": 6,
     "metadata": {},
     "output_type": "execute_result"
    }
   ],
   "source": [
    "#Example of filtering by time\n",
    "# it gives all the burst\n",
    "from dateutil import parser\n",
    "\n",
    "first_time = parser.parse('2019-08-05T16:25:15.117898')\n",
    "last_time =  parser.parse('2019-08-05T16:25:45.117899')\n",
    "#query the catalgues for of all the swaths\n",
    "df = eta_.query_burst_by_time(first_time, last_time,)\n",
    "df[['bIndex', 'swathID','azimuthTimeMin', 'azimuthTimeMax']]\n",
    "\n",
    "\n",
    "#query the catalgues for a subset of the swaths\n",
    "df = eta_.query_burst_by_time(first_time, last_time, swath=['IW1', 'IW2'])\n",
    "df[['bIndex', 'swathID','azimuthTimeMin', 'azimuthTimeMax']]"
   ]
  },
  {
   "cell_type": "code",
   "execution_count": 7,
   "metadata": {},
   "outputs": [],
   "source": [
    "#Now that we can filter the burst using the annotation\n",
    "# we can extract them \n",
    "# Basic concatennation is done. \n",
    "# This is not correct as it doesn't connsider the overlap\n",
    "# between bursts\n",
    "\n",
    "\n",
    "for swath_ in df.swathID.unique():\n",
    "    #for each swath get the burst recursively\n",
    "    burst_index_list = df.bIndex[df.swathID==swath_].values\n",
    "    swath_dataset = eta_[swath_]\n",
    "    b=0\n",
    "    \n",
    "    for burst_index in burst_index_list:\n",
    "        burst_dataset = swath_dataset[burst_index]\n",
    "        tropo_correction = burst_dataset.get_tropospheric_correction()\n",
    "        if b == 0:\n",
    "            tropo_correction_all = tropo_correction['x']\n",
    "        else:\n",
    "            tropo_correction_all=np.concatenate((tropo_correction_all,tropo_correction['x']) )\n",
    "        \n",
    "        b+=1\n",
    "        \n",
    "        "
   ]
  },
  {
   "cell_type": "code",
   "execution_count": 8,
   "metadata": {},
   "outputs": [],
   "source": [
    "# the get_tropospheric_correction tranpose the array as coded in NC\n",
    "# there is a convention to be sorted out with the dimensions.\n",
    "\n",
    "\n",
    "ysize, xsize = tropo_correction_all.shape\n",
    "\n",
    "grid_spacing = eta_.grid_spacing\n",
    "x_axis = np.arange(xsize)*grid_spacing['x']/1000\n",
    "y_axis = np.arange(ysize)*grid_spacing['y']/1000"
   ]
  },
  {
   "cell_type": "code",
   "execution_count": 11,
   "metadata": {},
   "outputs": [
    {
     "data": {
      "image/png": "[encoded data removed]",
      "text/plain": [
       "<Figure size 432x288 with 2 Axes>"
      ]
     },
     "metadata": {
      "needs_background": "light"
     },
     "output_type": "display_data"
    }
   ],
   "source": [
    "import matplotlib.pyplot as plt\n",
    "\n",
    "fig, ax = plt.subplots()\n",
    "im = ax.imshow(tropo_correction_all*constants.c/2, extent=[x_axis[0],x_axis[-1], y_axis[0], y_axis[-1]],)\n",
    "fig.colorbar(im,label='tropospheric_correction [m]')\n",
    "plt.show()\n"
   ]
  },
  {
   "cell_type": "code",
   "execution_count": 10,
   "metadata": {},
   "outputs": [
    {
     "name": "stdout",
     "output_type": "stream",
     "text": [
      "0 0 46.91618146037102 20.86099246659923\n",
      "0 -1 47.107582519740895 20.809209509085747\n",
      "-1 -1 47.2624591566096 22.116579826046983\n",
      "-1 0 47.07110265784744 22.164301856845817\n"
     ]
    },
    {
     "data": {
      "image/svg+xml": [
       "<svg xmlns=\"http://www.w3.org/2000/svg\" xmlns:xlink=\"http://www.w3.org/1999/xlink\" width=\"100.0\" height=\"100.0\" viewBox=\"20.755005815175345 46.86197776646062 1.463499735580875 0.4546850840593848\" preserveAspectRatio=\"xMinYMin meet\"><g transform=\"matrix(1,0,0,-1,0,94.17864061698063)\"><path fill-rule=\"evenodd\" fill=\"#66cc99\" stroke=\"#555555\" stroke-width=\"0.029269994711617498\" opacity=\"0.6\" d=\"M 20.86099246659923,46.91618146037102 L 20.809209509085747,47.107582519740895 L 22.116579826046983,47.2624591566096 L 22.164301856845817,47.07110265784744 L 20.86099246659923,46.91618146037102 z\" /></g></svg>"
      ],
      "text/plain": [
       "<shapely.geometry.polygon.Polygon at 0x1055a3b38>"
      ]
     },
     "execution_count": 10,
     "metadata": {},
     "output_type": "execute_result"
    }
   ],
   "source": [
    "from shapely.geometry import Polygon, MultiPolygon\n",
    "from shapely.geometry import Point\n",
    "lats = burst_dataset._grp['lats']\n",
    "lons = burst_dataset._grp['lons']\n",
    "heights = burst_dataset._grp['height']\n",
    "#find the corners\n",
    "\n",
    "corner_list=[(0,0), (0,-1), (-1,-1), (-1,0)]\n",
    "etaf_burst_footprint=[]\n",
    "for corner in corner_list:\n",
    "    x,y = corner\n",
    "    lat_= lats[corner]\n",
    "    lon_= lons[corner]\n",
    "    h_ = heights[corner]\n",
    "    print (x,y, lat_, lon_)\n",
    "    etaf_burst_footprint.append ((lon_, lat_, h_))\n",
    "etaf_burst_footprint=Polygon(etaf_burst_footprint)\n",
    "    \n",
    "etaf_burst_footprint"
   ]
  },
  {
   "cell_type": "code",
   "execution_count": 36,
   "metadata": {},
   "outputs": [
    {
     "data": {
      "image/png": "[encoded data removed]",
      "text/plain": [
       "<Figure size 432x288 with 1 Axes>"
      ]
     },
     "metadata": {
      "needs_background": "light"
     },
     "output_type": "display_data"
    }
   ],
   "source": [
    "\n",
    "import cartopy.crs as ccrs\n",
    "import cartopy.feature as cfeature\n",
    "\n",
    "\n",
    "\n",
    "def tile_extent(poly, widen_area = 2):\n",
    "    bb = list(poly.bounds)\n",
    "    bb [1:3] = bb [2:0:-1]\n",
    "    bb2 = np.asarray(bb)  + [-widen_area,widen_area,-widen_area,widen_area]\n",
    "    return bb2\n",
    "\n",
    "\n",
    "df = eta_.query_burst_by_time(first_time, last_time)\n",
    "swath_polys =[]\n",
    "for swath_ in df.swathID.unique():\n",
    "    #for each swath get the burst recursively\n",
    "    swath_polys.append(MultiPolygon(eta_[swath_].get_footprint()))\n",
    "\n",
    "\n",
    "ax = plt.axes(projection=ccrs.PlateCarree())\n",
    "ax.set_extent(tile_extent(MultiPolygon(swath_polys)))\n",
    "\n",
    "# Put a background image on for nice sea rendering.\n",
    "ax.stock_img()\n",
    "\n",
    "\n",
    "ax.add_feature(cfeature.LAND)\n",
    "ax.add_feature(cfeature.COASTLINE)\n",
    "for polys in swath_polys:\n",
    "    ax.add_geometries(polys,crs=ccrs.PlateCarree(), alpha=0.8)\n",
    "\n",
    "plt.show()\n"
   ]
  },
  {
   "cell_type": "code",
   "execution_count": 17,
   "metadata": {},
   "outputs": [
    {
     "data": {
      "image/svg+xml": [
       "<svg xmlns=\"http://www.w3.org/2000/svg\" xmlns:xlink=\"http://www.w3.org/1999/xlink\" width=\"100.0\" height=\"100.0\" viewBox=\"21.064530698014526 45.538086936028286 1.4878153586136378 0.6223568816049863\" preserveAspectRatio=\"xMinYMin meet\"><g transform=\"matrix(1,0,0,-1,0,91.69853075366156)\"><g><path fill-rule=\"evenodd\" fill=\"#ff3333\" stroke=\"#555555\" stroke-width=\"0.029756307172272754\" opacity=\"0.6\" d=\"M 21.213385106077673,45.59319120856953 L 22.497241784086917,45.74935403480234 L 22.44128042041515,45.93973303922606 L 21.163020846610028,45.78470777059403 L 21.213385106077673,45.59319120856953 z\" /><path fill-rule=\"evenodd\" fill=\"#ff3333\" stroke=\"#555555\" stroke-width=\"0.029756307172272754\" opacity=\"0.6\" d=\"M 21.16977086840612,45.75881960237041 L 22.446463158192753,45.91373375216469 L 22.401186976457694,46.10533954509203 L 21.119634970555772,45.95037212941904 L 21.16977086840612,45.75881960237041 z\" /></g></g></svg>"
      ],
      "text/plain": [
       "<shapely.geometry.multipolygon.MultiPolygon at 0x10557ce80>"
      ]
     },
     "execution_count": 17,
     "metadata": {},
     "output_type": "execute_result"
    }
   ],
   "source": [
    "MultiPolygon(swath_dataset.get_footprint(burst_index_list=[2,5]))"
   ]
  },
  {
   "cell_type": "code",
   "execution_count": null,
   "metadata": {},
   "outputs": [],
   "source": []
  }
 ],
 "metadata": {
  "kernelspec": {
   "display_name": "Python 3",
   "language": "python",
   "name": "python3"
  },
  "language_info": {
   "codemirror_mode": {
    "name": "ipython",
    "version": 3
   },
   "file_extension": ".py",
   "mimetype": "text/x-python",
   "name": "python",
   "nbconvert_exporter": "python",
   "pygments_lexer": "ipython3",
   "version": "3.7.0"
  }
 },
 "nbformat": 4,
 "nbformat_minor": 2
}

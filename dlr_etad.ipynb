{
 "cells": [
  {
   "cell_type": "code",
   "execution_count": 1,
   "metadata": {},
   "outputs": [],
   "source": [
    "import numpy as np\n",
    "from scipy import constants\n",
    "\n",
    "%load_ext autoreload\n",
    "%autoreload 2\n",
    "\n",
    "from sentinel1Etad import Sentinel1Etad"
   ]
  },
  {
   "cell_type": "markdown",
   "metadata": {},
   "source": [
    "# *sentinel1Etad* Python module: basic usage"
   ]
  },
  {
   "cell_type": "markdown",
   "metadata": {},
   "source": [
    "## Sentinel1Etad product"
   ]
  },
  {
   "cell_type": "code",
   "execution_count": 2,
   "metadata": {},
   "outputs": [],
   "source": [
    "filename = 'test/S1B_IW_ETA__AXDV_20190805T162509_20190805T162536_017453_020D3A_____.SAFE'\n",
    "eta_ = Sentinel1Etad(filename)"
   ]
  },
  {
   "cell_type": "code",
   "execution_count": 3,
   "metadata": {},
   "outputs": [
    {
     "data": {
      "text/plain": [
       "Sentinel1Etad(\"test/S1B_IW_ETA__AXDV_20190805T162509_20190805T162536_017453_020D3A_____.SAFE\")  # 0x7fb5e760dc50\n",
       "Sentinel-1 products list:\n",
       "  S1B_IW_SLC__1ADV_20190805T162509_20190805T162536_017453_020D3A_A857.SAFE\n",
       "number of swaths: 3\n",
       "swath list: IW1, IW2, IW3\n",
       "grid sampling:\n",
       "  x: 8.081406101630269e-07\n",
       "  y: 0.028777788199999974\n",
       "  unit: s\n",
       "grid spacing:\n",
       "  x: 200.0\n",
       "  y: 200.0\n",
       "  unit: m\n",
       "processing settings:\n",
       "  troposphericDelayCorrection: True\n",
       "  ionosphericDelayCorrection: True\n",
       "  solidEarthTideCorrection: True\n",
       "  bistaticAzimuthCorrection: True\n",
       "  dopplerShiftRangeCorrection: True\n",
       "  FMMismatchAzimuthCorrection: True"
      ]
     },
     "execution_count": 3,
     "metadata": {},
     "output_type": "execute_result"
    }
   ],
   "source": [
    "eta_"
   ]
  },
  {
   "cell_type": "markdown",
   "metadata": {},
   "source": [
    "### Check what are the correction performed"
   ]
  },
  {
   "cell_type": "code",
   "execution_count": 4,
   "metadata": {},
   "outputs": [
    {
     "data": {
      "text/plain": [
       "{'troposphericDelayCorrection': True,\n",
       " 'ionosphericDelayCorrection': True,\n",
       " 'solidEarthTideCorrection': True,\n",
       " 'bistaticAzimuthCorrection': True,\n",
       " 'dopplerShiftRangeCorrection': True,\n",
       " 'FMMismatchAzimuthCorrection': True}"
      ]
     },
     "execution_count": 4,
     "metadata": {},
     "output_type": "execute_result"
    }
   ],
   "source": [
    "eta_.processing_setting()"
   ]
  },
  {
   "cell_type": "markdown",
   "metadata": {},
   "source": [
    "### The burst catalogue"
   ]
  },
  {
   "cell_type": "markdown",
   "metadata": {},
   "source": [
    "It is a pandas dataframe to allow easy filtering.\n",
    "\n",
    "See also use cases in the \"Use cases for the Sentinel1Etad class\" section."
   ]
  },
  {
   "cell_type": "code",
   "execution_count": 5,
   "metadata": {},
   "outputs": [
    {
     "data": {
      "text/html": [
       "<div>\n",
       "<style scoped>\n",
       "    .dataframe tbody tr th:only-of-type {\n",
       "        vertical-align: middle;\n",
       "    }\n",
       "\n",
       "    .dataframe tbody tr th {\n",
       "        vertical-align: top;\n",
       "    }\n",
       "\n",
       "    .dataframe thead th {\n",
       "        text-align: right;\n",
       "    }\n",
       "</style>\n",
       "<table border=\"1\" class=\"dataframe\">\n",
       "  <thead>\n",
       "    <tr style=\"text-align: right;\">\n",
       "      <th></th>\n",
       "      <th>bIndex</th>\n",
       "      <th>pIndex</th>\n",
       "      <th>sIndex</th>\n",
       "      <th>productID</th>\n",
       "      <th>swathID</th>\n",
       "      <th>azimuthTimeMin</th>\n",
       "      <th>azimuthTimeMax</th>\n",
       "    </tr>\n",
       "  </thead>\n",
       "  <tbody>\n",
       "    <tr>\n",
       "      <th>0</th>\n",
       "      <td>1</td>\n",
       "      <td>1</td>\n",
       "      <td>1</td>\n",
       "      <td>S1B_IW_SLC__1ADV_20190805T162509_20190805T1625...</td>\n",
       "      <td>IW1</td>\n",
       "      <td>2019-08-05 16:25:09.836779</td>\n",
       "      <td>2019-08-05 16:25:13.002336</td>\n",
       "    </tr>\n",
       "    <tr>\n",
       "      <th>1</th>\n",
       "      <td>4</td>\n",
       "      <td>1</td>\n",
       "      <td>1</td>\n",
       "      <td>S1B_IW_SLC__1ADV_20190805T162509_20190805T1625...</td>\n",
       "      <td>IW1</td>\n",
       "      <td>2019-08-05 16:25:12.570669</td>\n",
       "      <td>2019-08-05 16:25:15.736226</td>\n",
       "    </tr>\n",
       "    <tr>\n",
       "      <th>2</th>\n",
       "      <td>7</td>\n",
       "      <td>1</td>\n",
       "      <td>1</td>\n",
       "      <td>S1B_IW_SLC__1ADV_20190805T162509_20190805T1625...</td>\n",
       "      <td>IW1</td>\n",
       "      <td>2019-08-05 16:25:15.333337</td>\n",
       "      <td>2019-08-05 16:25:18.498893</td>\n",
       "    </tr>\n",
       "    <tr>\n",
       "      <th>3</th>\n",
       "      <td>10</td>\n",
       "      <td>1</td>\n",
       "      <td>1</td>\n",
       "      <td>S1B_IW_SLC__1ADV_20190805T162509_20190805T1625...</td>\n",
       "      <td>IW1</td>\n",
       "      <td>2019-08-05 16:25:18.096004</td>\n",
       "      <td>2019-08-05 16:25:21.261561</td>\n",
       "    </tr>\n",
       "    <tr>\n",
       "      <th>4</th>\n",
       "      <td>13</td>\n",
       "      <td>1</td>\n",
       "      <td>1</td>\n",
       "      <td>S1B_IW_SLC__1ADV_20190805T162509_20190805T1625...</td>\n",
       "      <td>IW1</td>\n",
       "      <td>2019-08-05 16:25:20.858672</td>\n",
       "      <td>2019-08-05 16:25:24.024229</td>\n",
       "    </tr>\n",
       "  </tbody>\n",
       "</table>\n",
       "</div>"
      ],
      "text/plain": [
       "   bIndex  pIndex  sIndex                                          productID  \\\n",
       "0       1       1       1  S1B_IW_SLC__1ADV_20190805T162509_20190805T1625...   \n",
       "1       4       1       1  S1B_IW_SLC__1ADV_20190805T162509_20190805T1625...   \n",
       "2       7       1       1  S1B_IW_SLC__1ADV_20190805T162509_20190805T1625...   \n",
       "3      10       1       1  S1B_IW_SLC__1ADV_20190805T162509_20190805T1625...   \n",
       "4      13       1       1  S1B_IW_SLC__1ADV_20190805T162509_20190805T1625...   \n",
       "\n",
       "  swathID             azimuthTimeMin             azimuthTimeMax  \n",
       "0     IW1 2019-08-05 16:25:09.836779 2019-08-05 16:25:13.002336  \n",
       "1     IW1 2019-08-05 16:25:12.570669 2019-08-05 16:25:15.736226  \n",
       "2     IW1 2019-08-05 16:25:15.333337 2019-08-05 16:25:18.498893  \n",
       "3     IW1 2019-08-05 16:25:18.096004 2019-08-05 16:25:21.261561  \n",
       "4     IW1 2019-08-05 16:25:20.858672 2019-08-05 16:25:24.024229  "
      ]
     },
     "execution_count": 5,
     "metadata": {},
     "output_type": "execute_result"
    }
   ],
   "source": [
    "eta_.burst_catalogue.head()"
   ]
  },
  {
   "cell_type": "markdown",
   "metadata": {},
   "source": [
    "**Tip**: the total number of bursts in a product can be retrieved as follows:"
   ]
  },
  {
   "cell_type": "code",
   "execution_count": 6,
   "metadata": {},
   "outputs": [
    {
     "name": "stdout",
     "output_type": "stream",
     "text": [
      "Total number of bursts: 27\n"
     ]
    }
   ],
   "source": [
    "print('Total number of bursts:', len(eta_.burst_catalogue))"
   ]
  },
  {
   "cell_type": "markdown",
   "metadata": {},
   "source": [
    "## Swath objects"
   ]
  },
  {
   "cell_type": "markdown",
   "metadata": {},
   "source": [
    "### How many swaths are stored in a product?"
   ]
  },
  {
   "cell_type": "code",
   "execution_count": 7,
   "metadata": {},
   "outputs": [
    {
     "name": "stdout",
     "output_type": "stream",
     "text": [
      "Number of swaths: 3\n",
      "Swath list: ['IW1', 'IW2', 'IW3']\n"
     ]
    }
   ],
   "source": [
    "print('Number of swaths:', eta_.number_of_swath)\n",
    "print('Swath list:', eta_.swath_list)"
   ]
  },
  {
   "cell_type": "markdown",
   "metadata": {},
   "source": [
    "### How to retieve a Sentinel1EtadSwath object"
   ]
  },
  {
   "cell_type": "code",
   "execution_count": 8,
   "metadata": {},
   "outputs": [],
   "source": [
    "swath = eta_['IW2']"
   ]
  },
  {
   "cell_type": "code",
   "execution_count": 9,
   "metadata": {},
   "outputs": [
    {
     "data": {
      "text/plain": [
       "Sentinel1EtadSwath(\"/IW2\")  0x7fb5ea22f610\n",
       "Swaths ID: IW2\n",
       "number of bursts: 9\n",
       "burst list: 2 5 8 11 14 17 20 23 26"
      ]
     },
     "execution_count": 9,
     "metadata": {},
     "output_type": "execute_result"
    }
   ],
   "source": [
    "swath"
   ]
  },
  {
   "cell_type": "markdown",
   "metadata": {},
   "source": [
    "## Burst objects"
   ]
  },
  {
   "cell_type": "code",
   "execution_count": 10,
   "metadata": {},
   "outputs": [],
   "source": [
    "burst = swath[2]"
   ]
  },
  {
   "cell_type": "code",
   "execution_count": 11,
   "metadata": {},
   "outputs": [
    {
     "data": {
      "text/plain": [
       "Sentinel1EtadBurst(\"/IW2/Burst0002\")  0x7fb5e8fbf510\n",
       "Swaths ID: IW2\n",
       "Burst index: 2\n",
       "sampling:\n",
       "  x: 8.081406101630269e-07\n",
       "  y: 0.028777788199999974\n",
       "  units: s"
      ]
     },
     "execution_count": 11,
     "metadata": {},
     "output_type": "execute_result"
    }
   ],
   "source": [
    "burst"
   ]
  },
  {
   "cell_type": "markdown",
   "metadata": {},
   "source": [
    "**NOTE**: one can only get bursts whise index is present in the \"burst list\" of the swath"
   ]
  },
  {
   "cell_type": "code",
   "execution_count": 12,
   "metadata": {},
   "outputs": [
    {
     "data": {
      "text/plain": [
       "[2, 5, 8, 11, 14, 17, 20, 23, 26]"
      ]
     },
     "execution_count": 12,
     "metadata": {},
     "output_type": "execute_result"
    }
   ],
   "source": [
    "swath.burst_list"
   ]
  },
  {
   "cell_type": "code",
   "execution_count": 13,
   "metadata": {},
   "outputs": [
    {
     "name": "stdout",
     "output_type": "stream",
     "text": [
      "Ops someting went wrong: IndexError('Burst0001 not found in /IW2')\n"
     ]
    }
   ],
   "source": [
    "try:\n",
    "    swath[1]\n",
    "except IndexError as exc:\n",
    "    print('Ops someting went wrong:', repr(exc))"
   ]
  },
  {
   "cell_type": "markdown",
   "metadata": {},
   "source": [
    "## Iteration\n",
    "\n",
    "It is possible to iterate over products and swats in the same way one does it with any ather python container."
   ]
  },
  {
   "cell_type": "code",
   "execution_count": 14,
   "metadata": {},
   "outputs": [
    {
     "name": "stdout",
     "output_type": "stream",
     "text": [
      "Sentinel1EtadSwath(\"/IW1\")  0x7fb5ea239c90\n",
      "1 IW1 Sentinel1EtadBurst(\"/IW1/Burst0001\")  0x7fb5ea239510\n",
      "4 IW1 Sentinel1EtadBurst(\"/IW1/Burst0004\")  0x7fb5ea23e1d0\n",
      "7 IW1 Sentinel1EtadBurst(\"/IW1/Burst0007\")  0x7fb5ea23e350\n",
      "10 IW1 Sentinel1EtadBurst(\"/IW1/Burst0010\")  0x7fb5ea23e410\n",
      "13 IW1 Sentinel1EtadBurst(\"/IW1/Burst0013\")  0x7fb5ea23e490\n",
      "16 IW1 Sentinel1EtadBurst(\"/IW1/Burst0016\")  0x7fb5ea23e610\n",
      "19 IW1 Sentinel1EtadBurst(\"/IW1/Burst0019\")  0x7fb5ea23e710\n",
      "22 IW1 Sentinel1EtadBurst(\"/IW1/Burst0022\")  0x7fb5ea23e810\n",
      "25 IW1 Sentinel1EtadBurst(\"/IW1/Burst0025\")  0x7fb5ea23e090\n",
      "\n",
      "Sentinel1EtadSwath(\"/IW2\")  0x7fb5ea22f610\n",
      "2 IW2 Sentinel1EtadBurst(\"/IW2/Burst0002\")  0x7fb5e8fbf510\n",
      "5 IW2 Sentinel1EtadBurst(\"/IW2/Burst0005\")  0x7fb5ea23e590\n",
      "8 IW2 Sentinel1EtadBurst(\"/IW2/Burst0008\")  0x7fb5ea23eb90\n",
      "11 IW2 Sentinel1EtadBurst(\"/IW2/Burst0011\")  0x7fb5ea23ec90\n",
      "14 IW2 Sentinel1EtadBurst(\"/IW2/Burst0014\")  0x7fb5ea23ed90\n",
      "17 IW2 Sentinel1EtadBurst(\"/IW2/Burst0017\")  0x7fb5ea23ee90\n",
      "20 IW2 Sentinel1EtadBurst(\"/IW2/Burst0020\")  0x7fb5ea23ef10\n",
      "23 IW2 Sentinel1EtadBurst(\"/IW2/Burst0023\")  0x7fb5ea23f0d0\n",
      "26 IW2 Sentinel1EtadBurst(\"/IW2/Burst0026\")  0x7fb5ea23f1d0\n",
      "\n",
      "Sentinel1EtadSwath(\"/IW3\")  0x7fb5ea23f2d0\n",
      "3 IW3 Sentinel1EtadBurst(\"/IW3/Burst0003\")  0x7fb5ea23e510\n",
      "6 IW3 Sentinel1EtadBurst(\"/IW3/Burst0006\")  0x7fb5ea23f050\n",
      "9 IW3 Sentinel1EtadBurst(\"/IW3/Burst0009\")  0x7fb5ea23f550\n",
      "12 IW3 Sentinel1EtadBurst(\"/IW3/Burst0012\")  0x7fb5ea23f650\n",
      "15 IW3 Sentinel1EtadBurst(\"/IW3/Burst0015\")  0x7fb5ea23f750\n",
      "18 IW3 Sentinel1EtadBurst(\"/IW3/Burst0018\")  0x7fb5ea23f850\n",
      "21 IW3 Sentinel1EtadBurst(\"/IW3/Burst0021\")  0x7fb5ea23f950\n",
      "24 IW3 Sentinel1EtadBurst(\"/IW3/Burst0024\")  0x7fb5ea23fa50\n",
      "27 IW3 Sentinel1EtadBurst(\"/IW3/Burst0027\")  0x7fb5ea23fb50\n",
      "\n"
     ]
    }
   ],
   "source": [
    "for swath in eta_:\n",
    "    print(swath)\n",
    "    for burst in swath:\n",
    "        print(burst.burst_index, burst.swath_id, burst)\n",
    "    print()"
   ]
  },
  {
   "cell_type": "markdown",
   "metadata": {},
   "source": [
    "## String representation"
   ]
  },
  {
   "cell_type": "markdown",
   "metadata": {},
   "source": [
    "Please note that the string representation of Sentinel1Etad object is a \"one-line\" string providing only basic information:"
   ]
  },
  {
   "cell_type": "code",
   "execution_count": 15,
   "metadata": {},
   "outputs": [
    {
     "name": "stdout",
     "output_type": "stream",
     "text": [
      "Product: Sentinel1Etad(\"S1B_IW_ETA__AXDV_20190805T162509_20190805T162536_017453_020D3A_____.SAFE\")\n",
      "Swath: Sentinel1EtadSwath(\"/IW3\")  0x7fb5ea23f2d0\n",
      "Burst: Sentinel1EtadBurst(\"/IW3/Burst0027\")  0x7fb5ea23fb50\n"
     ]
    }
   ],
   "source": [
    "print('Product:', str(eta_))\n",
    "print('Swath:', str(swath))\n",
    "print('Burst:', str(burst))"
   ]
  },
  {
   "cell_type": "markdown",
   "metadata": {},
   "source": [
    "Anyway in Jupyer environments a richer representation id also available:"
   ]
  },
  {
   "cell_type": "code",
   "execution_count": 16,
   "metadata": {},
   "outputs": [
    {
     "data": {
      "text/plain": [
       "Sentinel1Etad(\"test/S1B_IW_ETA__AXDV_20190805T162509_20190805T162536_017453_020D3A_____.SAFE\")  # 0x7fb5e760dc50\n",
       "Sentinel-1 products list:\n",
       "  S1B_IW_SLC__1ADV_20190805T162509_20190805T162536_017453_020D3A_A857.SAFE\n",
       "number of swaths: 3\n",
       "swath list: IW1, IW2, IW3\n",
       "grid sampling:\n",
       "  x: 8.081406101630269e-07\n",
       "  y: 0.028777788199999974\n",
       "  unit: s\n",
       "grid spacing:\n",
       "  x: 200.0\n",
       "  y: 200.0\n",
       "  unit: m\n",
       "processing settings:\n",
       "  troposphericDelayCorrection: True\n",
       "  ionosphericDelayCorrection: True\n",
       "  solidEarthTideCorrection: True\n",
       "  bistaticAzimuthCorrection: True\n",
       "  dopplerShiftRangeCorrection: True\n",
       "  FMMismatchAzimuthCorrection: True"
      ]
     },
     "execution_count": 16,
     "metadata": {},
     "output_type": "execute_result"
    }
   ],
   "source": [
    "eta_"
   ]
  },
  {
   "cell_type": "markdown",
   "metadata": {
    "toc-hr-collapsed": false
   },
   "source": [
    "# Use cases for the Sentinel1Etad class"
   ]
  },
  {
   "cell_type": "markdown",
   "metadata": {
    "toc-hr-collapsed": false
   },
   "source": [
    "## Use case 1 : Selecting the bursts"
   ]
  },
  {
   "cell_type": "markdown",
   "metadata": {
    "toc-hr-collapsed": false
   },
   "source": [
    "### Selecting the burst by filtering in time"
   ]
  },
  {
   "cell_type": "markdown",
   "metadata": {},
   "source": [
    "Once the burst catalogue is availble,\n",
    "it is possible to filter the burst by performing time selection using the __first_time__ and __last_time__ keywords of the __query_burst__ method."
   ]
  },
  {
   "cell_type": "code",
   "execution_count": 17,
   "metadata": {},
   "outputs": [
    {
     "name": "stdout",
     "output_type": "stream",
     "text": [
      "Number of bursts: 27\n"
     ]
    },
    {
     "data": {
      "text/html": [
       "<div>\n",
       "<style scoped>\n",
       "    .dataframe tbody tr th:only-of-type {\n",
       "        vertical-align: middle;\n",
       "    }\n",
       "\n",
       "    .dataframe tbody tr th {\n",
       "        vertical-align: top;\n",
       "    }\n",
       "\n",
       "    .dataframe thead th {\n",
       "        text-align: right;\n",
       "    }\n",
       "</style>\n",
       "<table border=\"1\" class=\"dataframe\">\n",
       "  <thead>\n",
       "    <tr style=\"text-align: right;\">\n",
       "      <th></th>\n",
       "      <th>bIndex</th>\n",
       "      <th>pIndex</th>\n",
       "      <th>sIndex</th>\n",
       "      <th>productID</th>\n",
       "      <th>swathID</th>\n",
       "      <th>azimuthTimeMin</th>\n",
       "      <th>azimuthTimeMax</th>\n",
       "    </tr>\n",
       "  </thead>\n",
       "  <tbody>\n",
       "    <tr>\n",
       "      <th>0</th>\n",
       "      <td>1</td>\n",
       "      <td>1</td>\n",
       "      <td>1</td>\n",
       "      <td>S1B_IW_SLC__1ADV_20190805T162509_20190805T1625...</td>\n",
       "      <td>IW1</td>\n",
       "      <td>2019-08-05 16:25:09.836779</td>\n",
       "      <td>2019-08-05 16:25:13.002336</td>\n",
       "    </tr>\n",
       "    <tr>\n",
       "      <th>9</th>\n",
       "      <td>2</td>\n",
       "      <td>1</td>\n",
       "      <td>2</td>\n",
       "      <td>S1B_IW_SLC__1ADV_20190805T162509_20190805T1625...</td>\n",
       "      <td>IW2</td>\n",
       "      <td>2019-08-05 16:25:10.757668</td>\n",
       "      <td>2019-08-05 16:25:13.952003</td>\n",
       "    </tr>\n",
       "    <tr>\n",
       "      <th>18</th>\n",
       "      <td>3</td>\n",
       "      <td>1</td>\n",
       "      <td>3</td>\n",
       "      <td>S1B_IW_SLC__1ADV_20190805T162509_20190805T1625...</td>\n",
       "      <td>IW3</td>\n",
       "      <td>2019-08-05 16:25:11.736113</td>\n",
       "      <td>2019-08-05 16:25:14.930448</td>\n",
       "    </tr>\n",
       "    <tr>\n",
       "      <th>1</th>\n",
       "      <td>4</td>\n",
       "      <td>1</td>\n",
       "      <td>1</td>\n",
       "      <td>S1B_IW_SLC__1ADV_20190805T162509_20190805T1625...</td>\n",
       "      <td>IW1</td>\n",
       "      <td>2019-08-05 16:25:12.570669</td>\n",
       "      <td>2019-08-05 16:25:15.736226</td>\n",
       "    </tr>\n",
       "    <tr>\n",
       "      <th>10</th>\n",
       "      <td>5</td>\n",
       "      <td>1</td>\n",
       "      <td>2</td>\n",
       "      <td>S1B_IW_SLC__1ADV_20190805T162509_20190805T1625...</td>\n",
       "      <td>IW2</td>\n",
       "      <td>2019-08-05 16:25:13.520336</td>\n",
       "      <td>2019-08-05 16:25:16.714671</td>\n",
       "    </tr>\n",
       "  </tbody>\n",
       "</table>\n",
       "</div>"
      ],
      "text/plain": [
       "    bIndex  pIndex  sIndex                                          productID  \\\n",
       "0        1       1       1  S1B_IW_SLC__1ADV_20190805T162509_20190805T1625...   \n",
       "9        2       1       2  S1B_IW_SLC__1ADV_20190805T162509_20190805T1625...   \n",
       "18       3       1       3  S1B_IW_SLC__1ADV_20190805T162509_20190805T1625...   \n",
       "1        4       1       1  S1B_IW_SLC__1ADV_20190805T162509_20190805T1625...   \n",
       "10       5       1       2  S1B_IW_SLC__1ADV_20190805T162509_20190805T1625...   \n",
       "\n",
       "   swathID             azimuthTimeMin             azimuthTimeMax  \n",
       "0      IW1 2019-08-05 16:25:09.836779 2019-08-05 16:25:13.002336  \n",
       "9      IW2 2019-08-05 16:25:10.757668 2019-08-05 16:25:13.952003  \n",
       "18     IW3 2019-08-05 16:25:11.736113 2019-08-05 16:25:14.930448  \n",
       "1      IW1 2019-08-05 16:25:12.570669 2019-08-05 16:25:15.736226  \n",
       "10     IW2 2019-08-05 16:25:13.520336 2019-08-05 16:25:16.714671  "
      ]
     },
     "execution_count": 17,
     "metadata": {},
     "output_type": "execute_result"
    }
   ],
   "source": [
    "# Example of filtering by time\n",
    "# it gives all the burst\n",
    "from dateutil import parser\n",
    "\n",
    "# if no time is provided then all the burst are selected\n",
    "df = eta_.query_burst()\n",
    "\n",
    "print(f\"Number of bursts: {len(df)}\")\n",
    "df.head()"
   ]
  },
  {
   "cell_type": "code",
   "execution_count": 18,
   "metadata": {},
   "outputs": [
    {
     "name": "stdout",
     "output_type": "stream",
     "text": [
      "Number of bursts: 4\n"
     ]
    },
    {
     "data": {
      "text/html": [
       "<div>\n",
       "<style scoped>\n",
       "    .dataframe tbody tr th:only-of-type {\n",
       "        vertical-align: middle;\n",
       "    }\n",
       "\n",
       "    .dataframe tbody tr th {\n",
       "        vertical-align: top;\n",
       "    }\n",
       "\n",
       "    .dataframe thead th {\n",
       "        text-align: right;\n",
       "    }\n",
       "</style>\n",
       "<table border=\"1\" class=\"dataframe\">\n",
       "  <thead>\n",
       "    <tr style=\"text-align: right;\">\n",
       "      <th></th>\n",
       "      <th>bIndex</th>\n",
       "      <th>pIndex</th>\n",
       "      <th>sIndex</th>\n",
       "      <th>productID</th>\n",
       "      <th>swathID</th>\n",
       "      <th>azimuthTimeMin</th>\n",
       "      <th>azimuthTimeMax</th>\n",
       "    </tr>\n",
       "  </thead>\n",
       "  <tbody>\n",
       "    <tr>\n",
       "      <th>25</th>\n",
       "      <td>24</td>\n",
       "      <td>1</td>\n",
       "      <td>3</td>\n",
       "      <td>S1B_IW_SLC__1ADV_20190805T162509_20190805T1625...</td>\n",
       "      <td>IW3</td>\n",
       "      <td>2019-08-05 16:25:31.017231</td>\n",
       "      <td>2019-08-05 16:25:34.240344</td>\n",
       "    </tr>\n",
       "    <tr>\n",
       "      <th>8</th>\n",
       "      <td>25</td>\n",
       "      <td>1</td>\n",
       "      <td>1</td>\n",
       "      <td>S1B_IW_SLC__1ADV_20190805T162509_20190805T1625...</td>\n",
       "      <td>IW1</td>\n",
       "      <td>2019-08-05 16:25:31.880565</td>\n",
       "      <td>2019-08-05 16:25:35.046122</td>\n",
       "    </tr>\n",
       "    <tr>\n",
       "      <th>17</th>\n",
       "      <td>26</td>\n",
       "      <td>1</td>\n",
       "      <td>2</td>\n",
       "      <td>S1B_IW_SLC__1ADV_20190805T162509_20190805T1625...</td>\n",
       "      <td>IW2</td>\n",
       "      <td>2019-08-05 16:25:32.830232</td>\n",
       "      <td>2019-08-05 16:25:36.024566</td>\n",
       "    </tr>\n",
       "    <tr>\n",
       "      <th>26</th>\n",
       "      <td>27</td>\n",
       "      <td>1</td>\n",
       "      <td>3</td>\n",
       "      <td>S1B_IW_SLC__1ADV_20190805T162509_20190805T1625...</td>\n",
       "      <td>IW3</td>\n",
       "      <td>2019-08-05 16:25:33.779899</td>\n",
       "      <td>2019-08-05 16:25:36.974233</td>\n",
       "    </tr>\n",
       "  </tbody>\n",
       "</table>\n",
       "</div>"
      ],
      "text/plain": [
       "    bIndex  pIndex  sIndex                                          productID  \\\n",
       "25      24       1       3  S1B_IW_SLC__1ADV_20190805T162509_20190805T1625...   \n",
       "8       25       1       1  S1B_IW_SLC__1ADV_20190805T162509_20190805T1625...   \n",
       "17      26       1       2  S1B_IW_SLC__1ADV_20190805T162509_20190805T1625...   \n",
       "26      27       1       3  S1B_IW_SLC__1ADV_20190805T162509_20190805T1625...   \n",
       "\n",
       "   swathID             azimuthTimeMin             azimuthTimeMax  \n",
       "25     IW3 2019-08-05 16:25:31.017231 2019-08-05 16:25:34.240344  \n",
       "8      IW1 2019-08-05 16:25:31.880565 2019-08-05 16:25:35.046122  \n",
       "17     IW2 2019-08-05 16:25:32.830232 2019-08-05 16:25:36.024566  \n",
       "26     IW3 2019-08-05 16:25:33.779899 2019-08-05 16:25:36.974233  "
      ]
     },
     "execution_count": 18,
     "metadata": {},
     "output_type": "execute_result"
    }
   ],
   "source": [
    "# it is possible to reduce the selection by  start time\n",
    "# in this case the stop time is the last available burst\n",
    "first_time = parser.parse('2019-08-05T16:25:30.117898')\n",
    "df = eta_.query_burst(first_time=first_time)\n",
    "print(f\"Number of bursts: {len(df)}\")\n",
    "df.head()"
   ]
  },
  {
   "cell_type": "code",
   "execution_count": 19,
   "metadata": {},
   "outputs": [
    {
     "name": "stdout",
     "output_type": "stream",
     "text": [
      "Number of bursts: 8\n"
     ]
    },
    {
     "data": {
      "text/html": [
       "<div>\n",
       "<style scoped>\n",
       "    .dataframe tbody tr th:only-of-type {\n",
       "        vertical-align: middle;\n",
       "    }\n",
       "\n",
       "    .dataframe tbody tr th {\n",
       "        vertical-align: top;\n",
       "    }\n",
       "\n",
       "    .dataframe thead th {\n",
       "        text-align: right;\n",
       "    }\n",
       "</style>\n",
       "<table border=\"1\" class=\"dataframe\">\n",
       "  <thead>\n",
       "    <tr style=\"text-align: right;\">\n",
       "      <th></th>\n",
       "      <th>bIndex</th>\n",
       "      <th>pIndex</th>\n",
       "      <th>sIndex</th>\n",
       "      <th>productID</th>\n",
       "      <th>swathID</th>\n",
       "      <th>azimuthTimeMin</th>\n",
       "      <th>azimuthTimeMax</th>\n",
       "    </tr>\n",
       "  </thead>\n",
       "  <tbody>\n",
       "    <tr>\n",
       "      <th>0</th>\n",
       "      <td>1</td>\n",
       "      <td>1</td>\n",
       "      <td>1</td>\n",
       "      <td>S1B_IW_SLC__1ADV_20190805T162509_20190805T1625...</td>\n",
       "      <td>IW1</td>\n",
       "      <td>2019-08-05 16:25:09.836779</td>\n",
       "      <td>2019-08-05 16:25:13.002336</td>\n",
       "    </tr>\n",
       "    <tr>\n",
       "      <th>9</th>\n",
       "      <td>2</td>\n",
       "      <td>1</td>\n",
       "      <td>2</td>\n",
       "      <td>S1B_IW_SLC__1ADV_20190805T162509_20190805T1625...</td>\n",
       "      <td>IW2</td>\n",
       "      <td>2019-08-05 16:25:10.757668</td>\n",
       "      <td>2019-08-05 16:25:13.952003</td>\n",
       "    </tr>\n",
       "    <tr>\n",
       "      <th>18</th>\n",
       "      <td>3</td>\n",
       "      <td>1</td>\n",
       "      <td>3</td>\n",
       "      <td>S1B_IW_SLC__1ADV_20190805T162509_20190805T1625...</td>\n",
       "      <td>IW3</td>\n",
       "      <td>2019-08-05 16:25:11.736113</td>\n",
       "      <td>2019-08-05 16:25:14.930448</td>\n",
       "    </tr>\n",
       "    <tr>\n",
       "      <th>1</th>\n",
       "      <td>4</td>\n",
       "      <td>1</td>\n",
       "      <td>1</td>\n",
       "      <td>S1B_IW_SLC__1ADV_20190805T162509_20190805T1625...</td>\n",
       "      <td>IW1</td>\n",
       "      <td>2019-08-05 16:25:12.570669</td>\n",
       "      <td>2019-08-05 16:25:15.736226</td>\n",
       "    </tr>\n",
       "    <tr>\n",
       "      <th>10</th>\n",
       "      <td>5</td>\n",
       "      <td>1</td>\n",
       "      <td>2</td>\n",
       "      <td>S1B_IW_SLC__1ADV_20190805T162509_20190805T1625...</td>\n",
       "      <td>IW2</td>\n",
       "      <td>2019-08-05 16:25:13.520336</td>\n",
       "      <td>2019-08-05 16:25:16.714671</td>\n",
       "    </tr>\n",
       "  </tbody>\n",
       "</table>\n",
       "</div>"
      ],
      "text/plain": [
       "    bIndex  pIndex  sIndex                                          productID  \\\n",
       "0        1       1       1  S1B_IW_SLC__1ADV_20190805T162509_20190805T1625...   \n",
       "9        2       1       2  S1B_IW_SLC__1ADV_20190805T162509_20190805T1625...   \n",
       "18       3       1       3  S1B_IW_SLC__1ADV_20190805T162509_20190805T1625...   \n",
       "1        4       1       1  S1B_IW_SLC__1ADV_20190805T162509_20190805T1625...   \n",
       "10       5       1       2  S1B_IW_SLC__1ADV_20190805T162509_20190805T1625...   \n",
       "\n",
       "   swathID             azimuthTimeMin             azimuthTimeMax  \n",
       "0      IW1 2019-08-05 16:25:09.836779 2019-08-05 16:25:13.002336  \n",
       "9      IW2 2019-08-05 16:25:10.757668 2019-08-05 16:25:13.952003  \n",
       "18     IW3 2019-08-05 16:25:11.736113 2019-08-05 16:25:14.930448  \n",
       "1      IW1 2019-08-05 16:25:12.570669 2019-08-05 16:25:15.736226  \n",
       "10     IW2 2019-08-05 16:25:13.520336 2019-08-05 16:25:16.714671  "
      ]
     },
     "execution_count": 19,
     "metadata": {},
     "output_type": "execute_result"
    }
   ],
   "source": [
    "# it is possible to reduce the selection by the stop time\n",
    "# in this case the start time is the first available burst\n",
    "last_time =  parser.parse('2019-08-05T16:25:20.117899')\n",
    "df = eta_.query_burst(last_time=last_time)\n",
    "print(f\"Number of bursts: {len(df)}\")\n",
    "df.head()"
   ]
  },
  {
   "cell_type": "code",
   "execution_count": 20,
   "metadata": {},
   "outputs": [
    {
     "name": "stdout",
     "output_type": "stream",
     "text": [
      "Number of bursts: 1\n"
     ]
    },
    {
     "data": {
      "text/html": [
       "<div>\n",
       "<style scoped>\n",
       "    .dataframe tbody tr th:only-of-type {\n",
       "        vertical-align: middle;\n",
       "    }\n",
       "\n",
       "    .dataframe tbody tr th {\n",
       "        vertical-align: top;\n",
       "    }\n",
       "\n",
       "    .dataframe thead th {\n",
       "        text-align: right;\n",
       "    }\n",
       "</style>\n",
       "<table border=\"1\" class=\"dataframe\">\n",
       "  <thead>\n",
       "    <tr style=\"text-align: right;\">\n",
       "      <th></th>\n",
       "      <th>bIndex</th>\n",
       "      <th>pIndex</th>\n",
       "      <th>sIndex</th>\n",
       "      <th>productID</th>\n",
       "      <th>swathID</th>\n",
       "      <th>azimuthTimeMin</th>\n",
       "      <th>azimuthTimeMax</th>\n",
       "    </tr>\n",
       "  </thead>\n",
       "  <tbody>\n",
       "    <tr>\n",
       "      <th>23</th>\n",
       "      <td>18</td>\n",
       "      <td>1</td>\n",
       "      <td>3</td>\n",
       "      <td>S1B_IW_SLC__1ADV_20190805T162509_20190805T1625...</td>\n",
       "      <td>IW3</td>\n",
       "      <td>2019-08-05 16:25:25.520674</td>\n",
       "      <td>2019-08-05 16:25:28.715008</td>\n",
       "    </tr>\n",
       "  </tbody>\n",
       "</table>\n",
       "</div>"
      ],
      "text/plain": [
       "    bIndex  pIndex  sIndex                                          productID  \\\n",
       "23      18       1       3  S1B_IW_SLC__1ADV_20190805T162509_20190805T1625...   \n",
       "\n",
       "   swathID             azimuthTimeMin             azimuthTimeMax  \n",
       "23     IW3 2019-08-05 16:25:25.520674 2019-08-05 16:25:28.715008  "
      ]
     },
     "execution_count": 20,
     "metadata": {},
     "output_type": "execute_result"
    }
   ],
   "source": [
    "# it is possible to reduce the selection by the start and stop time\n",
    "first_time = parser.parse('2019-08-05T16:25:25.117898')\n",
    "last_time =  parser.parse('2019-08-05T16:25:29.117899')\n",
    "\n",
    "# query the catalogues for of all the swaths\n",
    "df = eta_.query_burst(first_time=first_time, last_time=last_time)\n",
    "print(f\"Number of bursts: {len(df)}\")\n",
    "df.head()"
   ]
  },
  {
   "cell_type": "markdown",
   "metadata": {},
   "source": [
    "### Selecting by swath (and time)\n",
    "The time selection can be combined with a selection by swath using the __swath__ keyword.\n",
    "If not used all the swath are used"
   ]
  },
  {
   "cell_type": "code",
   "execution_count": 21,
   "metadata": {},
   "outputs": [
    {
     "name": "stdout",
     "output_type": "stream",
     "text": [
      "Number of bursts: 9\n"
     ]
    },
    {
     "data": {
      "text/html": [
       "<div>\n",
       "<style scoped>\n",
       "    .dataframe tbody tr th:only-of-type {\n",
       "        vertical-align: middle;\n",
       "    }\n",
       "\n",
       "    .dataframe tbody tr th {\n",
       "        vertical-align: top;\n",
       "    }\n",
       "\n",
       "    .dataframe thead th {\n",
       "        text-align: right;\n",
       "    }\n",
       "</style>\n",
       "<table border=\"1\" class=\"dataframe\">\n",
       "  <thead>\n",
       "    <tr style=\"text-align: right;\">\n",
       "      <th></th>\n",
       "      <th>bIndex</th>\n",
       "      <th>pIndex</th>\n",
       "      <th>sIndex</th>\n",
       "      <th>productID</th>\n",
       "      <th>swathID</th>\n",
       "      <th>azimuthTimeMin</th>\n",
       "      <th>azimuthTimeMax</th>\n",
       "    </tr>\n",
       "  </thead>\n",
       "  <tbody>\n",
       "    <tr>\n",
       "      <th>0</th>\n",
       "      <td>1</td>\n",
       "      <td>1</td>\n",
       "      <td>1</td>\n",
       "      <td>S1B_IW_SLC__1ADV_20190805T162509_20190805T1625...</td>\n",
       "      <td>IW1</td>\n",
       "      <td>2019-08-05 16:25:09.836779</td>\n",
       "      <td>2019-08-05 16:25:13.002336</td>\n",
       "    </tr>\n",
       "    <tr>\n",
       "      <th>1</th>\n",
       "      <td>4</td>\n",
       "      <td>1</td>\n",
       "      <td>1</td>\n",
       "      <td>S1B_IW_SLC__1ADV_20190805T162509_20190805T1625...</td>\n",
       "      <td>IW1</td>\n",
       "      <td>2019-08-05 16:25:12.570669</td>\n",
       "      <td>2019-08-05 16:25:15.736226</td>\n",
       "    </tr>\n",
       "    <tr>\n",
       "      <th>2</th>\n",
       "      <td>7</td>\n",
       "      <td>1</td>\n",
       "      <td>1</td>\n",
       "      <td>S1B_IW_SLC__1ADV_20190805T162509_20190805T1625...</td>\n",
       "      <td>IW1</td>\n",
       "      <td>2019-08-05 16:25:15.333337</td>\n",
       "      <td>2019-08-05 16:25:18.498893</td>\n",
       "    </tr>\n",
       "    <tr>\n",
       "      <th>3</th>\n",
       "      <td>10</td>\n",
       "      <td>1</td>\n",
       "      <td>1</td>\n",
       "      <td>S1B_IW_SLC__1ADV_20190805T162509_20190805T1625...</td>\n",
       "      <td>IW1</td>\n",
       "      <td>2019-08-05 16:25:18.096004</td>\n",
       "      <td>2019-08-05 16:25:21.261561</td>\n",
       "    </tr>\n",
       "    <tr>\n",
       "      <th>4</th>\n",
       "      <td>13</td>\n",
       "      <td>1</td>\n",
       "      <td>1</td>\n",
       "      <td>S1B_IW_SLC__1ADV_20190805T162509_20190805T1625...</td>\n",
       "      <td>IW1</td>\n",
       "      <td>2019-08-05 16:25:20.858672</td>\n",
       "      <td>2019-08-05 16:25:24.024229</td>\n",
       "    </tr>\n",
       "    <tr>\n",
       "      <th>5</th>\n",
       "      <td>16</td>\n",
       "      <td>1</td>\n",
       "      <td>1</td>\n",
       "      <td>S1B_IW_SLC__1ADV_20190805T162509_20190805T1625...</td>\n",
       "      <td>IW1</td>\n",
       "      <td>2019-08-05 16:25:23.621340</td>\n",
       "      <td>2019-08-05 16:25:26.786896</td>\n",
       "    </tr>\n",
       "    <tr>\n",
       "      <th>6</th>\n",
       "      <td>19</td>\n",
       "      <td>1</td>\n",
       "      <td>1</td>\n",
       "      <td>S1B_IW_SLC__1ADV_20190805T162509_20190805T1625...</td>\n",
       "      <td>IW1</td>\n",
       "      <td>2019-08-05 16:25:26.355230</td>\n",
       "      <td>2019-08-05 16:25:29.549564</td>\n",
       "    </tr>\n",
       "    <tr>\n",
       "      <th>7</th>\n",
       "      <td>22</td>\n",
       "      <td>1</td>\n",
       "      <td>1</td>\n",
       "      <td>S1B_IW_SLC__1ADV_20190805T162509_20190805T1625...</td>\n",
       "      <td>IW1</td>\n",
       "      <td>2019-08-05 16:25:29.117897</td>\n",
       "      <td>2019-08-05 16:25:32.283454</td>\n",
       "    </tr>\n",
       "    <tr>\n",
       "      <th>8</th>\n",
       "      <td>25</td>\n",
       "      <td>1</td>\n",
       "      <td>1</td>\n",
       "      <td>S1B_IW_SLC__1ADV_20190805T162509_20190805T1625...</td>\n",
       "      <td>IW1</td>\n",
       "      <td>2019-08-05 16:25:31.880565</td>\n",
       "      <td>2019-08-05 16:25:35.046122</td>\n",
       "    </tr>\n",
       "  </tbody>\n",
       "</table>\n",
       "</div>"
      ],
      "text/plain": [
       "   bIndex  pIndex  sIndex                                          productID  \\\n",
       "0       1       1       1  S1B_IW_SLC__1ADV_20190805T162509_20190805T1625...   \n",
       "1       4       1       1  S1B_IW_SLC__1ADV_20190805T162509_20190805T1625...   \n",
       "2       7       1       1  S1B_IW_SLC__1ADV_20190805T162509_20190805T1625...   \n",
       "3      10       1       1  S1B_IW_SLC__1ADV_20190805T162509_20190805T1625...   \n",
       "4      13       1       1  S1B_IW_SLC__1ADV_20190805T162509_20190805T1625...   \n",
       "5      16       1       1  S1B_IW_SLC__1ADV_20190805T162509_20190805T1625...   \n",
       "6      19       1       1  S1B_IW_SLC__1ADV_20190805T162509_20190805T1625...   \n",
       "7      22       1       1  S1B_IW_SLC__1ADV_20190805T162509_20190805T1625...   \n",
       "8      25       1       1  S1B_IW_SLC__1ADV_20190805T162509_20190805T1625...   \n",
       "\n",
       "  swathID             azimuthTimeMin             azimuthTimeMax  \n",
       "0     IW1 2019-08-05 16:25:09.836779 2019-08-05 16:25:13.002336  \n",
       "1     IW1 2019-08-05 16:25:12.570669 2019-08-05 16:25:15.736226  \n",
       "2     IW1 2019-08-05 16:25:15.333337 2019-08-05 16:25:18.498893  \n",
       "3     IW1 2019-08-05 16:25:18.096004 2019-08-05 16:25:21.261561  \n",
       "4     IW1 2019-08-05 16:25:20.858672 2019-08-05 16:25:24.024229  \n",
       "5     IW1 2019-08-05 16:25:23.621340 2019-08-05 16:25:26.786896  \n",
       "6     IW1 2019-08-05 16:25:26.355230 2019-08-05 16:25:29.549564  \n",
       "7     IW1 2019-08-05 16:25:29.117897 2019-08-05 16:25:32.283454  \n",
       "8     IW1 2019-08-05 16:25:31.880565 2019-08-05 16:25:35.046122  "
      ]
     },
     "execution_count": 21,
     "metadata": {},
     "output_type": "execute_result"
    }
   ],
   "source": [
    "first_time = parser.parse('2019-08-05T16:25:00.117898')\n",
    "last_time =  parser.parse('2019-08-05T16:25:40.117899')\n",
    "\n",
    "# query the catalogue for a subset of the swaths\n",
    "df = eta_.query_burst(first_time=first_time, last_time=last_time, swath='IW1')\n",
    "print(f\"Number of bursts: {len(df)}\")\n",
    "df"
   ]
  },
  {
   "cell_type": "code",
   "execution_count": 22,
   "metadata": {},
   "outputs": [
    {
     "name": "stdout",
     "output_type": "stream",
     "text": [
      "Number of bursts: 18\n"
     ]
    },
    {
     "data": {
      "text/html": [
       "<div>\n",
       "<style scoped>\n",
       "    .dataframe tbody tr th:only-of-type {\n",
       "        vertical-align: middle;\n",
       "    }\n",
       "\n",
       "    .dataframe tbody tr th {\n",
       "        vertical-align: top;\n",
       "    }\n",
       "\n",
       "    .dataframe thead th {\n",
       "        text-align: right;\n",
       "    }\n",
       "</style>\n",
       "<table border=\"1\" class=\"dataframe\">\n",
       "  <thead>\n",
       "    <tr style=\"text-align: right;\">\n",
       "      <th></th>\n",
       "      <th>bIndex</th>\n",
       "      <th>pIndex</th>\n",
       "      <th>sIndex</th>\n",
       "      <th>productID</th>\n",
       "      <th>swathID</th>\n",
       "      <th>azimuthTimeMin</th>\n",
       "      <th>azimuthTimeMax</th>\n",
       "    </tr>\n",
       "  </thead>\n",
       "  <tbody>\n",
       "    <tr>\n",
       "      <th>0</th>\n",
       "      <td>1</td>\n",
       "      <td>1</td>\n",
       "      <td>1</td>\n",
       "      <td>S1B_IW_SLC__1ADV_20190805T162509_20190805T1625...</td>\n",
       "      <td>IW1</td>\n",
       "      <td>2019-08-05 16:25:09.836779</td>\n",
       "      <td>2019-08-05 16:25:13.002336</td>\n",
       "    </tr>\n",
       "    <tr>\n",
       "      <th>9</th>\n",
       "      <td>2</td>\n",
       "      <td>1</td>\n",
       "      <td>2</td>\n",
       "      <td>S1B_IW_SLC__1ADV_20190805T162509_20190805T1625...</td>\n",
       "      <td>IW2</td>\n",
       "      <td>2019-08-05 16:25:10.757668</td>\n",
       "      <td>2019-08-05 16:25:13.952003</td>\n",
       "    </tr>\n",
       "    <tr>\n",
       "      <th>1</th>\n",
       "      <td>4</td>\n",
       "      <td>1</td>\n",
       "      <td>1</td>\n",
       "      <td>S1B_IW_SLC__1ADV_20190805T162509_20190805T1625...</td>\n",
       "      <td>IW1</td>\n",
       "      <td>2019-08-05 16:25:12.570669</td>\n",
       "      <td>2019-08-05 16:25:15.736226</td>\n",
       "    </tr>\n",
       "    <tr>\n",
       "      <th>10</th>\n",
       "      <td>5</td>\n",
       "      <td>1</td>\n",
       "      <td>2</td>\n",
       "      <td>S1B_IW_SLC__1ADV_20190805T162509_20190805T1625...</td>\n",
       "      <td>IW2</td>\n",
       "      <td>2019-08-05 16:25:13.520336</td>\n",
       "      <td>2019-08-05 16:25:16.714671</td>\n",
       "    </tr>\n",
       "    <tr>\n",
       "      <th>2</th>\n",
       "      <td>7</td>\n",
       "      <td>1</td>\n",
       "      <td>1</td>\n",
       "      <td>S1B_IW_SLC__1ADV_20190805T162509_20190805T1625...</td>\n",
       "      <td>IW1</td>\n",
       "      <td>2019-08-05 16:25:15.333337</td>\n",
       "      <td>2019-08-05 16:25:18.498893</td>\n",
       "    </tr>\n",
       "  </tbody>\n",
       "</table>\n",
       "</div>"
      ],
      "text/plain": [
       "    bIndex  pIndex  sIndex                                          productID  \\\n",
       "0        1       1       1  S1B_IW_SLC__1ADV_20190805T162509_20190805T1625...   \n",
       "9        2       1       2  S1B_IW_SLC__1ADV_20190805T162509_20190805T1625...   \n",
       "1        4       1       1  S1B_IW_SLC__1ADV_20190805T162509_20190805T1625...   \n",
       "10       5       1       2  S1B_IW_SLC__1ADV_20190805T162509_20190805T1625...   \n",
       "2        7       1       1  S1B_IW_SLC__1ADV_20190805T162509_20190805T1625...   \n",
       "\n",
       "   swathID             azimuthTimeMin             azimuthTimeMax  \n",
       "0      IW1 2019-08-05 16:25:09.836779 2019-08-05 16:25:13.002336  \n",
       "9      IW2 2019-08-05 16:25:10.757668 2019-08-05 16:25:13.952003  \n",
       "1      IW1 2019-08-05 16:25:12.570669 2019-08-05 16:25:15.736226  \n",
       "10     IW2 2019-08-05 16:25:13.520336 2019-08-05 16:25:16.714671  \n",
       "2      IW1 2019-08-05 16:25:15.333337 2019-08-05 16:25:18.498893  "
      ]
     },
     "execution_count": 22,
     "metadata": {},
     "output_type": "execute_result"
    }
   ],
   "source": [
    "first_time = parser.parse('2019-08-05T16:25:00.117898')\n",
    "last_time =  parser.parse('2019-08-05T16:25:40.117899')\n",
    "\n",
    "# query the catalogue for a subset of the swaths\n",
    "df = eta_.query_burst(first_time=first_time, last_time=last_time, swath=['IW1', 'IW2'])\n",
    "print(f\"Number of bursts: {len(df)}\")\n",
    "df.head()"
   ]
  },
  {
   "cell_type": "markdown",
   "metadata": {},
   "source": [
    "### Selecting by Sentinel-1 product name (swath and time)\n",
    "The time selection can be combined with a selection by swath using the __product_name__ keyword.\n"
   ]
  },
  {
   "cell_type": "code",
   "execution_count": 23,
   "metadata": {},
   "outputs": [
    {
     "name": "stdout",
     "output_type": "stream",
     "text": [
      "Number of bursts: 9\n"
     ]
    },
    {
     "data": {
      "text/html": [
       "<div>\n",
       "<style scoped>\n",
       "    .dataframe tbody tr th:only-of-type {\n",
       "        vertical-align: middle;\n",
       "    }\n",
       "\n",
       "    .dataframe tbody tr th {\n",
       "        vertical-align: top;\n",
       "    }\n",
       "\n",
       "    .dataframe thead th {\n",
       "        text-align: right;\n",
       "    }\n",
       "</style>\n",
       "<table border=\"1\" class=\"dataframe\">\n",
       "  <thead>\n",
       "    <tr style=\"text-align: right;\">\n",
       "      <th></th>\n",
       "      <th>bIndex</th>\n",
       "      <th>pIndex</th>\n",
       "      <th>sIndex</th>\n",
       "      <th>productID</th>\n",
       "      <th>swathID</th>\n",
       "      <th>azimuthTimeMin</th>\n",
       "      <th>azimuthTimeMax</th>\n",
       "    </tr>\n",
       "  </thead>\n",
       "  <tbody>\n",
       "    <tr>\n",
       "      <th>18</th>\n",
       "      <td>3</td>\n",
       "      <td>1</td>\n",
       "      <td>3</td>\n",
       "      <td>S1B_IW_SLC__1ADV_20190805T162509_20190805T1625...</td>\n",
       "      <td>IW3</td>\n",
       "      <td>2019-08-05 16:25:11.736113</td>\n",
       "      <td>2019-08-05 16:25:14.930448</td>\n",
       "    </tr>\n",
       "    <tr>\n",
       "      <th>19</th>\n",
       "      <td>6</td>\n",
       "      <td>1</td>\n",
       "      <td>3</td>\n",
       "      <td>S1B_IW_SLC__1ADV_20190805T162509_20190805T1625...</td>\n",
       "      <td>IW3</td>\n",
       "      <td>2019-08-05 16:25:14.470003</td>\n",
       "      <td>2019-08-05 16:25:17.693115</td>\n",
       "    </tr>\n",
       "    <tr>\n",
       "      <th>20</th>\n",
       "      <td>9</td>\n",
       "      <td>1</td>\n",
       "      <td>3</td>\n",
       "      <td>S1B_IW_SLC__1ADV_20190805T162509_20190805T1625...</td>\n",
       "      <td>IW3</td>\n",
       "      <td>2019-08-05 16:25:17.232671</td>\n",
       "      <td>2019-08-05 16:25:20.427005</td>\n",
       "    </tr>\n",
       "    <tr>\n",
       "      <th>21</th>\n",
       "      <td>12</td>\n",
       "      <td>1</td>\n",
       "      <td>3</td>\n",
       "      <td>S1B_IW_SLC__1ADV_20190805T162509_20190805T1625...</td>\n",
       "      <td>IW3</td>\n",
       "      <td>2019-08-05 16:25:19.995338</td>\n",
       "      <td>2019-08-05 16:25:23.189673</td>\n",
       "    </tr>\n",
       "    <tr>\n",
       "      <th>22</th>\n",
       "      <td>15</td>\n",
       "      <td>1</td>\n",
       "      <td>3</td>\n",
       "      <td>S1B_IW_SLC__1ADV_20190805T162509_20190805T1625...</td>\n",
       "      <td>IW3</td>\n",
       "      <td>2019-08-05 16:25:22.758006</td>\n",
       "      <td>2019-08-05 16:25:25.952341</td>\n",
       "    </tr>\n",
       "  </tbody>\n",
       "</table>\n",
       "</div>"
      ],
      "text/plain": [
       "    bIndex  pIndex  sIndex                                          productID  \\\n",
       "18       3       1       3  S1B_IW_SLC__1ADV_20190805T162509_20190805T1625...   \n",
       "19       6       1       3  S1B_IW_SLC__1ADV_20190805T162509_20190805T1625...   \n",
       "20       9       1       3  S1B_IW_SLC__1ADV_20190805T162509_20190805T1625...   \n",
       "21      12       1       3  S1B_IW_SLC__1ADV_20190805T162509_20190805T1625...   \n",
       "22      15       1       3  S1B_IW_SLC__1ADV_20190805T162509_20190805T1625...   \n",
       "\n",
       "   swathID             azimuthTimeMin             azimuthTimeMax  \n",
       "18     IW3 2019-08-05 16:25:11.736113 2019-08-05 16:25:14.930448  \n",
       "19     IW3 2019-08-05 16:25:14.470003 2019-08-05 16:25:17.693115  \n",
       "20     IW3 2019-08-05 16:25:17.232671 2019-08-05 16:25:20.427005  \n",
       "21     IW3 2019-08-05 16:25:19.995338 2019-08-05 16:25:23.189673  \n",
       "22     IW3 2019-08-05 16:25:22.758006 2019-08-05 16:25:25.952341  "
      ]
     },
     "execution_count": 23,
     "metadata": {},
     "output_type": "execute_result"
    }
   ],
   "source": [
    "first_time = parser.parse('2019-08-05T16:25:00.117898')\n",
    "last_time =  parser.parse('2019-08-05T16:25:40.117899')\n",
    "\n",
    "# query the catalogue for a subset of the swaths\n",
    "product_name='S1B_IW_SLC__1SDV_20190805T162509_20190805T162536_017453_020D3A_AAAA.SAFE'\n",
    "df = eta_.query_burst(first_time=first_time, last_time=last_time, product_name=product_name, swath=['IW3'])\n",
    "print(f\"Number of bursts: {len(df)}\")\n",
    "df.head()"
   ]
  },
  {
   "cell_type": "markdown",
   "metadata": {},
   "source": [
    "## Use case 2 : Retrieving the corrections\n",
    "The Sentinel1Etad Class allows to access the netcdf product to retrieve the corrections burst by burst\n",
    "```\n",
    "    def get_tropospheric_correction(self, set_auto_mask=False, transpose=True, meter=False):\n",
    "    \n",
    "    def get_ionospheric_correction(self, set_auto_mask=False, transpose=True, meter=False):\n",
    "    \n",
    "    def get_geodetic_correction(self, set_auto_mask=False, transpose=True, meter=False):\n",
    "    \n",
    "    def get_bistatic_correction(self, set_auto_mask=False, transpose=True, meter=False):\n",
    "    \n",
    "    def get_doppler_correction(self, set_auto_mask=False, transpose=True, meter=False):\n",
    "    \n",
    "    def get_fmrate_correction(self, set_auto_mask=False, transpose=True, meter=False):\n",
    "    \n",
    "    def get_sum_correction(self, set_auto_mask=False, transpose=True, meter=False):\n",
    "```"
   ]
  },
  {
   "cell_type": "code",
   "execution_count": 24,
   "metadata": {},
   "outputs": [
    {
     "data": {
      "image/png": "[encoded data removed]",
      "text/plain": [
       "<Figure size 432x288 with 4 Axes>"
      ]
     },
     "metadata": {
      "needs_background": "light"
     },
     "output_type": "display_data"
    }
   ],
   "source": [
    "# First select you burst\n",
    "import matplotlib.pyplot as plt\n",
    "\n",
    "first_time = parser.parse('2019-08-05T16:25:00.117898')\n",
    "last_time =  parser.parse('2019-08-05T16:25:40.117899')\n",
    "\n",
    "# query the catalogue for a subset of the swaths\n",
    "product_name='S1B_IW_SLC__1SDV_20190805T162509_20190805T162536_017453_020D3A_AAAA.SAFE'\n",
    "df = eta_.query_burst(first_time=first_time, last_time=last_time, product_name=product_name)\n",
    "\n",
    "# iterate appropriatly to get the correction desired and concatenate them\n",
    "fig, ax = plt.subplots(nrows=1, ncols=len(df.swathID.unique()))\n",
    "\n",
    "for six, swath_ in enumerate(eta_.iter_swaths(df)):\n",
    "    tropo_correction_all = []\n",
    "    for b, burst_dataset in enumerate(swath_.iter_bursts(df)):\n",
    "        # get the correction wanted in meters\n",
    "        # it returns a dict\n",
    "        tropo_correction = burst_dataset.get_tropospheric_correction(meter=True)\n",
    "        \n",
    "        tropo_correction_all.append(tropo_correction['x'])\n",
    "        \n",
    "    # concatenate\n",
    "    # Note that the concatenation is not correct as it doesn't take into account the burst overlap\n",
    "    tropo_correction_all = np.concatenate(tropo_correction_all)\n",
    "\n",
    "    ysize, xsize = tropo_correction_all.shape\n",
    "\n",
    "    grid_spacing = eta_.grid_spacing\n",
    "    x_axis = np.arange(xsize)*grid_spacing['x']/1000\n",
    "    y_axis = np.arange(ysize)*grid_spacing['y']/1000      \n",
    "\n",
    "    im = ax[six].imshow(tropo_correction_all,extent=[x_axis[0],x_axis[-1], y_axis[0], y_axis[-1]],)\n",
    "    ax[six].set_title(swath_.swath_id)\n",
    "\n",
    "fig.colorbar(im,label=f\"{tropo_correction['name']} correction [{tropo_correction['unit']}]\")\n",
    "plt.show()"
   ]
  },
  {
   "cell_type": "markdown",
   "metadata": {},
   "source": [
    "## Use case 3 : Retrieving the footprints"
   ]
  },
  {
   "cell_type": "code",
   "execution_count": 25,
   "metadata": {},
   "outputs": [
    {
     "data": {
      "image/png": "[encoded data removed]",
      "text/plain": [
       "<Figure size 432x288 with 1 Axes>"
      ]
     },
     "metadata": {
      "needs_background": "light"
     },
     "output_type": "display_data"
    }
   ],
   "source": [
    "import itertools\n",
    "import cartopy.crs as ccrs\n",
    "import cartopy.feature as cfeature\n",
    "from shapely.geometry import Polygon, MultiPolygon\n",
    "\n",
    "\n",
    "def tile_extent(poly, widen_area = 2):\n",
    "    bb = list(poly.bounds)\n",
    "    bb [1:3] = bb [2:0:-1]\n",
    "    bb2 = np.asarray(bb)  + [-widen_area,widen_area,-widen_area,widen_area]\n",
    "    return bb2\n",
    "\n",
    "\n",
    "# get the footprints of the selected bursts\n",
    "swath_polys =[ eta_[swath_].get_footprint() for swath_ in ['IW1', 'IW2', 'IW3'] ]\n",
    "\n",
    "\n",
    "ax = plt.axes(projection=ccrs.PlateCarree())\n",
    "ax.set_extent(tile_extent(MultiPolygon(itertools.chain(*swath_polys))))\n",
    "\n",
    "# Put a background image on for nice sea rendering.\n",
    "ax.stock_img()\n",
    "ax.add_feature(cfeature.LAND)\n",
    "ax.add_feature(cfeature.COASTLINE)\n",
    "for polys in swath_polys:\n",
    "    ax.add_geometries(polys,crs=ccrs.PlateCarree(), alpha=0.8)\n",
    "\n",
    "plt.show()"
   ]
  },
  {
   "cell_type": "code",
   "execution_count": null,
   "metadata": {},
   "outputs": [],
   "source": []
  }
 ],
 "metadata": {
  "kernelspec": {
   "display_name": "Python 3",
   "language": "python",
   "name": "python3"
  },
  "language_info": {
   "codemirror_mode": {
    "name": "ipython",
    "version": 3
   },
   "file_extension": ".py",
   "mimetype": "text/x-python",
   "name": "python",
   "nbconvert_exporter": "python",
   "pygments_lexer": "ipython3",
   "version": "3.7.7"
  },
  "toc-autonumbering": true
 },
 "nbformat": 4,
 "nbformat_minor": 4
}
